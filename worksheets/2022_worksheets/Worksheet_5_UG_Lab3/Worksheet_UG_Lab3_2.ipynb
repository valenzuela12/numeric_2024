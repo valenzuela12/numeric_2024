{
 "cells": [
  {
   "cell_type": "markdown",
   "id": "75703414",
   "metadata": {},
   "source": [
    "Names:"
   ]
  },
  {
   "cell_type": "code",
   "execution_count": 15,
   "id": "ac47936a",
   "metadata": {},
   "outputs": [],
   "source": [
    "# your import statements"
   ]
  },
  {
   "cell_type": "markdown",
   "id": "6d18f30a",
   "metadata": {},
   "source": [
    "## WorkSheet Instructions ##\n",
    "\n",
    "Before you begin you should have read and worked through Lab 3 and done worksheet 4.\n",
    "\n",
    " I recommend that you do this worksheet in a python\n",
    "  notebook and share screen.  This method does mean one person will do the typing.  When complete, email the notebook (preferably as a pdf)\n",
    "  to sallen@eoas.ubc.ca\n",
    "  \n",
    "*This worksheet is based on Question 3 from the lab. Go to the lab and reread starting at \"No-flow boundary conditions\"*"
   ]
  },
  {
   "cell_type": "markdown",
   "id": "092bf325",
   "metadata": {},
   "source": [
    "### Question A ###\n",
    "\n",
    "If we consider the no-flow through the walls boundary condition (Neumann boundary conditions) the matrix is:"
   ]
  },
  {
   "cell_type": "markdown",
   "id": "0d7650b7",
   "metadata": {},
   "source": [
    "$$A_1 = {\\left[\n",
    "          \\begin{array}{ccccccccc}\n",
    "            -2&  2  & & \\dots  & & & & & 0 \\\\\n",
    "            1& {-2} & {1} & {0} & {\\dots} & && &  \\\\\n",
    "            0& {1} & {-2} &  {1} & {0} & {\\dots} & & &  \\\\\n",
    "            & {0} & {1}  & {-2} & {1} & {0} & {\\dots} & &  \\\\\n",
    "            & & & & & & & & \\\\\n",
    "            \\vdots & & & {\\ddots} & {\\ddots} & {\\ddots} & {\\ddots} & {\\ddots} & \\vdots \\\\\n",
    "            & & & & & & & & \\\\\n",
    "            & & & {\\dots} & {0} & {1} & {-2} & {1} & 0 \\\\\n",
    "            & &  & &{\\dots} & {0} & {1} & {-2} & 1 \\\\\n",
    "            0& & & & & \\dots & & 2 & -2 \\\\\n",
    "          \\end{array}\n",
    "        \\right]}\n",
    "$$    "
   ]
  },
  {
   "cell_type": "markdown",
   "id": "a7ff676e",
   "metadata": {},
   "source": [
    "Modify the function below (or modify your function from worksheet 4, to form this Neumann boundary condition matrix and calculate the condition number.  Rename the function!"
   ]
  },
  {
   "cell_type": "code",
   "execution_count": 16,
   "id": "3a9995f2",
   "metadata": {},
   "outputs": [],
   "source": [
    "# function that outputs matrix for a given value of N\n",
    "def dirchlet(N, doprint=False):\n",
    "    \"\"\"\n",
    "    Function to calculate the condition number for the heat equation with\n",
    "    the rod divided into N segments\n",
    "    \n",
    "    :param int N: number of segments \n",
    "\n",
    "    :returns: condition number \n",
    "    :rtype: real\n",
    "    \"\"\"\n",
    "    \n",
    "    # define a zero matrix of the correct size (for N segments, N+1 points)\n",
    "    A = np.zeros((N+1, N+1))\n",
    "    \n",
    "    A[0, 0] = 1\n",
    "    for i in range(1, N):\n",
    "        A[i, i-1] = 1\n",
    "        A[i, i] = -2\n",
    "        A[i, i+1] = 1\n",
    "    A[N, N] = 1\n",
    "    \n",
    "    if doprint:\n",
    "        print (A)\n",
    "    \n",
    "    return np.linalg.cond(A) "
   ]
  },
  {
   "cell_type": "code",
   "execution_count": null,
   "id": "0d62dff3",
   "metadata": {},
   "outputs": [],
   "source": [
    "# Check that matrix looks correct\n",
    "dirchlet(5, doprint=True)"
   ]
  },
  {
   "cell_type": "code",
   "execution_count": null,
   "id": "013c01a5",
   "metadata": {},
   "outputs": [],
   "source": [
    "# cell to calculate the condition number for various N\n",
    "for N in [5, 10, 20, 50]:\n",
    "    print (f'For {N=} the conditions number is {dirchlet(N):.2f}')"
   ]
  },
  {
   "cell_type": "markdown",
   "id": "e8699890",
   "metadata": {},
   "source": [
    "### Question B ###\n",
    "\n",
    "How can we make the discrete Neumann problem solvable? Think in terms of discretizing the solvability conditions.  First condition c), set the final temperature of the rod at some point.\n",
    "\n",
    "So add to your matrix the condition u(center) = constant\n",
    "\n",
    "Plot your results on a log-log plot (that is log condition number versus log N)\n",
    "\n",
    "Also plot N$^2$ on the same plot.\n",
    "\n",
    "How does the condition number for this case depend on N?"
   ]
  },
  {
   "cell_type": "code",
   "execution_count": null,
   "id": "07f2b15f",
   "metadata": {},
   "outputs": [],
   "source": [
    "# modified function"
   ]
  },
  {
   "cell_type": "code",
   "execution_count": null,
   "id": "55d5d85e",
   "metadata": {},
   "outputs": [],
   "source": [
    "# Check that matrix looks correct\n",
    "dirchlet(5, doprint=True)"
   ]
  },
  {
   "cell_type": "code",
   "execution_count": null,
   "id": "4b171eb2",
   "metadata": {
    "scrolled": true
   },
   "outputs": [],
   "source": [
    "# code to do the plot\n",
    "condno = np.zeros(50-5)\n",
    "N = np.arange(5, 50)\n",
    "for index,i in enumerate(N):\n",
    "    condno[index] = dirchlet(i)\n",
    "fig, ax = plt.subplots(1, 1)\n",
    "ax.loglog(N, condno, label='Condition Number')\n",
    "ax.loglog(N, N**2, label='N squared')\n",
    "ax.set_xlabel('N')\n",
    "ax.legend();"
   ]
  },
  {
   "cell_type": "markdown",
   "id": "f501224b",
   "metadata": {},
   "source": [
    "how the condition number varies:...."
   ]
  },
  {
   "cell_type": "markdown",
   "id": "553f7009",
   "metadata": {},
   "source": [
    "### Question C ###\n",
    "\n",
    "Another way to make the discrete Neumann problem solvable is to fix the total heat of the rod.  So include a condition:\n",
    "\n",
    "$$\\frac 1 N \\left( u_0 + u_1 + ... + u_N \\right) = constant $$\n",
    "    \n",
    "Does this change in the matrix make a significant difference in the\n",
    "    condition number?  How does it compare to Part B?  to the Dirchlet conditions?"
   ]
  },
  {
   "cell_type": "code",
   "execution_count": 28,
   "id": "627726e0",
   "metadata": {},
   "outputs": [],
   "source": [
    "# new function that includes integral condition\n"
   ]
  },
  {
   "cell_type": "code",
   "execution_count": null,
   "id": "9faac944",
   "metadata": {},
   "outputs": [],
   "source": [
    "# Check that matrix looks correct\n",
    "dirchlet_sub(5, doprint=True)"
   ]
  },
  {
   "cell_type": "code",
   "execution_count": null,
   "id": "645a1a8a",
   "metadata": {},
   "outputs": [],
   "source": [
    "# cell to calculate the condition number for various N\n",
    "for N in [5, 10, 20, 50]:\n",
    "    print (f'For {N=} the conditions number is {dirchlet_sub(N):.2f}')"
   ]
  },
  {
   "cell_type": "code",
   "execution_count": null,
   "id": "e284f140",
   "metadata": {},
   "outputs": [],
   "source": [
    "# log log plot comparing\n",
    "# code to do the plot\n",
    "condno_sub = np.zeros(50-5)\n",
    "N = np.arange(5, 50)\n",
    "for index,i in enumerate(N):\n",
    "    condno_sub[index] = dirchlet_sub(i)\n",
    "fig, ax = plt.subplots(1, 1)\n",
    "ax.loglog(N, condno, label='Condition Number Initial')\n",
    "ax.loglog(N, condno_sub, label='Condition Number with Substitution')\n",
    "ax.set_xlabel('N')\n",
    "ax.legend();\n"
   ]
  },
  {
   "cell_type": "markdown",
   "id": "96448c59",
   "metadata": {},
   "source": [
    "Concluding statement:"
   ]
  },
  {
   "cell_type": "code",
   "execution_count": null,
   "id": "0abce0e5",
   "metadata": {},
   "outputs": [],
   "source": []
  }
 ],
 "metadata": {
  "kernelspec": {
   "display_name": "Python 3 (ipykernel)",
   "language": "python",
   "name": "python3"
  },
  "language_info": {
   "codemirror_mode": {
    "name": "ipython",
    "version": 3
   },
   "file_extension": ".py",
   "mimetype": "text/x-python",
   "name": "python",
   "nbconvert_exporter": "python",
   "pygments_lexer": "ipython3",
   "version": "3.10.1"
  }
 },
 "nbformat": 4,
 "nbformat_minor": 5
}
