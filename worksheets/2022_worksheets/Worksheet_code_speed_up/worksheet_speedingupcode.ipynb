{
 "cells": [
  {
   "cell_type": "markdown",
   "id": "75703414",
   "metadata": {},
   "source": [
    "Names:"
   ]
  },
  {
   "cell_type": "code",
   "execution_count": 1,
   "id": "b8852734",
   "metadata": {
    "ExecuteTime": {
     "end_time": "2022-02-17T03:46:15.970712Z",
     "start_time": "2022-02-17T03:46:15.834086Z"
    },
    "code_folding": []
   },
   "outputs": [
    {
     "name": "stdout",
     "output_type": "stream",
     "text": [
      "Created `%t` as an alias for `%timeit`.\n",
      "Created `%%t` as an alias for `%%timeit`.\n"
     ]
    }
   ],
   "source": [
    "# Import statements\n",
    "import numpy as np\n",
    "import timeit\n",
    "# using this to time our code accurately\n",
    "%alias_magic t timeit "
   ]
  },
  {
   "cell_type": "markdown",
   "id": "caf19e95",
   "metadata": {},
   "source": [
    "## Some inefficient code"
   ]
  },
  {
   "cell_type": "markdown",
   "id": "c38a7c03",
   "metadata": {},
   "source": [
    "Your goal: speed up the following code as much as possible. \n",
    "Some websites that might help: \n",
    "\n",
    "    https://junye0798.com/post/ten-tricks-to-spedd-up-your-python-codes/\n",
    "    https://towardsdatascience.com/10-ways-to-speed-up-your-python-code-e3d57630b710\n",
    "    "
   ]
  },
  {
   "cell_type": "markdown",
   "id": "59c8c8b0",
   "metadata": {},
   "source": [
    "We'll use a really simple example for this .\n",
    "Imagine that we want to calculate X4 = k_1 * X1 + k_2 * X2 + k_3 * X3 + X2*X3 where X1, X2, and X3 are arrays, and k1, k2 and k3 are constants, and we have three different sets of constants (k1,k2,k3).\n",
    "Your task is to speed this up as much as possible - because some computers may be faster than others, we'll compare the relative speed, not the absolute speed!\n",
    "You will be disqualified if your result is not the same numbers as the original (it does not have to be in the same format), so you should check this."
   ]
  },
  {
   "cell_type": "code",
   "execution_count": 2,
   "id": "a4291f16",
   "metadata": {
    "ExecuteTime": {
     "end_time": "2022-02-17T03:46:15.976299Z",
     "start_time": "2022-02-17T03:46:15.973788Z"
    }
   },
   "outputs": [],
   "source": [
    "# Set up a dictionary to help us with timing\n",
    "seconds_units = {}\n",
    "seconds_units['ns'] = 1E-9\n",
    "seconds_units['us'] = 1E-6\n",
    "seconds_units['ms'] = 1E-3\n"
   ]
  },
  {
   "cell_type": "code",
   "execution_count": 3,
   "id": "f470791c",
   "metadata": {
    "ExecuteTime": {
     "end_time": "2022-02-17T03:46:20.568381Z",
     "start_time": "2022-02-17T03:46:15.978603Z"
    },
    "code_folding": [
     0
    ]
   },
   "outputs": [],
   "source": [
    "%%capture result_pre\n",
    "%%timeit -n100\n",
    "# these 2 magic cells need to be in this order, at the top of the cell. \n",
    "# They run the code below 100 times, time this, and save the output of this time test into result_pre\n",
    "\n",
    "# X1 is all numbers 0 to 1000 in row 1, and all numbers 2000 to 3000 in row 2\n",
    "X1 = [range(0,1000),range(2000,3000)]\n",
    "\n",
    "# X2 is all numbers squared from 1000 to 2000 in row 1, and all numbers squared from 4000 to 5000 in row 2\n",
    "def calc_square(num):\n",
    "    return num**2\n",
    "    \n",
    "squares = []\n",
    "for i in range(1000,2000):\n",
    "    squares.append(calc_square(i))\n",
    "squares2 = []\n",
    "for i in range(4000,5000):\n",
    "    squares2.append(calc_square(i)) \n",
    "X2 = [squares,squares2]\n",
    "\n",
    "# X3 is all integers cubed from 0 to 1000 in row 1 and all integers cubed from -1000 to 0 in row 2\n",
    "def calc_cube(num):\n",
    "    return num**3\n",
    "    \n",
    "cubes = []\n",
    "for i in range(0,1000):\n",
    "    cubes.append(calc_cube(i))\n",
    "cubes2 = []\n",
    "for i in range(-1000,0):\n",
    "    cubes2.append(calc_cube(i)) \n",
    "X3 = [cubes,cubes2]\n",
    "\n",
    "ks = dict()\n",
    "ks['k1'] = (2.5,2.5,2.5)\n",
    "ks['k2'] = (2.3,2.4,2.5)\n",
    "ks['k3'] = (1,4,9)\n",
    "\n",
    "def multiply_values(k,X):\n",
    "    kX = k * X\n",
    "    return(kX)\n",
    "\n",
    "X4_pre = {}\n",
    "# calculate X1 + X2\n",
    "for testcase in range(0,3):\n",
    "    X4_pre[testcase] = []\n",
    "    for ii in range(0,len(X1)):\n",
    "        newvalues = []\n",
    "        for jj in range(0,len(X1[0])):\n",
    "            k1X1 = multiply_values(ks['k1'][testcase],X1[ii][jj])\n",
    "            k2X2 = multiply_values(ks['k2'][testcase],X2[ii][jj])\n",
    "            k3X3 = multiply_values(ks['k3'][testcase],X3[ii][jj])\n",
    "            \n",
    "            X2X3 = multiply_values(X2[ii][jj],X3[ii][jj])\n",
    "            newvalues.append(k1X1 + k2X2 + k3X3 + X2X3)\n",
    "            \n",
    "        X4_pre[testcase].append(newvalues)\n"
   ]
  },
  {
   "cell_type": "code",
   "execution_count": 4,
   "id": "b458363a",
   "metadata": {
    "ExecuteTime": {
     "end_time": "2022-02-17T03:46:20.575042Z",
     "start_time": "2022-02-17T03:46:20.570967Z"
    }
   },
   "outputs": [
    {
     "name": "stdout",
     "output_type": "stream",
     "text": [
      "6.54 ms +- 162 us per loop (mean +- std. dev. of 7 runs, 100 loops each)\n",
      "\n"
     ]
    }
   ],
   "source": [
    "print(result_pre)"
   ]
  },
  {
   "cell_type": "code",
   "execution_count": 5,
   "id": "5ca6007e",
   "metadata": {
    "ExecuteTime": {
     "end_time": "2022-02-17T03:46:20.582783Z",
     "start_time": "2022-02-17T03:46:20.578216Z"
    },
    "code_folding": [
     0
    ]
   },
   "outputs": [
    {
     "name": "stdout",
     "output_type": "stream",
     "text": [
      "6.54 ms\n"
     ]
    }
   ],
   "source": [
    "# print time taken pre speed-up from the values saved by the \"magic\" code in previous cell\n",
    "time_pre = float(str(result_pre).split()[0])\n",
    "units_pre = (str(result_pre).split()[1])\n",
    "\n",
    "print(time_pre, units_pre)\n",
    "# convert units to numerical value\n",
    "time_pre_seconds = time_pre*seconds_units[units_pre]"
   ]
  },
  {
   "cell_type": "code",
   "execution_count": 6,
   "id": "4a5500fc",
   "metadata": {
    "ExecuteTime": {
     "end_time": "2022-02-17T03:46:25.274119Z",
     "start_time": "2022-02-17T03:46:20.585058Z"
    },
    "code_folding": [
     0
    ]
   },
   "outputs": [],
   "source": [
    "%%capture result_post\n",
    "%%timeit -n100\n",
    "# these 2 magic cells need to be in this order, at the top of the cell. \n",
    "# They run the code below 100 times, time this, and save the output of this time test into result_post\n",
    "\n",
    "# Your code here\n",
    "\n",
    "# X1 is all numbers 0 to 1000 in row 1, and all numbers 2000 to 3000 in row 2\n",
    "X1 = [range(0,1000),range(2000,3000)]\n",
    "\n",
    "# X2 is all numbers squared from 1000 to 2000 in row 1, and all numbers squared from 4000 to 5000 in row 2\n",
    "def calc_square(num):\n",
    "    return num**2\n",
    "    \n",
    "squares = []\n",
    "for i in range(1000,2000):\n",
    "    squares.append(calc_square(i))\n",
    "squares2 = []\n",
    "for i in range(4000,5000):\n",
    "    squares2.append(calc_square(i)) \n",
    "X2 = [squares,squares2]\n",
    "\n",
    "# X3 is all integers cubed from 0 to 1000 in row 1 and all integers cubed from -1000 to 0 in row 2\n",
    "def calc_cube(num):\n",
    "    return num**3\n",
    "    \n",
    "cubes = []\n",
    "for i in range(0,1000):\n",
    "    cubes.append(calc_cube(i))\n",
    "cubes2 = []\n",
    "for i in range(-1000,0):\n",
    "    cubes2.append(calc_cube(i)) \n",
    "X3 = [cubes,cubes2]\n",
    "\n",
    "ks = dict()\n",
    "ks['k1'] = (2.5,2.5,2.5)\n",
    "ks['k2'] = (2.3,2.4,2.5)\n",
    "ks['k3'] = (1,4,9)\n",
    "\n",
    "def multiply_values(k,X):\n",
    "    kX = k * X\n",
    "    return(kX)\n",
    "\n",
    "X4_post = {}\n",
    "# calculate X1 + X2\n",
    "for testcase in range(0,3):\n",
    "    X4_post[testcase] = []\n",
    "    for ii in range(0,len(X1)):\n",
    "        newvalues = []\n",
    "        for jj in range(0,len(X1[0])):\n",
    "            k1X1 = multiply_values(ks['k1'][testcase],X1[ii][jj])\n",
    "            k2X2 = multiply_values(ks['k2'][testcase],X2[ii][jj])\n",
    "            k3X3 = multiply_values(ks['k3'][testcase],X3[ii][jj])\n",
    "            \n",
    "            X2X3 = multiply_values(X2[ii][jj],X3[ii][jj])\n",
    "            newvalues.append(k1X1 + k2X2 + k3X3 + X2X3)\n",
    "            \n",
    "        X4_post[testcase].append(newvalues)\n",
    "\n",
    "\n"
   ]
  },
  {
   "cell_type": "code",
   "execution_count": 7,
   "id": "01ad58be",
   "metadata": {
    "ExecuteTime": {
     "end_time": "2022-02-17T03:46:25.280218Z",
     "start_time": "2022-02-17T03:46:25.276386Z"
    }
   },
   "outputs": [
    {
     "name": "stdout",
     "output_type": "stream",
     "text": [
      "6.68 ms +- 70.3 us per loop (mean +- std. dev. of 7 runs, 100 loops each)\n",
      "\n"
     ]
    }
   ],
   "source": [
    "print(result_post)"
   ]
  },
  {
   "cell_type": "code",
   "execution_count": 8,
   "id": "253a24d4",
   "metadata": {
    "ExecuteTime": {
     "end_time": "2022-02-17T03:46:25.288441Z",
     "start_time": "2022-02-17T03:46:25.284115Z"
    },
    "code_folding": [
     0
    ]
   },
   "outputs": [
    {
     "name": "stdout",
     "output_type": "stream",
     "text": [
      "speedup factor =  1.0\n"
     ]
    }
   ],
   "source": [
    "# print time taken pre speed-up from the values saved by the \"magic\" code in previous cell\n",
    "time_post = float(str(result_post).split()[0])\n",
    "units_post = (str(result_post).split()[1])\n",
    "\n",
    "# convert units to numerical value and calculate speedup factor\n",
    "time_post_seconds = time_post*seconds_units[units_post]\n",
    "speedup = time_pre_seconds/time_post_seconds\n",
    "print(\"speedup factor = \" + \"{:4.1f}\".format(speedup))"
   ]
  },
  {
   "cell_type": "code",
   "execution_count": 9,
   "id": "f9e3ebe3",
   "metadata": {
    "ExecuteTime": {
     "end_time": "2022-02-17T03:46:25.292598Z",
     "start_time": "2022-02-17T03:46:25.290086Z"
    }
   },
   "outputs": [],
   "source": [
    "## Your code to check the results are identical\n",
    "# You will have to take the code out of the magic \"timeit\" cells to save X4_pre and X4_post to accessible variables"
   ]
  },
  {
   "cell_type": "code",
   "execution_count": null,
   "id": "debbc3ba",
   "metadata": {},
   "outputs": [],
   "source": []
  }
 ],
 "metadata": {
  "kernelspec": {
   "display_name": "Python 3 (ipykernel)",
   "language": "python",
   "name": "python3"
  },
  "language_info": {
   "codemirror_mode": {
    "name": "ipython",
    "version": 3
   },
   "file_extension": ".py",
   "mimetype": "text/x-python",
   "name": "python",
   "nbconvert_exporter": "python",
   "pygments_lexer": "ipython3",
   "version": "3.10.2"
  },
  "toc": {
   "base_numbering": 1,
   "nav_menu": {},
   "number_sections": true,
   "sideBar": true,
   "skip_h1_title": false,
   "title_cell": "Table of Contents",
   "title_sidebar": "Contents",
   "toc_cell": false,
   "toc_position": {},
   "toc_section_display": true,
   "toc_window_display": true
  }
 },
 "nbformat": 4,
 "nbformat_minor": 5
}
