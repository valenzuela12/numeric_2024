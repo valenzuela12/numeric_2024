{
 "cells": [
  {
   "cell_type": "markdown",
   "id": "e9845c07-b2d0-4e5b-bc8e-a51db7bfda4b",
   "metadata": {},
   "source": [
    "Names:"
   ]
  },
  {
   "cell_type": "code",
   "execution_count": null,
   "id": "96604982-b6ce-428b-8602-f13f9da8a7b8",
   "metadata": {},
   "outputs": [],
   "source": [
    "# your import statements"
   ]
  },
  {
   "cell_type": "markdown",
   "id": "bc43dc64-a4d7-4378-9c56-f96fd2863992",
   "metadata": {},
   "source": [
    "## WorkSheet Instructions ##\n",
    "\n",
    "Before you begin you should have read and worked through Lab 4.\n",
    "\n",
    " I recommend that you do this worksheet in a python\n",
    "  notebook and share screen.  This method does mean one person will do the typing.  When complete, print or Latex to pdf and upload to CANVAS.\n",
    "  "
   ]
  },
  {
   "cell_type": "markdown",
   "id": "fe75bdba-e0b4-43eb-83aa-2b5fd4d6a97c",
   "metadata": {},
   "source": [
    "Q1. From the following tableau, which includes an embedded higher-order Runge Kutta, write out the equations for the Runge-Kutta method (including all k terms, and the term for $y_{n+1}$ for:\n",
    "\n",
    "a. the embedded 4th order scheme\n",
    "\n",
    "b. the 5th order scheme\n",
    "\n",
    "c. an estimate of the truncation error of the 4th order scheme"
   ]
  },
  {
   "cell_type": "markdown",
   "id": "34b61bd7-8534-4f32-b176-ed0f22c3159a",
   "metadata": {},
   "source": [
    "$$\n",
    "\\begin{array}{|c|c|cccccc|c|c|} \\hline\n",
    "i & a_i & {b_{ij}} & & & & &  & c_i & c^*_i \\\\ \\hline\n",
    "1 &  &  &  &  & &  &  & \\frac{37}{378} & \\frac{2825}{27648}\\\\\n",
    "2 & \\frac{1}{5} & \\frac{1}{5}&  &  & &  & & 0 &0 \\\\\n",
    "3 & \\frac{3}{10} & \\frac{3}{40}&\\frac{9}{40}&  & & &  &\\frac{250}{621}&\\frac{18575}{48384}\\\\\n",
    "4 &  \\frac{3}{5}&\\frac{3}{10}& -\\frac{9}{10}&\\frac{6}{5}& & &  &\\frac{125}{594}& \\frac{13525}{55296}\\\\\n",
    "5 & 1 & -\\frac{11}{54}&\\frac{5}{2}&-\\frac{70}{27}&\\frac{35}{27}&  &  & 0 & \\frac{277}{14336}\\\\\n",
    "6 &  \\frac{7}{8}&  \\frac{1631}{55296}&  \\frac{175}{512}&\\frac{575}{13824}& \\frac{44275}{110592}& \\frac{253}{4096}&  & \\frac{512}{1771} & \\frac{1}{4}\\\\\\hline\n",
    "{j=} & & 1 & 2 & 3 & 4 & 5 & 6 & & \\\\ \\hline\n",
    "\\end{array}\n",
    "$$"
   ]
  },
  {
   "cell_type": "markdown",
   "id": "cc4e1e96-5a9d-419b-a6f9-5ff882eebca5",
   "metadata": {},
   "source": [
    "Q2. Write out the tableau for Heun’s/Ralston method, described by:\n",
    "$$\n",
    "  \\begin{array}{l}\n",
    "    k_1 =  h f(y_n,t_n)\\\\\n",
    "    k_2 = h f(y_n+\\frac{2}{3}k_1, t_n+\\frac{2}{3}h)\\\\\n",
    "    y_{n+1} = y_n + \\frac{1}{4}k_1 + \\frac{3}{4}k_2\n",
    "  \\end{array}\n",
    "$$\n",
    "\n",
    "*This is part of Problem Tableau from the lab*"
   ]
  },
  {
   "cell_type": "markdown",
   "id": "b698bf16-adc4-4887-8a5f-75251f02f168",
   "metadata": {},
   "source": [
    "Q3. Now we'll revisit the simple un-damped harmonic oscillator (that we first saw in lab 1) with $\\beta = 0$:\n",
    "$$\\frac{d^2 y}{d t^2} = {- \\gamma y}$$\n",
    "\n",
    "re-writing, with $u=dy/dt$. Then:\n",
    "\n",
    "\\begin{align}\n",
    "\\frac{dy}{dt} &= u\\\\\n",
    "\\frac{du}{dt} &= - {\\gamma} y\n",
    "\\end{align}\n",
    "\n",
    "In this un-damped system, the solution is $y = sin(\\sqrt \\gamma t)$ \n",
    "\n",
    "This question will explore using various different methods to solve this equation in time. The following code solves this set of 2 ODEs using the forward Euler method. "
   ]
  },
  {
   "cell_type": "code",
   "execution_count": 2,
   "id": "65c96e18-8a8f-482f-a6cf-1fdb4e6cf5c8",
   "metadata": {},
   "outputs": [],
   "source": [
    "import json\n",
    "import numpy as np\n",
    "from collections import namedtuple\n",
    "\n",
    "# Since we need to keep track of both y, and dy/dt (=u), we will define a 2D array of y:\n",
    "# The first dimension, y[0], will hold successive y values\n",
    "# The second dimension, y[1], will hold successive u values\n",
    "\n",
    "#\n",
    "# specify the derivative function\n",
    "#\n",
    "def derivs_oscillator(coeffs, y):\n",
    "  f=np.empty_like(y) #create a 2 element vector to hold the derivative\n",
    "                     # the first dimension is holding dy/dt\n",
    "                     # the second dimension is holding d2y/dt2 (i.e. du/dt)\n",
    "  f[0]=y[1] # Recall that y[1] = u\n",
    "  f[1]= -1.*coeffs.gm*y[0]\n",
    "  return f\n",
    "\n",
    "# function to step forward one timestep using forward Euler: y_i+1 = y_i + dy/dt_i\n",
    "def euler(coeffs,y,derivs):\n",
    "  ynew=y + coeffs.dt*derivs(coeffs,y)\n",
    "  return ynew\n",
    "\n",
    "# set coefficients including initial conditions:\n",
    "initialVals = {\n",
    "    'yinitial': [0., 1.],\n",
    "    't_beg': 0.,\n",
    "    't_end': 40.,\n",
    "    'dt': 0.1,\n",
    "    'gm': 1.\n",
    "}\n",
    "\n",
    "initvals = namedtuple('initvals',\n",
    "                      'dt gm t_beg t_end yinitial')\n",
    "coeffs = initvals(**initialVals)\n",
    "\n",
    "\n",
    "# create numpy of times\n",
    "time=np.arange(coeffs.t_beg,coeffs.t_end,coeffs.dt)\n",
    "\n",
    "# set initial value of y\n",
    "y=coeffs.yinitial\n",
    "\n",
    "#calculate the number of steps by the length of our time array\n",
    "nsteps=len(time)\n",
    "\n",
    "#\n",
    "# integrate and save the result in array ys\n",
    "#\n",
    "ys_euler=np.empty([nsteps],np.float64)\n",
    "\n",
    "for i in range(nsteps):\n",
    "    # calculate new values of y for each timestep, by passing the derivs_oscillator function as an argument:\n",
    "    y=euler(coeffs,y,derivs_oscillator)\n",
    "    ys_euler[i]=y[0] # we're only saving the first dimension, which is y, not the second dimension, dy/dt = u\n",
    "\n"
   ]
  },
  {
   "cell_type": "markdown",
   "id": "c78c1141-ed5c-481e-9310-17f3234274c4",
   "metadata": {},
   "source": [
    "Q3.1  Plot the resulting y values. Is this behaviour physical? Is this behaviour expected? Why/why not?"
   ]
  },
  {
   "cell_type": "markdown",
   "id": "83f1b976-ca3a-4328-9c24-a4c04a45675d",
   "metadata": {},
   "source": [
    "Q3.2 Now adapt the code provided above to use the mid-point method instead of forward Euler. How does this change the solution? Is this expected?\n",
    "\n",
    "Mid-point method:\n",
    "$$\n",
    "\\begin{aligned}\n",
    "   \\begin{array}{l}\n",
    "    k_1 =  h f(y_n,t_n)\\\\\n",
    "    k_2 = h f(y_n+\\frac{1}{2}k_1, t_n+\\frac{1}{2}h)\\\\\n",
    "    y_{n+1} = y_n + k_2\n",
    "  \\end{array}\n",
    "\\end{aligned}\n",
    "$$ "
   ]
  },
  {
   "cell_type": "markdown",
   "id": "24e832fe-73e4-41a7-bc18-5c6873b2497f",
   "metadata": {},
   "source": [
    "Q3.3 Adapt the code again to use Heun's method, as from Q2. Plot the results, and compare to the forward Euler and mid-point methods. (Compare the errors from the analytical solution)"
   ]
  },
  {
   "cell_type": "markdown",
   "id": "6ace115d-30b0-480b-8f36-a398c44301c6",
   "metadata": {},
   "source": [
    "Heun’s/Ralston method, described by:\n",
    "$$\n",
    "  \\begin{array}{l}\n",
    "    k_1 =  h f(y_n,t_n)\\\\\n",
    "    k_2 = h f(y_n+\\frac{2}{3}k_1, t_n+\\frac{2}{3}h)\\\\\n",
    "    y_{n+1} = y_n + \\frac{1}{4}k_1 + \\frac{3}{4}k_2\n",
    "  \\end{array}\n",
    "$$"
   ]
  },
  {
   "cell_type": "markdown",
   "id": "4739a738-5b39-4361-93a1-587fbf03fcac",
   "metadata": {},
   "source": [
    "Optional Q3.4 - repeat Q3.3 but with a 4th order Runge-Kutta scheme.  "
   ]
  },
  {
   "cell_type": "code",
   "execution_count": null,
   "id": "6eb09357-f05a-4b9b-803b-4c7916aa6d2d",
   "metadata": {},
   "outputs": [],
   "source": []
  }
 ],
 "metadata": {
  "kernelspec": {
   "display_name": "Python 3 (ipykernel)",
   "language": "python",
   "name": "python3"
  },
  "language_info": {
   "codemirror_mode": {
    "name": "ipython",
    "version": 3
   },
   "file_extension": ".py",
   "mimetype": "text/x-python",
   "name": "python",
   "nbconvert_exporter": "python",
   "pygments_lexer": "ipython3",
   "version": "3.12.1"
  }
 },
 "nbformat": 4,
 "nbformat_minor": 5
}
