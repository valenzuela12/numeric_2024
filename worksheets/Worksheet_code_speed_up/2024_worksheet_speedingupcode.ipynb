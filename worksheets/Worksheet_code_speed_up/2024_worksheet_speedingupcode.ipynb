{
 "cells": [
  {
   "cell_type": "markdown",
   "id": "75703414",
   "metadata": {},
   "source": [
    "Names:"
   ]
  },
  {
   "cell_type": "code",
   "execution_count": null,
   "id": "b8852734",
   "metadata": {
    "ExecuteTime": {
     "end_time": "2022-02-17T03:46:15.970712Z",
     "start_time": "2022-02-17T03:46:15.834086Z"
    },
    "code_folding": []
   },
   "outputs": [],
   "source": [
    "# Import statements\n",
    "import numpy as np\n",
    "import timeit # we will be using this to time our code accurately\n",
    "%alias_magic t timeit "
   ]
  },
  {
   "cell_type": "code",
   "execution_count": null,
   "id": "6253a39e-8df8-4677-b371-c9ac713e9731",
   "metadata": {},
   "outputs": [],
   "source": [
    "# Set up a dictionary to deal with units in timeit\n",
    "seconds_units = {}\n",
    "seconds_units['ns'] = 1E-9\n",
    "seconds_units['us'] = 1E-6\n",
    "seconds_units['ms'] = 1E-3"
   ]
  },
  {
   "cell_type": "markdown",
   "id": "6d14b04e-3835-40ab-bc57-58f3788d27c6",
   "metadata": {},
   "source": [
    "# What makes a difference to code speed?"
   ]
  },
  {
   "cell_type": "markdown",
   "id": "172c39d5-6ac8-43e0-9315-1facf4681674",
   "metadata": {},
   "source": [
    "For each of the examples below:\n",
    "1. make an initial guess at which you think will be quicker (A or B (or C), or no difference) - write this down!!\n",
    "2. Run the code and time it - record which is quicker and by how much (a factor, not in microseconds). Was your guess correct or not?"
   ]
  },
  {
   "cell_type": "markdown",
   "id": "aca1af6a-044e-4740-ae4d-ae34a3056555",
   "metadata": {},
   "source": [
    "## Built in functions (and loops) vs writing your own\n",
    "\n",
    "See, e.g. https://docs.python.org/3.7/library/functions.html\n",
    "\n",
    "Many of Python’s built-in functions are written in C."
   ]
  },
  {
   "cell_type": "markdown",
   "id": "dd58ce2c-68a4-4357-8550-b4cda8acb48f",
   "metadata": {},
   "source": [
    "Initial guess: ? will be quicker because ?"
   ]
  },
  {
   "cell_type": "markdown",
   "id": "f08342fe-6954-4d2c-8f72-a9b33204585f",
   "metadata": {},
   "source": [
    "A. Built in function sum, used to sum up all the numbers from 1 to 10000"
   ]
  },
  {
   "cell_type": "code",
   "execution_count": null,
   "id": "84c193a5-9596-4945-964d-7ffafbf4ccaf",
   "metadata": {},
   "outputs": [],
   "source": [
    "%%t -n1000\n",
    "X = sum(range(10000))"
   ]
  },
  {
   "cell_type": "markdown",
   "id": "e2935961-e382-456a-bdd5-86898957b138",
   "metadata": {},
   "source": [
    "B. writing a for loop to sum up all the numbers from 1 to 10000"
   ]
  },
  {
   "cell_type": "code",
   "execution_count": null,
   "id": "3eb55fe5-e0e3-4a55-a554-1236c80f04a5",
   "metadata": {},
   "outputs": [],
   "source": [
    "%%t -n1000\n",
    "X = 0\n",
    "for i in range(10000):\n",
    "    X += i"
   ]
  },
  {
   "cell_type": "markdown",
   "id": "c2d2ee3c-78a7-4e9b-af5e-5f38a7ec53ce",
   "metadata": {},
   "source": [
    "## For loops vs while loops"
   ]
  },
  {
   "cell_type": "code",
   "execution_count": null,
   "id": "a5582020-8a28-4848-bdcb-9c20271a53d3",
   "metadata": {},
   "outputs": [],
   "source": [
    "Initial guess: ? will be quicker because ?"
   ]
  },
  {
   "cell_type": "markdown",
   "id": "38a2bc2e-475f-446d-a653-2a361a6f9982",
   "metadata": {},
   "source": [
    "A. for loop to sum up all numbers from 1 to 1000"
   ]
  },
  {
   "cell_type": "code",
   "execution_count": null,
   "id": "e11f94ff-8ac6-4875-ac0f-f38b86ed010a",
   "metadata": {},
   "outputs": [],
   "source": [
    "%%t -n1000\n",
    "result = 0\n",
    "for i in range(1000):\n",
    "    result += i"
   ]
  },
  {
   "cell_type": "markdown",
   "id": "5624a014-3b15-4e9f-8ed1-b8b19cdd1c62",
   "metadata": {},
   "source": [
    "B. while loop to sum up all numbers from 1 to 1000"
   ]
  },
  {
   "cell_type": "code",
   "execution_count": null,
   "id": "f7fd84e9-fbf0-47fd-b64f-50ea15289ebe",
   "metadata": {},
   "outputs": [],
   "source": [
    "%%t -n1000\n",
    "result = 0\n",
    "i = 0\n",
    "while i < 1000:\n",
    "    result += i\n",
    "    i +=1"
   ]
  },
  {
   "cell_type": "markdown",
   "id": "e3940771-f0e2-4cb0-b61f-359a3e5f6025",
   "metadata": {},
   "source": [
    "## Looping over Function calls"
   ]
  },
  {
   "cell_type": "code",
   "execution_count": null,
   "id": "7222844f-07eb-4c45-8c8e-356c24b6a34c",
   "metadata": {},
   "outputs": [],
   "source": [
    "Initial guess: ? will be quicker because ?"
   ]
  },
  {
   "cell_type": "markdown",
   "id": "0a29b6ae-9053-4abe-8023-b97018c93ec0",
   "metadata": {},
   "source": [
    "A. looping within the function"
   ]
  },
  {
   "cell_type": "code",
   "execution_count": null,
   "id": "0038dbf7-7ca9-46ad-87a8-e7696bff1198",
   "metadata": {},
   "outputs": [],
   "source": [
    "def calc_squares(irange):\n",
    "  squares = []\n",
    "  for i in range(irange):\n",
    "    squares.append(i**2)\n",
    "  return squares"
   ]
  },
  {
   "cell_type": "code",
   "execution_count": null,
   "id": "8a562d97-36dc-4a8c-89d6-033a84657076",
   "metadata": {},
   "outputs": [],
   "source": [
    "%%t -n1000\n",
    "squares = calc_squares(1000)"
   ]
  },
  {
   "cell_type": "markdown",
   "id": "df761838-374c-494c-a3d6-5d399c36e880",
   "metadata": {},
   "source": [
    "B. Looping over function calls"
   ]
  },
  {
   "cell_type": "code",
   "execution_count": null,
   "id": "be8d6deb-8412-461c-a6b7-daed3c109f72",
   "metadata": {},
   "outputs": [],
   "source": [
    "def calc_square(num):\n",
    "    return num**2"
   ]
  },
  {
   "cell_type": "code",
   "execution_count": null,
   "id": "2133cd09-c886-46e3-b80d-f8be665c019d",
   "metadata": {},
   "outputs": [],
   "source": [
    "%%t -n1000    \n",
    "squares = []\n",
    "for i in range(1000):\n",
    "    squares.append(calc_square(i))"
   ]
  },
  {
   "cell_type": "markdown",
   "id": "d65fd9cc-70a8-49ce-9cd9-b3d208d3951b",
   "metadata": {},
   "source": [
    "## Numpy vs standard functions"
   ]
  },
  {
   "cell_type": "markdown",
   "id": "65da483c-290b-470b-8cd1-e21d46d28084",
   "metadata": {},
   "source": [
    "Initial guess: ? will be quickest because ?, ? will be slowest because ?"
   ]
  },
  {
   "cell_type": "markdown",
   "id": "f63a8828-767a-4a64-a004-5120b04552bd",
   "metadata": {},
   "source": [
    "A. python built in function range, used to sum numbers from 1 to 10000"
   ]
  },
  {
   "cell_type": "code",
   "execution_count": null,
   "id": "c6ca3c3a-a345-443a-9f08-2c3d0a7e5dac",
   "metadata": {},
   "outputs": [],
   "source": [
    "%%t -n1000\n",
    "X1 = sum(range(10000))\n"
   ]
  },
  {
   "cell_type": "markdown",
   "id": "9a0b1242-7b7e-4f45-9506-80092df2114f",
   "metadata": {},
   "source": [
    "B. using numpy np.arange to make the array and np.sum to sum it"
   ]
  },
  {
   "cell_type": "code",
   "execution_count": null,
   "id": "486f9d53-f03a-4cae-8778-be36f75426f3",
   "metadata": {},
   "outputs": [],
   "source": [
    "%%t -n1000\n",
    "X2 = np.sum(np.arange(0,10000))"
   ]
  },
  {
   "cell_type": "markdown",
   "id": "3a7000bb-98a6-46a4-83d1-6601f890ac1f",
   "metadata": {},
   "source": [
    "C. Some numpy (np.sum) combined with non-numpy (range)?"
   ]
  },
  {
   "cell_type": "code",
   "execution_count": null,
   "id": "8097c6bb-066a-4aa9-844c-2492dc144b78",
   "metadata": {},
   "outputs": [],
   "source": [
    "%%t -n1000\n",
    "X4 = np.sum(np.array(range(10000)))"
   ]
  },
  {
   "cell_type": "markdown",
   "id": "1b9408ad-39a8-4a05-bf10-ca2b7eba86c4",
   "metadata": {},
   "source": [
    "## Numpy array arthimetic vs looping"
   ]
  },
  {
   "cell_type": "markdown",
   "id": "52c3eb82-611a-4def-9acf-290e24de98ee",
   "metadata": {},
   "source": [
    "Initial guess: ? will be quickest because ?, ? will be slowest because ?"
   ]
  },
  {
   "cell_type": "markdown",
   "id": "b24436d5-b8c1-4c4b-8568-b071337afc7c",
   "metadata": {},
   "source": [
    "A. Looping through numpy arrays to perform array multiplication"
   ]
  },
  {
   "cell_type": "code",
   "execution_count": null,
   "id": "a1af42ac-d611-46fd-8522-2204e6a4b022",
   "metadata": {},
   "outputs": [],
   "source": [
    "%%t -n1000\n",
    "X1 = np.array([np.arange(0,1000),np.arange(-1000,0)])\n",
    "X2 = np.array([np.arange(0,1000)**2,np.arange(-1000,0)**2])\n",
    "X3 = np.zeros(X1.shape)\n",
    "# calculate X1 + X2\n",
    "for ii in range(0,len(X1[:,0])):\n",
    "    for jj in range(0,len(X1[0,:])):\n",
    "        X3[ii,jj] = X1[ii,jj] * X2[ii,jj]"
   ]
  },
  {
   "cell_type": "markdown",
   "id": "12fb0c11-1c12-4b36-ae87-670b3c9ddbb4",
   "metadata": {},
   "source": [
    "B. Using np.multiply"
   ]
  },
  {
   "cell_type": "code",
   "execution_count": null,
   "id": "fb010d25-21cd-4138-9ea9-2664cd0a08ae",
   "metadata": {},
   "outputs": [],
   "source": [
    "%%t -n1000\n",
    "X1 = np.array([np.arange(0,1000),np.arange(-1000,0)])\n",
    "X2 = np.array([np.arange(0,1000)**2,np.arange(-1000,0)**2])\n",
    "# calculate X1 + X2\n",
    "X3_2 = np.multiply(X1,X2)"
   ]
  },
  {
   "cell_type": "code",
   "execution_count": null,
   "id": "1fbfbf97-ba8e-47d4-b9d1-afe6d9639bd7",
   "metadata": {},
   "outputs": [],
   "source": [
    "# Check they actually do give the same result\n",
    "X1 = np.array([np.arange(0,1000),np.arange(-1000,0)])\n",
    "X2 = np.array([np.arange(0,1000)**2,np.arange(-1000,0)**2])\n",
    "\n",
    "X3 = np.zeros(X1.shape)\n",
    "# calculate X1 + X2\n",
    "for ii in range(0,len(X1[:,0])):\n",
    "    for jj in range(0,len(X1[0,:])):\n",
    "        X3[ii,jj] = X1[ii,jj] * X2[ii,jj]\n",
    "        \n",
    "# calculate X1 + X2\n",
    "X3_2 = np.multiply(X1,X2)\n",
    "\n",
    "print(np.amax(X3-X3_2))\n",
    "print(np.sum(X3-X3_2))"
   ]
  },
  {
   "cell_type": "markdown",
   "id": "caf19e95",
   "metadata": {},
   "source": [
    "# Challenge: speed up this inefficient code as much as possible"
   ]
  },
  {
   "cell_type": "markdown",
   "id": "c38a7c03",
   "metadata": {},
   "source": [
    "Your goal: speed up the following code as much as possible. \n",
    "Some websites that might help: \n",
    "\n",
    "    https://junye0798.com/post/ten-tricks-to-spedd-up-your-python-codes/\n",
    "    https://towardsdatascience.com/10-ways-to-speed-up-your-python-code-e3d57630b710\n",
    "    "
   ]
  },
  {
   "cell_type": "markdown",
   "id": "59c8c8b0",
   "metadata": {},
   "source": [
    "We'll use a really simple example for this .\n",
    "Imagine that we want to calculate X4 = k_1 * X1 + k_2 * X2 + k_3 * X3 + X2*X3 where X1, X2, and X3 are arrays, and k1, k2 and k3 are constants, and we have three different sets of constants (k1,k2,k3).\n",
    "Your task is to speed this up as much as possible - because some computers may be faster than others, we'll compare the relative speed, not the absolute speed!\n",
    "You will be disqualified if your result is not the same numbers as the original (it does not have to be in the same format), so you should check this."
   ]
  },
  {
   "cell_type": "markdown",
   "id": "0f1a452c-bb41-45d0-8a0f-1a87f51e99fe",
   "metadata": {},
   "source": [
    "Don't change the code in the following boxes. This is the original code, and we will store the original time it took for comparison to your sped-up code"
   ]
  },
  {
   "cell_type": "code",
   "execution_count": null,
   "id": "f470791c",
   "metadata": {
    "ExecuteTime": {
     "end_time": "2022-02-17T03:46:20.568381Z",
     "start_time": "2022-02-17T03:46:15.978603Z"
    },
    "code_folding": [
     0
    ]
   },
   "outputs": [],
   "source": [
    "%%capture result_pre\n",
    "%%timeit -n100\n",
    "# these 2 magic cells need to be in this order, at the top of the cell. \n",
    "# They run the code below 100 times, time this, and save the output of this time test into result_pre\n",
    "\n",
    "# X1 is all numbers 0 to 1000 in row 1, and all numbers 2000 to 3000 in row 2\n",
    "X1 = [range(0,1000),range(2000,3000)]\n",
    "\n",
    "# X2 is all numbers squared from 1000 to 2000 in row 1, and all numbers squared from 4000 to 5000 in row 2\n",
    "def calc_square(num):\n",
    "    return num**2\n",
    "    \n",
    "squares = []\n",
    "for i in range(1000,2000):\n",
    "    squares.append(calc_square(i))\n",
    "squares2 = []\n",
    "for i in range(4000,5000):\n",
    "    squares2.append(calc_square(i)) \n",
    "X2 = [squares,squares2]\n",
    "\n",
    "# X3 is all integers cubed from 0 to 1000 in row 1 and all integers cubed from -1000 to 0 in row 2\n",
    "def calc_cube(num):\n",
    "    return num**3\n",
    "    \n",
    "cubes = []\n",
    "for i in range(0,1000):\n",
    "    cubes.append(calc_cube(i))\n",
    "cubes2 = []\n",
    "for i in range(-1000,0):\n",
    "    cubes2.append(calc_cube(i)) \n",
    "X3 = [cubes,cubes2]\n",
    "\n",
    "ks = dict()\n",
    "ks['k1'] = (2.5,2.5,2.5)\n",
    "ks['k2'] = (2.3,2.4,2.5)\n",
    "ks['k3'] = (1,4,9)\n",
    "\n",
    "def multiply_values(k,X):\n",
    "    kX = k * X\n",
    "    return(kX)\n",
    "\n",
    "X4_pre = {}\n",
    "# calculate X1 + X2\n",
    "for testcase in range(0,3):\n",
    "    X4_pre[testcase] = []\n",
    "    for ii in range(0,len(X1)):\n",
    "        newvalues = []\n",
    "        for jj in range(0,len(X1[0])):\n",
    "            k1X1 = multiply_values(ks['k1'][testcase],X1[ii][jj])\n",
    "            k2X2 = multiply_values(ks['k2'][testcase],X2[ii][jj])\n",
    "            k3X3 = multiply_values(ks['k3'][testcase],X3[ii][jj])\n",
    "            \n",
    "            X2X3 = multiply_values(X2[ii][jj],X3[ii][jj])\n",
    "            newvalues.append(k1X1 + k2X2 + k3X3 + X2X3)\n",
    "            \n",
    "        X4_pre[testcase].append(newvalues)\n"
   ]
  },
  {
   "cell_type": "code",
   "execution_count": null,
   "id": "b458363a",
   "metadata": {
    "ExecuteTime": {
     "end_time": "2022-02-17T03:46:20.575042Z",
     "start_time": "2022-02-17T03:46:20.570967Z"
    }
   },
   "outputs": [],
   "source": [
    "print(result_pre)"
   ]
  },
  {
   "cell_type": "code",
   "execution_count": null,
   "id": "5ca6007e",
   "metadata": {
    "ExecuteTime": {
     "end_time": "2022-02-17T03:46:20.582783Z",
     "start_time": "2022-02-17T03:46:20.578216Z"
    },
    "code_folding": [
     0
    ]
   },
   "outputs": [],
   "source": [
    "# print time taken pre speed-up from the values saved by the \"magic\" code in previous cell\n",
    "time_pre = float(str(result_pre).split()[0])\n",
    "units_pre = (str(result_pre).split()[1])\n",
    "\n",
    "print(time_pre, units_pre)\n",
    "# convert units to numerical value\n",
    "time_pre_seconds = time_pre*seconds_units[units_pre]"
   ]
  },
  {
   "cell_type": "markdown",
   "id": "1c6c0a84-45aa-4cc1-ad6b-e519fb3adb96",
   "metadata": {},
   "source": [
    "Adapt the code below to speed it up as much as possible. Then use the code in the following cells to see how much quicker it is. "
   ]
  },
  {
   "cell_type": "code",
   "execution_count": null,
   "id": "4a5500fc",
   "metadata": {
    "ExecuteTime": {
     "end_time": "2022-02-17T03:46:25.274119Z",
     "start_time": "2022-02-17T03:46:20.585058Z"
    },
    "code_folding": [
     0
    ]
   },
   "outputs": [],
   "source": [
    "%%capture result_post\n",
    "%%timeit -n100\n",
    "# these 2 magic cells need to be in this order, at the top of the cell. \n",
    "# They run the code below 100 times, time this, and save the output of this time test into result_post\n",
    "\n",
    "# Your code here\n",
    "\n",
    "# X1 is all numbers 0 to 1000 in row 1, and all numbers 2000 to 3000 in row 2\n",
    "X1 = [range(0,1000),range(2000,3000)]\n",
    "\n",
    "# X2 is all numbers squared from 1000 to 2000 in row 1, and all numbers squared from 4000 to 5000 in row 2\n",
    "def calc_square(num):\n",
    "    return num**2\n",
    "    \n",
    "squares = []\n",
    "for i in range(1000,2000):\n",
    "    squares.append(calc_square(i))\n",
    "squares2 = []\n",
    "for i in range(4000,5000):\n",
    "    squares2.append(calc_square(i)) \n",
    "X2 = [squares,squares2]\n",
    "\n",
    "# X3 is all integers cubed from 0 to 1000 in row 1 and all integers cubed from -1000 to 0 in row 2\n",
    "def calc_cube(num):\n",
    "    return num**3\n",
    "    \n",
    "cubes = []\n",
    "for i in range(0,1000):\n",
    "    cubes.append(calc_cube(i))\n",
    "cubes2 = []\n",
    "for i in range(-1000,0):\n",
    "    cubes2.append(calc_cube(i)) \n",
    "X3 = [cubes,cubes2]\n",
    "\n",
    "ks = dict()\n",
    "ks['k1'] = (2.5,2.5,2.5)\n",
    "ks['k2'] = (2.3,2.4,2.5)\n",
    "ks['k3'] = (1,4,9)\n",
    "\n",
    "def multiply_values(k,X):\n",
    "    kX = k * X\n",
    "    return(kX)\n",
    "\n",
    "X4_post = {}\n",
    "# calculate X1 + X2\n",
    "for testcase in range(0,3):\n",
    "    X4_post[testcase] = []\n",
    "    for ii in range(0,len(X1)):\n",
    "        newvalues = []\n",
    "        for jj in range(0,len(X1[0])):\n",
    "            k1X1 = multiply_values(ks['k1'][testcase],X1[ii][jj])\n",
    "            k2X2 = multiply_values(ks['k2'][testcase],X2[ii][jj])\n",
    "            k3X3 = multiply_values(ks['k3'][testcase],X3[ii][jj])\n",
    "            \n",
    "            X2X3 = multiply_values(X2[ii][jj],X3[ii][jj])\n",
    "            newvalues.append(k1X1 + k2X2 + k3X3 + X2X3)\n",
    "            \n",
    "        X4_post[testcase].append(newvalues)\n",
    "\n",
    "\n"
   ]
  },
  {
   "cell_type": "code",
   "execution_count": null,
   "id": "01ad58be",
   "metadata": {
    "ExecuteTime": {
     "end_time": "2022-02-17T03:46:25.280218Z",
     "start_time": "2022-02-17T03:46:25.276386Z"
    }
   },
   "outputs": [],
   "source": [
    "print(result_post)"
   ]
  },
  {
   "cell_type": "code",
   "execution_count": null,
   "id": "253a24d4",
   "metadata": {
    "ExecuteTime": {
     "end_time": "2022-02-17T03:46:25.288441Z",
     "start_time": "2022-02-17T03:46:25.284115Z"
    },
    "code_folding": [
     0
    ]
   },
   "outputs": [],
   "source": [
    "# print time taken pre speed-up from the values saved by the \"magic\" code in previous cell\n",
    "time_post = float(str(result_post).split()[0])\n",
    "units_post = (str(result_post).split()[1])\n",
    "\n",
    "# convert units to numerical value and calculate speedup factor\n",
    "time_post_seconds = time_post*seconds_units[units_post]\n",
    "speedup = time_pre_seconds/time_post_seconds\n",
    "print(\"speedup factor = \" + \"{:4.1f}\".format(speedup))"
   ]
  },
  {
   "cell_type": "code",
   "execution_count": null,
   "id": "f9e3ebe3",
   "metadata": {
    "ExecuteTime": {
     "end_time": "2022-02-17T03:46:25.292598Z",
     "start_time": "2022-02-17T03:46:25.290086Z"
    }
   },
   "outputs": [],
   "source": [
    "## Your code to check the results are identical\n",
    "# You will have to take the code out of the magic \"timeit\" cells to save X4_pre and X4_post to accessible variables"
   ]
  },
  {
   "cell_type": "code",
   "execution_count": null,
   "id": "debbc3ba",
   "metadata": {},
   "outputs": [],
   "source": []
  }
 ],
 "metadata": {
  "kernelspec": {
   "display_name": "Python 3 (ipykernel)",
   "language": "python",
   "name": "python3"
  },
  "language_info": {
   "codemirror_mode": {
    "name": "ipython",
    "version": 3
   },
   "file_extension": ".py",
   "mimetype": "text/x-python",
   "name": "python",
   "nbconvert_exporter": "python",
   "pygments_lexer": "ipython3",
   "version": "3.12.1"
  },
  "toc": {
   "base_numbering": 1,
   "nav_menu": {},
   "number_sections": true,
   "sideBar": true,
   "skip_h1_title": false,
   "title_cell": "Table of Contents",
   "title_sidebar": "Contents",
   "toc_cell": false,
   "toc_position": {},
   "toc_section_display": true,
   "toc_window_display": true
  }
 },
 "nbformat": 4,
 "nbformat_minor": 5
}
