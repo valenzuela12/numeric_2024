{
 "cells": [
  {
   "cell_type": "markdown",
   "id": "db737632-0781-476d-9eec-911499040bbf",
   "metadata": {
    "tags": []
   },
   "source": [
    "### Problem Predator\n",
    "To make life a little more interesting on Daisyworld, add a population of rabbits that feed upon the daisies. The\n",
    "rabbit birth rate will be proportional to the area covered by the daisies while, conversely, the daisy *death rate* will be proportional to the rabbit population.\n",
    "\n",
    "Add another equation to the Daisyworld model which governs the rabbit population and make the appropriate modifications to the existing daisy equations. Modify the set of equations and solve it with the Runge-Kutta method with adaptive timesteps. Use it to look for steady states and to determine their dependence on the initial conditions and model parameters.\n",
    "\n",
    "Hand in notebook cells that:\n",
    "\n",
    "1.  Show your modified Daisyworld equations and your new integrator class.\n",
    "\n",
    "2.  At least one set of parameter values and initial conditions that leads to the steady state and a plot of the timeseries for the daisies and rabbits.\n",
    "\n",
    "3.  A discussion of the steady state’s dependence on these values, i.e. what happens when they are altered. Include a few plots for illustration.\n",
    "\n",
    "4.  Does adding this feedback extend the range of habital L values  for which non-zero populations exist?\n"
   ]
  },
  {
   "cell_type": "markdown",
   "id": "4c94c64e-e5f9-4c5a-b75a-3a0b4efceed9",
   "metadata": {},
   "source": [
    "First, I need to write the equations for the Rabbits population. Therefore, I need to change the Integrator Class:"
   ]
  },
  {
   "cell_type": "code",
   "execution_count": 99,
   "id": "fbb5c90a-0cea-4bc3-890d-ce833ca169a0",
   "metadata": {
    "tags": []
   },
   "outputs": [],
   "source": [
    "#Looking at the predators.yaml file:\n",
    "\n",
    "#timevars:\n",
    "#  dt: 0.05\n",
    "#  tstart: 0.0\n",
    "#  tend: 50.0\n",
    "#uservars:\n",
    "#  albedo_white: 0.75\n",
    "#  chi: 0.3 ----> Death rate of Daisies\n",
    "#  chirabbits: 0.2  ----> Death rate of rabbit (it should be proportional to the Daisies deaths)\n",
    "#  S0: 3668.0\n",
    "#  L: 1.3 --> Strength of the sun\n",
    "#  albedo_black: 0.25\n",
    "#  R: 0.12\n",
    "#  albedo_ground: 0.5\n",
    "#initvars:\n",
    "#  whiteconc: 0.2 --> fraction concentration for white daisies\n",
    "#  blackconc: 0.0 --> fraction concentration for black daisies\n",
    "#  rabbits: number  ----> fraction of rabbits proportional to the amount of Daisies\n",
    "#adaptvars:\n",
    "#  dtpassmin: 0.1\n",
    "#  dtpassmax: 5.0\n",
    "#  dtfailmax: 0.5\n",
    "#  dtfailmin: 0.1\n",
    "#  s: 0.9\n",
    "#  rtol: 1.0e-05\n",
    "#  atol: 1.0e-05\n",
    "#  maxsteps: 2000.0\n",
    "#  maxfail: 60.0"
   ]
  },
  {
   "cell_type": "code",
   "execution_count": 138,
   "id": "1f6c5676-ff51-46e1-a439-479fff642ca3",
   "metadata": {
    "tags": []
   },
   "outputs": [],
   "source": [
    "import context\n",
    "from numlabs.lab5.lab5_funs import Integrator\n",
    "from collections import namedtuple\n",
    "import numpy as np\n",
    "import matplotlib.pyplot as plt\n",
    "#\n",
    "from numlabs.lab5.lab5_funs import Integrator\n",
    "\n",
    "\n",
    "class Integ54(Integrator):\n",
    "    def set_yinit(self):\n",
    "        #        \n",
    "        uservars = namedtuple('uservars', self.config['uservars'].keys())\n",
    "        self.uservars = uservars(**self.config['uservars'])\n",
    "        #        \n",
    "        initvars = namedtuple('initvars', self.config['initvars'].keys())\n",
    "        self.initvars = initvars(**self.config['initvars'])\n",
    "        self.yinit = np.array(\n",
    "            [self.initvars.whiteconc, self.initvars.blackconc, self.initvars.irabbits])\n",
    "        self.nvars = len(self.yinit)\n",
    "        return None\n",
    "\n",
    "    def __init__(self, coeff_file_name):\n",
    "        super().__init__(coeff_file_name)\n",
    "        self.set_yinit()\n",
    "\n",
    "    def find_temp(self, yvals):\n",
    "        sigma = 5.67e-8  # Stefan Boltzman constant W/m^2/K^4\n",
    "        user = self.uservars\n",
    "        bare = 1.0 - yvals[0] - yvals[1]\n",
    "        albedo_p = bare * user.albedo_ground + \\\n",
    "            yvals[0] * user.albedo_white + yvals[1] * user.albedo_black\n",
    "        Te_4 = user.S0 / 4.0 * user.L * (1.0 - albedo_p) / sigma\n",
    "        temp_e = Te_4**0.25\n",
    "        eta = user.R * user.L * user.S0 / (4.0 * sigma)\n",
    "        temp_b = (eta * (albedo_p - user.albedo_black) + Te_4)**0.25\n",
    "        temp_w = (eta * (albedo_p - user.albedo_white) + Te_4)**0.25\n",
    "        return (temp_w, temp_b, temp_e)\n",
    "\n",
    "    def derivs5(self, y, t):\n",
    "        temp_w, temp_b, temp_e = self.find_temp(y)\n",
    "\n",
    "        if (temp_b >= 277.5 and temp_b <= 312.5):\n",
    "            beta_b = 1.0 - 0.003265 * (295.0 - temp_b)**2.0\n",
    "        else:\n",
    "            beta_b = 0.0\n",
    "\n",
    "        if (temp_w >= 277.5 and temp_w <= 312.5):\n",
    "            beta_w = 1.0 - 0.003265 * (295.0 - temp_w)**2.0\n",
    "        else:\n",
    "            beta_w = 0.0\n",
    "        user = self.uservars\n",
    "        bare = 1.0 - y[0] - y[1]\n",
    "        # more rabbits imply less daisies\n",
    "        rabbits = y[0] + y[1] #<--- Fraction of rabbits proportional to the daisies fractions\n",
    "        f = np.empty_like(y)\n",
    "        f[0] = y[0] * (beta_w * bare - (user.chi*(rabbits*(1-user.chirabbits))))\n",
    "        f[1] = y[1] * (beta_b * bare - (user.chi*(rabbits*(1-user.chirabbits))))\n",
    "        f[2] = (rabbits)*(user.chirabbits*((f[0]+f[1])*(1-user.chi))) \n",
    "        return f"
   ]
  },
  {
   "cell_type": "code",
   "execution_count": 139,
   "id": "e2559062-46f2-406c-83f3-d75bdbf9e86a",
   "metadata": {
    "tags": []
   },
   "outputs": [],
   "source": [
    "import pandas as pd\n",
    "theSolver = Integ54('predators.yaml')\n",
    "timevals, yVals, errorList = theSolver.timeloop5Err()\n",
    "\n",
    "yvals = pd.DataFrame.from_records(yVals, columns=['white', 'black', 'rabbits'])"
   ]
  },
  {
   "cell_type": "code",
   "execution_count": 140,
   "id": "ad44f1b6-1524-4e5c-827a-4e6513c97304",
   "metadata": {
    "tags": []
   },
   "outputs": [
    {
     "data": {
      "text/plain": [
       "<matplotlib.legend.Legend at 0x233b5d4af60>"
      ]
     },
     "execution_count": 140,
     "metadata": {},
     "output_type": "execute_result"
    },
    {
     "data": {
      "image/png": "[encoded data removed]",
      "text/plain": [
       "<Figure size 640x480 with 1 Axes>"
      ]
     },
     "metadata": {},
     "output_type": "display_data"
    }
   ],
   "source": [
    "plt.plot(timevals, yvals['white'], label='White')\n",
    "plt.plot(timevals, yvals['black'], label='Black')\n",
    "plt.plot(timevals, yvals['rabbits'], label='Rabbits')\n",
    "plt.xlabel('time')\n",
    "plt.ylabel('fractional coverage')\n",
    "plt.legend()"
   ]
  },
  {
   "cell_type": "code",
   "execution_count": null,
   "id": "4fe3e4cb-b469-4406-8ad6-123bc6e544c1",
   "metadata": {},
   "outputs": [],
   "source": []
  },
  {
   "cell_type": "code",
   "execution_count": null,
   "id": "d29f21ad-d9e2-40cc-a25e-93f9e9a7a6c4",
   "metadata": {},
   "outputs": [],
   "source": []
  }
 ],
 "metadata": {
  "kernelspec": {
   "display_name": "Python 3 (ipykernel)",
   "language": "python",
   "name": "python3"
  },
  "language_info": {
   "codemirror_mode": {
    "name": "ipython",
    "version": 3
   },
   "file_extension": ".py",
   "mimetype": "text/x-python",
   "name": "python",
   "nbconvert_exporter": "python",
   "pygments_lexer": "ipython3",
   "version": "3.12.1"
  }
 },
 "nbformat": 4,
 "nbformat_minor": 5
}
