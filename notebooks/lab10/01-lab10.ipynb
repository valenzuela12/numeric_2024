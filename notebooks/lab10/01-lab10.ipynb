{
 "cells": [
  {
   "cell_type": "markdown",
   "metadata": {},
   "source": [
    "# Laboratory 10: Numerical Advection Schemes #\n",
    "\n",
    "Carmen Guo"
   ]
  },
  {
   "cell_type": "markdown",
   "metadata": {},
   "source": [
    "## Learning Goals ##\n",
    "\n",
    "- Explain why modelling advection is particularly difficult\n",
    "- Explain and contrast diffusion and dispersion\n",
    "- Define positive definite"
   ]
  },
  {
   "cell_type": "markdown",
   "metadata": {},
   "source": [
    "## List of Problems ##\n",
    "\n",
    "- [Problem One](#Problem-One)"
   ]
  },
  {
   "cell_type": "code",
   "execution_count": null,
   "metadata": {},
   "outputs": [],
   "source": [
    "import context\n",
    "from IPython.display import Image\n",
    "import matplotlib.pyplot as plt\n",
    "# make the plots happen inline\n",
    "%matplotlib inline\n",
    "# import the numpy array handling library\n",
    "import numpy as np\n",
    "# import the advection code from the numlabs directory\n",
    "import numlabs.lab10.advection_funs as afs"
   ]
  },
  {
   "cell_type": "markdown",
   "metadata": {},
   "source": [
    "## Advection Process ##\n",
    "\n",
    "The word advection means ‘transfer of heat through the horizontal motion\n",
    "of a flow’. More generally, we will consider a flow of some\n",
    "non-diffusive quantity. For example, consider the wind as a flow and the\n",
    "water vapour in the air as the non-diffusive quantity. Suppose the wind\n",
    "is travelling in the positive x direction, and we are considering the\n",
    "vapour concentration from $x=1$ to $x=80$.\n",
    "\n",
    "Assume that initially the distribution curve of the vapour is Gaussian\n",
    "([Figure Initial Distribution](#fig:initial)). Ideally, the water droplets move at the\n",
    "same speed as that of the air, so the distribution curve retains its\n",
    "initial shape as it travels along the x-axis. This process is described\n",
    "by the following PDE: \n",
    "\n",
    "<a name='eqn:advection'></a>\n",
    "(Advection Eqn)\n",
    "$$\\frac{\\partial c}{\\partial t} + u \\frac{\\partial c}{\\partial x} = 0$$ \n",
    "where $c$ is the concentration of the water\n",
    "vapour, and $u$ is the speed of the wind (assuming the wind is blowing\n",
    "at constant speed)."
   ]
  },
  {
   "cell_type": "code",
   "execution_count": null,
   "metadata": {},
   "outputs": [],
   "source": [
    "Image(filename='images/initial.png',width='60%')"
   ]
  },
  {
   "cell_type": "markdown",
   "metadata": {},
   "source": [
    "<a name='fig:initial'></a>\n",
    "**Figure Initial Distribution:** This is the initial distribution of water vapour concentration.\n",
    "\n",
    "As you will see in the upcoming examples, it is not easy to obtain a\n",
    "satisfactory numerical solution to this PDE."
   ]
  },
  {
   "cell_type": "markdown",
   "metadata": {},
   "source": [
    "## Simple Solution Using Centred Differencing Scheme ##\n",
    "\n",
    "Let’s start off simple and solve the PDE ([Advection Eqn](#eqn:advection)) using\n",
    "centred differences, *i.e.*, by expanding the time and spatial derivatives\n",
    "in the following way:\n",
    "\n",
    "<a name='eqn:centered'></a>\n",
    "(Centered Difference Scheme)\n",
    "$$\\frac{\\partial c}{\\partial t}(x=m dx, t=n dt) =\\frac {c(x=m dx, t=(n+1) dt) - c(x=m dx, t=(n-1) dt)}{2 dt}$$\n",
    "$$\\frac{\\partial c}{\\partial x}(x=m dx, t=n dt)=\\frac {c(x=(m+1) dx, t=n dt) - c(x=(m-1) dx, t=n dt)}{2 dx}$$\n",
    "\n",
    "where $m=2, \\ldots, 79$, and $n=2, \\ldots$. Substitution of the\n",
    "equations into the PDE yields the following recurrence relation:\n",
    "$$c(m, n+1)= c(m, n-1) - u \\frac{dt}{dx} (c(m+1, n) - c(m-1, n))$$\n",
    "\n",
    "The boundary conditions are : $$c(x=1 dx)= c(x=79 dx)$$\n",
    "$$c(x=80 dx)= c(x=2 dx)$$\n",
    "\n",
    "The initial conditions are:\n",
    "$$c(x=n dx) = \\exp( - \\alpha (n dx - \\hbox{offset})^2)$$ \n",
    "where $\\hbox{offset}$ is the location of the peak of the distribution curve.\n",
    "We don’t want the peak to be located near $x=0$ due to the boundary\n",
    "conditions.\n",
    "\n",
    "Now we need the values of $c$ at $t= 1 dt$ to calculate $c$ at\n",
    "$t= 2 dt$, and we will use the Forward Euler scheme to approximate $c$\n",
    "at $t= 1 dt$. \n",
    "So \n",
    "$$\\frac{\\partial c}{\\partial t}(m, 0)= \\frac {c(m, 1) - c(m, 0)}{dt}$$"
   ]
  },
  {
   "cell_type": "markdown",
   "metadata": {},
   "source": [
    "Substitution of the equations into the PDE yields\n",
    "$$c(m, 1) = c(m, 0) - u \\frac{dt}{2 dx}(c(m+1, 0) - c(m-1, 0))$$ \n",
    "where $m=2, \\ldots, 79$. \n",
    "The end points at $t= 1 dt$ can be found using the boundary conditions.\n",
    "\n",
    "The function that computes the numerical solution using this scheme is in\n",
    "*advection_funs.py*. It is a python function *advection(timesteps)*, which takes in\n",
    "the number of time steps as input and plots the distribution curve at 20 time steps.\n",
    "\n",
    "We can see the problem with this scheme just by running the function\n",
    "with 10 time steps ([Figure Distribution with Centered Scheme](#fig:centered)). Following is a plot of\n",
    "the distribution curve at the last time step."
   ]
  },
  {
   "cell_type": "code",
   "execution_count": null,
   "metadata": {},
   "outputs": [],
   "source": [
    "Image(filename='images/centered.png',width='60%')"
   ]
  },
  {
   "cell_type": "markdown",
   "metadata": {},
   "source": [
    "<a name='fig:centered'></a>\n",
    "**Figure Distribution with Centered Scheme:** This is the distribution after 10 time steps approximated using the centred differencing scheme.\n",
    "\n",
    "Comparing this curve with the initial state\n",
    "([Figure Initial Distribution](#fig:initial)), we can see that ripples are produced to\n",
    "the left of the curve which means negative values are generated. But\n",
    "water vapour does not have negative concentrations. The centred\n",
    "differencing scheme does not work well for the advection process because\n",
    "it is not **positive definite**, *i.e.*, it generates negative values which\n",
    "are impossible in real life."
   ]
  },
  {
   "cell_type": "markdown",
   "metadata": {},
   "source": [
    "Another example of using the same scheme"
   ]
  },
  {
   "cell_type": "code",
   "execution_count": null,
   "metadata": {},
   "outputs": [],
   "source": [
    "afs.advection(10, lab_example=True)"
   ]
  },
  {
   "cell_type": "markdown",
   "metadata": {},
   "source": [
    "## Numerical Solution Using Upstream Method ##\n",
    "\n",
    "\n",
    "Let’s see what is wrong with our simple centred differencing scheme. We\n",
    "used centred differences to compute the time and spatial derivatives\n",
    "([Centered Difference Scheme](#eqn:centered)). In other words, $c(x=m dx)$ depends on\n",
    "$c(x=(m-1) dx)$ and $c(x=(m+1) dx)$, and $c(t=n dt)$ depends on\n",
    "$c(t=(n-1) dt)$ and $c(t=(n+1) dt)$. But we know the wind is moving in\n",
    "the positive x direction, so $c(x=m dx)$ should not depend on\n",
    "$c(x=(m+1) dx)$. Therefore, we will change the centred differencing\n",
    "scheme to backward differencing scheme. In other words, we will always\n",
    "be looking ‘upstream’ in the approximation.\n",
    "\n",
    "If we use backward differences to approximate the spatial derivative but\n",
    "continue to use centred differences to approximate the time derivative,\n",
    "we will end up with an unstable scheme. Thus, we will use backward\n",
    "differences for both time and spatial derivatives. Now the time and\n",
    "spatial derivatives are given by:\n",
    "\n",
    "<a name='eqn:upstream'></a>\n",
    "(Upstream Scheme)\n",
    "$$\\frac{\\partial c}{\\partial t}(x=m dx, t=n dt)=\\frac {c(x=m dx, t=n dt) - c(x=m dx, t=(n-1) dt)}{dt}$$\n",
    "$$\\frac{\\partial c}{\\partial x}(x=m dx, t=n dt)=\\frac {c(x=m dx, t=n dt) - c(x=(m-1) dx, t=n dt)}{dx}$$\n",
    "\n",
    "Substitution of the equations into the PDE yields\n",
    "$$c(m, n+1)=c(m, n)- u \\frac{dt}{dx} (c(m, n) - c(m-1, n))$$\n",
    "\n",
    "The boundary conditions and the initial conditions are the same as in\n",
    "the centred differencing scheme. This time we compute $c$ at $t= 1 dt$\n",
    "using backward differences just as with all subsequent time steps.\n",
    "\n",
    "The function that computes the solution using this scheme is in\n",
    "*advection_funs.py*. It is a python function *advection2(timesteps)*, which takes\n",
    "in the number of time steps as input and plots the distribution curve at 20 time steps.\n",
    "\n",
    "Although this scheme is positive definite and conservative (the area\n",
    "under the curve is the same as in the initial state), it introduces a\n",
    "new problem — diffusion. As the time step increases, you can see that\n",
    "the curve becomes wider and lower, *i.e.*, it diffuses quickly\n",
    "([Figure Upstream Distribution](#fig:upstream))."
   ]
  },
  {
   "cell_type": "code",
   "execution_count": null,
   "metadata": {},
   "outputs": [],
   "source": [
    "Image(filename='images/upstream.png',width='60%')"
   ]
  },
  {
   "cell_type": "markdown",
   "metadata": {},
   "source": [
    "<a name='fig:upstream'></a>\n",
    "**Figure Upstream Distribution:**\n",
    "This is the distribution after 60 time steps approximated using the\n",
    "upstream method.\n",
    "\n",
    "But ideally, the curve should retain its original shape as the wave\n",
    "travels along the x-axis, so the upstream method is still not good\n",
    "enough for the advection problem. In the next section, we will present\n",
    "another method that does a better job."
   ]
  },
  {
   "cell_type": "markdown",
   "metadata": {},
   "source": [
    "Another example using the same scheme"
   ]
  },
  {
   "cell_type": "code",
   "execution_count": null,
   "metadata": {},
   "outputs": [],
   "source": [
    "afs.advection2(60, lab_example=True)"
   ]
  },
  {
   "cell_type": "markdown",
   "metadata": {},
   "source": [
    "## A Better Solution ##\n",
    "\n",
    "In previous sections, we were concerned with values at grid points only,\n",
    "ie, values of $c$ at $x= 1dx, 2dx, \\ldots$. But in this section, we will\n",
    "also consider grid boxes each containing a grid point in the centre. For\n",
    "each grid point $j$, the left boundary of the grid box containing $j$ is\n",
    "indexed as $j- 1/2$, and the right boundary as $j+ 1/2$. The scheme\n",
    "presented here was developed by Andreas Bott ([Bott, 1989](#Ref:Bott)).\n",
    "\n",
    "The PDE ([Advection Eqn](#eqn:advection)) is rewritten as :\n",
    "\n",
    "<a name='eqn:FluxForm'></a>\n",
    "(Flux Form Eqn)\n",
    "$$\\frac{\\partial c}{\\partial t} + \\frac{\\partial uc}{\\partial x} = 0$$ \n",
    "where $F= uc$ gives the flux of water vapour.\n",
    "\n",
    "Expand the time derivative using forward differences and the spatial\n",
    "derivative as follows:\n",
    "$$\\frac{\\partial F}{\\partial x}(x=j dx)  = \\frac {F(x= (j+1/2) dx) - F(x= (j-1/2) dx)}{dx}$$\n",
    "where $F(x= j+1/2)$ gives the flux through the right boundary of the\n",
    "grid box $j$. For simplicity, we use the notation $F(x= j+1/2)$ for\n",
    "$F(x= j+1/2, n)$, ie, the flux through the right boundary of the grid\n",
    "box j after $n$ time steps.\n",
    "\n",
    "Substituting the expanded derivatives into the PDE, we obtain the\n",
    "following recurrence formula ($c(m, n)= c(x= m dx, t= n dt)$):\n",
    "$$c(m, n+1)= c(m, n) - \\frac {dt} {dx}(F(m+1/2, n)-F(m-1/2, n))$$\n",
    "\n",
    "Since flux is defined as the amount flowing through per unit time, we\n",
    "need to calculate the portion of the distribution curve in each grid box\n",
    "that passes the right boundary after $dt$"
   ]
  },
  {
   "cell_type": "code",
   "execution_count": null,
   "metadata": {},
   "outputs": [],
   "source": [
    "Image(filename='images/flux.png',width='60%')"
   ]
  },
  {
   "cell_type": "markdown",
   "metadata": {},
   "source": [
    "<a name='fig:flux'></a>\n",
    "**Figure Amount Leaving Grid:**\n",
    "After $dt$, the shaded area will be past the right boundary of the\n",
    "grid box $j$.\n",
    "\n",
    "As ([Figure Amount Leaving Grid](#fig:flux)) shows, the distribution curve in grid box $j$\n",
    "has travelled a distance of ${u dt}$ after each time step; in other\n",
    "words, the curve has moved $u dt/dx$ of a grid space within a time unit.\n",
    "The shaded region is the portion of the vapour that passes the right\n",
    "boundary of grid box $j$ within $dt$. We can use integration to find out\n",
    "the area of the shaded region and then divide the result by $dt$ to get\n",
    "$F(j+1/2)$.\n",
    "\n",
    "Since we only know $c$ at the grid point $j$, we are going to use\n",
    "polynomial interpolation techniques to approximate $c$ at other points\n",
    "in the grid box. We define $c$ in grid box $j$ with a polynomial of\n",
    "order $l$ as follows:\n",
    "\n",
    "$$c _{j, \\ell}(x^\\prime) = \\sum _{k=0} ^{\\ell} a _{j, k} x ^{\\prime k}$$ \n",
    "where $x^\\prime = (x- x_j)/dx$ and $-1/2 \\le x^\\prime \\le \\ell/2$. \n",
    "\n",
    "The\n",
    "coefficients $a _{j, k}$ are obtained by interpolating the curve with\n",
    "the aid of neighbouring grid points. We will skip the detail of the\n",
    "interpolation process. Values of $a _{j, k}$ for $\\ell=0, 1, \\ldots, 4$\n",
    "have been computed and are summarised in Tables\n",
    "[Table $\\ell=0$](#tab:ell0), [Table $\\ell=1$](#tab:ell1), [Table $\\ell=2$](#tab:ell2), [Table $\\ell=3$](#tab:ell3) and\n",
    "[Table $\\ell=4$](#tab:ell4),"
   ]
  },
  {
   "cell_type": "markdown",
   "metadata": {},
   "source": [
    "<a name='tab:ell0'></a>\n",
    "**Table $\\ell = 0$:**\n",
    "\n",
    "|.............|................|\n",
    "| :-------------: | :-----------------: |\n",
    "| $k=0$     | $a_{j,0}=c_j$ |\n",
    "\n",
    "<a name='tab:ell1'></a>\n",
    "**Table $\\ell = 1$:** two representations\n",
    "\n",
    "|.............|............................|\n",
    "| :-------------: | :-----------------: |\n",
    "| $k=0$           |  $a_{j,0}= c_j$ |\n",
    "| $k=1$           |  $a_{j, 1}= c_{j+1} - c_j$ |\n",
    "\n",
    "|.............|............................|\n",
    "| :-------------: | :-----------------: |\n",
    "|  $k=0$          |  $a_{j,0}= c_j$ |\n",
    "|  $k=1$          |  $a_{j, 1}= c_j-c_{j-1}$ |\n",
    "  "
   ]
  },
  {
   "cell_type": "markdown",
   "metadata": {},
   "source": [
    "<a name='tab:ell2'></a>\n",
    "**Table $\\ell = 2$:**\n",
    "\n",
    "|.............|.................................................|\n",
    "| :-------------: | :-----------------: |\n",
    "|  $k=0$          |  $a_{j,0}= c_j$ |\n",
    "| $k=1$          | $a_{j, 1}=\\frac {1}{2}(c_{j+1}-c_{j-1})$ |\n",
    "|  $k=2$         |  $a_{j, 2}=\\frac {1}{2}(c_{j+1}-2c_j+c_{j-1})$ |\n",
    "\n",
    "<a name='tab:ell3'></a>\n",
    "**Table $\\ell = 3$:** two representations\n",
    "\n",
    "|.............|....................................................................|\n",
    "| :-------------: | :-----------------: |\n",
    "|  $k=0$          |  $a_{j,0}= c_j$ |\n",
    "|   $k=1$          | $a_{j, 1}=\\frac {1}{6}(-c_{j+2}+6c_{j+1}-3c_j-2c_{j-1})$ |\n",
    "|    $k=2$          | $a_{j, 2}=\\frac {1}{2}(c_{j+1}-2c_j+c_{j-1})$ |\n",
    "|    $k=3$          | $a_{j, 3}=\\frac {1}{6}(c_{j+2}-3c_{j+1}+3c_j-c_{j-1})$ |\n",
    "\n",
    "|.............|....................................................................|\n",
    "| :-------------: | :-----------------: |\n",
    "|  $k=0$          |  $a_{j,0}= c_j$ |\n",
    "|  $k=1$        |  $a_{j, 1}=\\frac {1}{6}(2c_{j+1}+3c_j-6{j-1}+c_{j-2})$ |\n",
    "|   $k=2$        |  $a_{j, 2}=\\frac {1}{2}(c_{j+1}-2c_j+c_{j-1})$ |\n",
    "|   $k=3$        |  $a_{j, 3}=\\frac {1}{6}(c_{j+1}-3c_j+3c_{j-1}-c_{j-2})$ |"
   ]
  },
  {
   "cell_type": "markdown",
   "metadata": {},
   "source": [
    "<a name='tab:ell4'></a>\n",
    "**Table $\\ell = 4$:**\n",
    "\n",
    "|.............|........................................................................................|\n",
    "| :-------------: | :-----------------: |\n",
    "|  $k=0$          |  $a_{j,0}= c_j$ |\n",
    "|   $k=1$        |  $a_{j, 1}=\\frac {1}{12}(-c_{j+2}+8c_{j+1}-8c_{j-1}+c_{j-2})$ |\n",
    "|   $k=2$        |  $a_{j, 2}=\\frac {1}{24}(-c_{j+2}+16c_{j+1}-30c_j+16c_{j-1}-c_{j-2})$ |\n",
    " |  $k=3$        |  $a_{j, 3}=\\frac {1}{12}(c_{j+2}-2c_{j+1}+2c_{j-1}-c_{j-2})$ |\n",
    "  | $k=4$        |  $a_{j, 4}=\\frac {1}{24}(c_{j+2}-4c_{j+1}+6c_j-4c_{j-1}+c_{j-2})$ |"
   ]
  },
  {
   "cell_type": "markdown",
   "metadata": {},
   "source": [
    "Note that for even order polynomials, an odd number of $c$ values\n",
    "including the grid point $j$ are needed to calculate the coefficients\n",
    "$a_{j, k}$. This means the same number of grid points to the left and\n",
    "right of $x_j$ are used in the calculation of $a_{j, k}$. If on the\n",
    "other hand, we choose odd order polynomials, there will be one extra\n",
    "point used to either side of $x_j$, thus resulting in 2 different\n",
    "representations of $a_{j, k}$. This is why there are 2 sets of\n",
    "$a_{j, k}$ for $\\ell=1, 3$ in the table. Decision as to which set is to be\n",
    "used must be made according to specific conditions of the calculation.\n",
    "\n",
    "If we choose $\\ell=0$, we will end up with the upstream method. In other\n",
    "words, the upstream method assumes that $c$ is constant in each grid\n",
    "box. This poor representation of $c$ results in strong numerical\n",
    "diffusion. Experiments have shown that generally if we use higher order\n",
    "polynomials (where $\\ell \\le 4$), we can significantly suppress numerical\n",
    "diffusion.\n",
    "\n",
    "Now we define $I_{j+1/2}$ as the shaded area in grid box $j$ in ([Figure Amount Leaving Grid](#fig:flux)): \n",
    "\n",
    "<a name='eq:area'></a>\n",
    "(Flux Leaving Eqn)\n",
    "$$\n",
    " I_{j+1/2} = \\int _{1/2 - \\frac{udt}{dx}}^{1/2} c_j(x^\\prime) dx^\\prime $$\n",
    "   $$ =  \\sum _{k=0}^{l} \\frac {a_{j, k}}{(k+1) 2^{k+1}} \\left[1- \\left(1- 2 u \\frac{dt}{dx}\\right)^{k+1} \\right] $$"
   ]
  },
  {
   "cell_type": "markdown",
   "metadata": {},
   "source": [
    "Note that we are integrating over $x^\\prime$ instead of $x$. Thus, to\n",
    "get the real shaded area, we need to multiply $I_{j+1/2}$ by $dx$. So\n",
    "\n",
    "<a name='eq:flux2'></a>\n",
    "(Flux Eqn)\n",
    "$$F_{j+1/2}= \\frac {dx} {dt}I_{j+1/2}$$ \n",
    "In this form, the scheme is conservative and\n",
    "weakly diffusive. But it still lacks positive definiteness. A sufficient\n",
    "condition for this is \n",
    "\n",
    "<a name='eq:posdef'></a>\n",
    "(Positive Definite Condition)\n",
    "$$0 \\le  I_{j+1/2} dx  \\le  c_j dx$$ \n",
    "That is, the total outflow is never\n",
    "negative and never greater than $c_j dx$. In other words, the shaded\n",
    "area should be no less than zero but no greater than the area of the\n",
    "rectangle with length $c_j$ and width $dx$. \n",
    "([Figure Total in Cell](#fig:limit))\n",
    "shows why the total outflow should be limited above by $c_j dx$:"
   ]
  },
  {
   "cell_type": "code",
   "execution_count": null,
   "metadata": {},
   "outputs": [],
   "source": [
    "Image(filename='images/limit.png',width='60%')"
   ]
  },
  {
   "cell_type": "markdown",
   "metadata": {},
   "source": [
    "<a name='fig:limit'></a>\n",
    "**Figure Total in Cell:** The shaded area is equal to $c_j dx$, and it is already greater than\n",
    "the total amount of vapour (the area under the curve) in grid box $j$.\n",
    "If $I_{j+1/2} dx > c_j dx$, then the total outflow $I_{j+1/2} dx$ would\n",
    "be greater than the amount of vapour in the grid box, and the amount of\n",
    "vapour will be negative at the next time step, thus violating the\n",
    "positive definiteness requirement. \n",
    "\n",
    "If the total outflow is larger than the shaded area $c_j dx$, we will\n",
    "get negative values of $c$ in this grid box at the next time step. We do\n",
    "not want this to happen since negative values are meaningless.\n",
    "\n",
    "To satisfy the condition for positive definiteness\n",
    "([Positive Definite Condition](#eq:posdef)) we need to guarantee that\n",
    "$I_{j+1/2} \\le c_j$ holds at all time steps. We can achieve this\n",
    "condition by multiplying $I_{j+1/2}$ by a weighting factor. Define\n",
    "$I_{j+1/2}^\\prime$ as \n",
    "\n",
    "<a name='eq:normalize'></a>\n",
    "(Normalization Eqn)\n",
    "$$I_{j+1/2}^\\prime=I_{j+1/2} \\frac {c_j}{I_j}$$ \n",
    "where \n",
    "$$\n",
    " {I_j} = \\int_{-1/2}^{1/2} c_j(x^\\prime) dx^\\prime $$\n",
    "$$ = \\sum_{k=0}^{l} \\frac {a_{j, k}} {(k+1) 2^{k+1}} [(-1)^k +1]$$\n",
    "\n",
    "Since the total flow out of a grid box is always less than the total\n",
    "grid volume, $I_{j+1/2}/I_j$ is always less than 1, thus\n",
    "$I_{j+1/2} c_j/I_j$ is always less than $c_j$. Thus we can satisfy the\n",
    "upper limit of the positive definiteness condition\n",
    "([Positive Definite Condition](#eq:posdef)) by multiplying $I_{j+1/2}$ by a weighting\n",
    "factor $c_j/I_j$. So now $F$ is defined as:\n",
    "$$F_{j+1/2}= \\frac {dx} {dt}\\frac {c_j}{I_j} I_{j+1/2}$$"
   ]
  },
  {
   "cell_type": "markdown",
   "metadata": {},
   "source": [
    "Now to satisfy the lower limit of the positive definiteness condition,\n",
    "([Positive Definite Condition](#eq:posdef))\n",
    "we need to make sure $I_{j+1/2}$ remains non negative at all time steps.\n",
    "So we will set $I_{j+1/2}$ to 0 whenever it is negative.\n",
    "\n",
    "If we are looking at the parts of the curve that are far away from the\n",
    "peak, $I_j=0, I_{j+1/2}=0$, and we will be dividing by 0 in ([Normalization Eqn](#eq:normalize))! To avoid this instability, we introduce a small\n",
    "term $\\epsilon$ when $I_j=0, I_{j+1/2}=0$, *i.e.*, we set $I_j$ to\n",
    "$\\epsilon$.\n",
    "\n",
    "Combining all the conditions from above, the advection scheme is\n",
    "described as follows:\n",
    "$$c(j, n+1)= c(j, n) - \\frac {dt} {dx} [F(j+1/2, n)- F(j-1/2, n)]$$\n",
    "$$F(j+1/2, n)= \\frac {dx}{dt} \\frac {i_{l, j+1/2}}{i_{l, j}} c_j$$ \n",
    "with\n",
    "$$i_{l, j+1/2} = \\hbox{max}(0, I_{j+1/2})$$\n",
    "$$i_{l, j} = \\hbox{max}(I_{l, j}, i_{l, j+1/2} + \\epsilon)$$ \n",
    "where $l$ is the order of the polynomial we use to interpolate $c$ in each grid box.\n",
    "\n",
    "An example function for this scheme is in *advection_funs.py*. The python\n",
    "function *advection3(timesteps, order)* takes in 2 arguments, the first is\n",
    "the number of time steps to be computed, the second is the order of the\n",
    "polynomial for the approximation of $c$ within each grid box. It plots the curve at 20 time steps.\n",
    "Students should try it out and compare this scheme with the previous\n",
    "two."
   ]
  },
  {
   "cell_type": "code",
   "execution_count": null,
   "metadata": {},
   "outputs": [],
   "source": [
    "afs.advection3(60, 4, lab_example=True)"
   ]
  },
  {
   "cell_type": "markdown",
   "metadata": {},
   "source": [
    "### Problem One ###\n",
    "\n",
    "Using the Bott Scheme, modify initialize in *advection_funs.py* to solve the following advection problem: The wind is moving along the x-axis with speed u=20 m/s. The initial distribution curve is 50 km in width. Use your program to approximate the curve during 24 hours.\n",
    "\n",
    "a\\) Run your program for different orders of approximating polynomials\n",
    "(up to 4). Compare the accuracy of approximation for different orders.\n",
    "Do you see better results with increasing order? Is this true for all\n",
    "orders from 0 to 4? Is there any particularity to odd and even order\n",
    "polynomials? What if you decrease the Courant number (value in front of dx/u for dt calculation)?\n",
    "\n",
    "b\\) For odd ordered polynomials, *advection_funs.py* uses the representation\n",
    "of $a_{j,k}$ that involves an extra point to the right of the centre\n",
    "grid point. Modify the table of coefficients for odd ordered polynomials\n",
    "([Table $\\ell=1$](#tab:ell1))and ([Table $\\ell=3$](#tab:ell3)) to use the extra point to the left of the\n",
    "centre grid point. Run your program again and compare the results of 2\n",
    "different representations of $a_{j,k}$ for order 1 and 3, respectively.\n",
    "Is one representation better than the other, or about the same, or does\n",
    "each have its own problem? How, do you think the different\n",
    "representation affects the result?"
   ]
  },
  {
   "cell_type": "markdown",
   "metadata": {},
   "source": [
    "## Conclusion ##\n",
    "\n",
    "The last scheme presented solves 2 problems introduced in the previous\n",
    "two schemes. The centred differencing scheme lacks positive definiteness\n",
    "because it is of second order accuracy, thus it introduces additional\n",
    "oscillations near the peak. The scheme presented here solves this\n",
    "problem by checking and normalising the relevant values (ie, $I_{j+1/2}$\n",
    "and $I_j$) when needed at each time step. The upstream scheme produces\n",
    "strong diffusion because it is of only first order accuracy. The scheme\n",
    "presented here solves this problem by using higher order polynomials to\n",
    "approximate $c$ at each grid box.\n",
    "\n",
    "Experiments have shown that this scheme is numerically stable in most\n",
    "atmospheric situations. This scheme is only slightly unstable in the\n",
    "case of strong deformational flow field models.\n",
    "\n",
    "For more detail about this advection scheme , please refer to ([Bott, 1989](#Ref:Bott)).\n",
    "Since 1989, new advection schemes including the MUSCL and TVD have been developed and are more routinely used. "
   ]
  },
  {
   "cell_type": "markdown",
   "metadata": {},
   "source": [
    "## References ##\n",
    "\n",
    "<a name='Ref:Bott'></a>\n",
    "Bott, A., 1989: A positive definite advection scheme obtained by nonlinear renormalization of the advective fluxes. *Monthly Weather Review*, 117, 1006–1015."
   ]
  },
  {
   "cell_type": "code",
   "execution_count": null,
   "metadata": {
    "collapsed": true
   },
   "outputs": [],
   "source": []
  }
 ],
 "metadata": {
  "jupytext": {
   "encoding": "# -*- coding: utf-8 -*-",
   "formats": "ipynb,py:percent",
   "notebook_metadata_filter": "all,-language_info,-toc,-latex_envs"
  },
  "kernelspec": {
   "display_name": "Python 3 (ipykernel)",
   "language": "python",
   "name": "python3"
  },
  "language_info": {
   "codemirror_mode": {
    "name": "ipython",
    "version": 3
   },
   "file_extension": ".py",
   "mimetype": "text/x-python",
   "name": "python",
   "nbconvert_exporter": "python",
   "pygments_lexer": "ipython3",
   "version": "3.12.1"
  },
  "nbsphinx": {
   "execute": "never"
  },
  "toc": {
   "nav_menu": {},
   "number_sections": true,
   "sideBar": true,
   "skip_h1_title": false,
   "toc_cell": true,
   "toc_position": {},
   "toc_section_display": "block",
   "toc_window_display": true
  }
 },
 "nbformat": 4,
 "nbformat_minor": 2
}
