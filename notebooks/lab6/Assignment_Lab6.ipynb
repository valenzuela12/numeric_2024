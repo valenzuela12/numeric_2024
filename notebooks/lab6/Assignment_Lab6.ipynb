{
 "cells": [
  {
   "cell_type": "markdown",
   "metadata": {},
   "source": [
    "Assignment Lab 6"
   ]
  },
  {
   "cell_type": "markdown",
   "metadata": {},
   "source": [
    "[Problem Experiment](#prob_experiment) \n",
    "\n",
    "Lorenz’ results are based on the following values of the physical parameters taken from Saltzman’s paper (Saltzman, 1962): $$\\sigma=10 \\quad \\mathrm{and} \\quad b=\\frac{8}{3}.$$ \n",
    "As you will see in [Section stability](#sec_stability), there is a *critical value of the parameter $\\rho$*, $\\rho^\\ast=470/19\\approx 24.74$ (for these values of $\\sigma$ and $\\beta$); it is *critical* in the sense that for\n",
    "any value of $\\rho>\\rho^\\ast$, the flow is unstable.\n",
    "\n",
    "To allow you to investigate the behaviour of the solution to the Lorenz\n",
    "equations, you can try out various parameter values in the following\n",
    "interactive example. *Initially, leave $\\sigma$ and $\\beta$ alone, and\n",
    "modify only $\\rho$ and the initial conditions.* If you have time,\n",
    "you can try varying the other two parameters, and see what happens. Here\n",
    "are some suggestions:\n",
    "\n",
    "-   Fix the initial conditions at $(5,5,5)$ and vary $\\rho$ between $0$ and\n",
    "    $100$.\n",
    "\n",
    "-   Fix $\\rho=28$, and vary the initial conditions; for example, try\n",
    "    $(0,0,0)$, $(0.1,0.1,0.1)$, $(0,0,20)$, $(100,100,100)$,\n",
    "    $(8.5,8.5,27)$, etc.\n",
    "\n",
    "-   Anything else you can think of …\n",
    "\n",
    "1.  Describe the different types of behaviour you see and compare them\n",
    "    to what you saw in [Figure fixed-plot](#fig_fixed-plot). Also, discuss the\n",
    "    results in terms of what you read in [Section Introduction](#sec_introduction)\n",
    "    regarding the four properties of the solution.\n",
    "\n",
    "2.  One question you should be sure to ask yourself is: *Does\n",
    "    changing the initial condition affect where the solution ends\n",
    "    up?* The answer to this question will indicate whether there\n",
    "    really is an attractor which solutions approach as\n",
    "    $t\\rightarrow\\infty$.\n",
    "\n",
    "3.  Finally, for the different types of solution behaviour, can you\n",
    "    interpret the results physically in terms of the thermal convection\n",
    "    problem?\n"
   ]
  },
  {
   "cell_type": "markdown",
   "metadata": {},
   "source": [
    "**[Problem Sensitivity](#prob_sensitivity)** \n",
    "    \n",
    "One property of chaotic systems such as the Lorenz equations is their *sensitivity to initial\n",
    "conditions* – a consequence of the “butterfly effect.” Modify your code from [Problem adaptive](#prob_adaptive) to compute two trajectories (in the chaotic regime $r>r^\\ast$) with different initial conditions *simultaneously*. Use two initial conditions that are very close to each other, say $(1,1,20)$ and $(1,1,20.001)$. Use your “method of choice” (adaptive/non-adaptive), and plot the distance between the two trajectories as a function of time. What do you see?\n",
    "\n",
    "One important limitation of numerical methods is immediately evident when approximating non-periodic dynamical systems such as the Lorenz equations: namely, *every computed solution is periodic*. That is, when we’re working in floating point arithmetic, there are only finitely many numbers that can be represented, and the solution must eventually repeat itself. When using single precision arithmetic, a typical computer can represent many more floating point numbers than we could ever perform integration steps in a numerical scheme. However, it is still possible that round-off error might introduce a periodic orbit in the numerical solution where one does not really exist. In our computations, this will not be a factor, but it is something to keep in mind."
   ]
  },
  {
   "cell_type": "code",
   "execution_count": null,
   "metadata": {},
   "outputs": [],
   "source": []
  }
 ],
 "metadata": {
  "language_info": {
   "name": "python"
  }
 },
 "nbformat": 4,
 "nbformat_minor": 2
}
