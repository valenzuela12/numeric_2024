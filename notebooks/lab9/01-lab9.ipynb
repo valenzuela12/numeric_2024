{
 "cells": [
  {
   "cell_type": "markdown",
   "metadata": {},
   "source": [
    "# Laboratory 9: Fast Fourier Transforms"
   ]
  },
  {
   "cell_type": "markdown",
   "metadata": {},
   "source": [
    "## Introduction \n",
    "\n",
    "This lab introduces the use of the fast Fourier transform for estimation\n",
    "of the power spectral density and for simple filtering.  If you need a refresher or\n",
    "are learning about fourier transforms for the first time,  we recommend reading\n",
    "[Newman Chapter 7](https://owncloud.eoas.ubc.ca/s/STrxS2pXewjqdYt).  For a description of the Fast Fourier transform,\n",
    "see [Stull Section 8.4](https://owncloud.eoas.ubc.ca/s/KMfPeGPLs2Fe7Qq) and [Jake VanderPlas's blog entry](https://jakevdp.github.io/blog/2013/08/28/understanding-the-fft/).  Another good resources is\n",
    "[Numerical Recipes Chapter 12](https://nextcloud.eoas.ubc.ca/s/cnbBeQ47qBMgq3K)\n",
    "\n",
    "Before running this lab you will need to:  \n",
    "    1. Install netCDF4 by running conda install netCDF4 after you have activated your numeric_2022 conda environment  \n",
    "    2. download some data by running the cell below\n",
    "\n"
   ]
  },
  {
   "cell_type": "code",
   "execution_count": null,
   "metadata": {
    "ExecuteTime": {
     "start_time": "2022-03-04T20:51:44.330Z"
    }
   },
   "outputs": [],
   "source": [
    "# Download some data that we will need:\n",
    "from matplotlib import pyplot as plt\n",
    "import urllib\n",
    "import os\n",
    "filelist=['miami_tower.npz','a17.nc','aircraft.npz']\n",
    "data_download=True\n",
    "if data_download:\n",
    "    for the_file in filelist:\n",
    "        url='http://clouds.eos.ubc.ca/~phil/docs/atsc500/data/{}'.format(the_file)\n",
    "        urllib.request.urlretrieve(url,the_file)\n",
    "        print(\"download {}: size is {:6.2g} Mbytes\".format(the_file,os.path.getsize(the_file)*1.e-6))"
   ]
  },
  {
   "cell_type": "code",
   "execution_count": null,
   "metadata": {
    "ExecuteTime": {
     "end_time": "2022-03-08T03:04:50.917356Z",
     "start_time": "2022-03-08T03:04:50.914138Z"
    }
   },
   "outputs": [],
   "source": [
    "# import required packages\n",
    "import numpy as np\n",
    "import matplotlib.pyplot as plt\n",
    "plt.style.use('ggplot')"
   ]
  },
  {
   "cell_type": "markdown",
   "metadata": {},
   "source": [
    "## A simple transform\n",
    "\n",
    "To get started assume that there is a pure tone -- a cosine wave oscillating at a frequency of 1 Hz.  Next assume that we sample that 1 Hz wave at a sampling rate of 5 Hz i.e. 5 times a second\n",
    "\n"
   ]
  },
  {
   "cell_type": "code",
   "execution_count": null,
   "metadata": {
    "ExecuteTime": {
     "end_time": "2022-03-04T20:48:27.525727Z",
     "start_time": "2022-03-04T20:48:27.320858Z"
    }
   },
   "outputs": [],
   "source": [
    "%matplotlib inline\n",
    "#\n",
    "# create a cosine wave that oscilates 20 times in 20 seconds\n",
    "# sampled at  Hz, so there are 20*5 = 100 measurements in 20 seconds\n",
    "#\n",
    "deltaT=0.2\n",
    "ticks = np.arange(0,20,deltaT)\n",
    "#\n",
    "#20 cycles in 20 seconds, each cycle goes through 2*pi radians\n",
    "#\n",
    "onehz=np.cos(2.*np.pi*ticks)\n",
    "fig,ax = plt.subplots(1,1,figsize=(8,6))\n",
    "ax.plot(ticks,onehz)\n",
    "ax.set_title('one hz wave sampled at 5 Hz')\n",
    "out=ax.set_xlabel('time (seconds)')"
   ]
  },
  {
   "cell_type": "markdown",
   "metadata": {},
   "source": [
    "Repeat, but for a 2 Hz wave"
   ]
  },
  {
   "cell_type": "code",
   "execution_count": null,
   "metadata": {
    "ExecuteTime": {
     "end_time": "2022-03-04T20:48:27.862162Z",
     "start_time": "2022-03-04T20:48:27.719034Z"
    }
   },
   "outputs": [],
   "source": [
    "deltaT=0.2\n",
    "ticks = np.arange(0,20,deltaT)\n",
    "#\n",
    "#40 cycles in 20 seconds, each cycle goes through 2*pi radians\n",
    "#\n",
    "twohz=np.cos(2.*2.*np.pi*ticks)\n",
    "fig,ax = plt.subplots(1,1,figsize=(8,6))\n",
    "ax.plot(ticks,twohz)\n",
    "ax.set_title('two hz wave sampled at 5 Hz')\n",
    "out=ax.set_xlabel('time (seconds)')"
   ]
  },
  {
   "cell_type": "markdown",
   "metadata": {},
   "source": [
    "Note the problem at 2 Hz,  the 5 Hz sampling frequency is too coarse to hit the top of every other\n",
    "peak in the wave"
   ]
  },
  {
   "cell_type": "code",
   "execution_count": null,
   "metadata": {
    "ExecuteTime": {
     "end_time": "2022-03-04T20:48:28.672553Z",
     "start_time": "2022-03-04T20:48:28.567073Z"
    }
   },
   "outputs": [],
   "source": [
    "#now take the fft, we have 100 bins, so we alias at 50 bins, which is the nyquist frequency of 5 Hz/2. = 2.5 Hz\n",
    "# so the fft frequency resolution is 20 bins/Hz, or 1 bin = 0.05 Hz\n",
    "thefft=np.fft.fft(onehz)\n",
    "real_coeffs=np.real(thefft)\n",
    "\n",
    "fig,theAx=plt.subplots(1,1,figsize=(8,6))\n",
    "theAx.plot(real_coeffs)\n",
    "out=theAx.set_title('real fft of 1 hz')"
   ]
  },
  {
   "cell_type": "markdown",
   "metadata": {},
   "source": [
    "The layout of the fft return value is describe in \n",
    "[the scipy user manual](http://docs.scipy.org/doc/scipy/reference/tutorial/fftpack.html#id9).   \n",
    "For reference, here is the Fourier transform calculated by numpy.fft:\n",
    "\n",
    "$$y[k] = \\sum_{n=0}^{N-1} x[n]\\exp \\left (- i 2 \\pi k n /N \\right )$$\n",
    "\n",
    "which is the discrete version of the continuous transform (Numerical Recipes 12.0.4):\n",
    "\n",
    "$$y(k) = \\int_{-\\infty}^{\\infty} x(t) \\exp \\left ( -i k t \\right ) dt$$\n",
    "\n",
    "(Note the different minus sign convention in the exponent compared to Numerical Recipes p. 490.  It doesn't matter what you choose, as long as you're consistent).\n",
    "\n",
    "From the Scipy manual:\n",
    "\n",
    "> Inserting k=0 we see that np.sum(x)  corresponds to y[0]. This term will be non-zero if we haven't removed any large scale trend in the data. For N even, the elements y[1]...y[N/2−1] contain the positive-frequency terms, and the elements y[N/2]...y[N−1] contain the negative-frequency terms, in order of decreasingly negative frequency. For N odd, the elements y[1]...y[(N−1)/2] contain the positive- frequency terms, and the elements y[(N+1)/2]...y[N−1] contain the negative- frequency terms, in order of decreasingly negative frequency.\n",
    "> In case the sequence x is real-valued, the values of y[n] for positive frequencies is the conjugate of the values y[n] for negative frequencies (because the spectrum is symmetric). Typically, only the FFT corresponding to positive frequencies is plotted.\n",
    "\n",
    "So the first peak at index 20 is (20 bins) x (0.05 Hz/bin) = 1 Hz, as expected.  The nyquist frequency of 2.5 Hz is at an index of N/2 = 50 and the negative frequency peak is 20 bins to the left of the end bin.\n",
    "\n",
    "\n",
    "The inverse transform is:\n",
    "\n",
    "$$x[n] = \\frac{1}{N} \\sum_{k=0}^{N-1} y]k]\\exp \\left ( i 2 \\pi k n /N \\right )$$"
   ]
  },
  {
   "cell_type": "markdown",
   "metadata": {},
   "source": [
    "What about the imaginary part?  All imaginary coefficients are zero (neglecting roundoff errors)"
   ]
  },
  {
   "cell_type": "code",
   "execution_count": null,
   "metadata": {
    "ExecuteTime": {
     "end_time": "2022-03-04T20:48:30.797803Z",
     "start_time": "2022-03-04T20:48:30.680290Z"
    }
   },
   "outputs": [],
   "source": [
    "imag_coeffs=np.imag(thefft)\n",
    "fig,theAx=plt.subplots(1,1,figsize=(8,6))\n",
    "theAx.plot(imag_coeffs)\n",
    "out=theAx.set_title('imaginary fft of 1 hz')"
   ]
  },
  {
   "cell_type": "code",
   "execution_count": null,
   "metadata": {
    "ExecuteTime": {
     "end_time": "2022-03-03T21:17:08.773334Z",
     "start_time": "2022-03-03T21:17:08.670253Z"
    }
   },
   "outputs": [],
   "source": [
    "#now evaluate the power spectrum using Stull's 8.6.1a on p. 312\n",
    "\n",
    "Power=np.real(thefft*np.conj(thefft))\n",
    "totsize=len(thefft)\n",
    "halfpoint=int(np.floor(totsize/2.))\n",
    "firsthalf=Power[0:halfpoint]\n",
    "\n",
    "\n",
    "fig,ax=plt.subplots(1,1)\n",
    "freq=np.arange(0,5.,0.05)\n",
    "ax.plot(freq[0:halfpoint],firsthalf)\n",
    "ax.set_title('power spectrum')\n",
    "out=ax.set_xlabel('frequency (Hz)')\n",
    "len(freq)\n",
    "plt.show()"
   ]
  },
  {
   "cell_type": "markdown",
   "metadata": {},
   "source": [
    "Check Stull 8.6.1b (or Numerical Recipes 12.0.13) which says that squared power spectrum = variance\n"
   ]
  },
  {
   "cell_type": "code",
   "execution_count": null,
   "metadata": {
    "ExecuteTime": {
     "end_time": "2022-03-03T21:17:11.622908Z",
     "start_time": "2022-03-03T21:17:11.618116Z"
    }
   },
   "outputs": [],
   "source": [
    "print('\\nsimple cosine: velocity variance %10.3f' % (np.sum(onehz*onehz)/totsize))\n",
    "print('simple cosine: Power spectrum sum %10.3f\\n' % (np.sum(Power)/totsize**2.))"
   ]
  },
  {
   "cell_type": "markdown",
   "metadata": {},
   "source": [
    "## Power spectrum of turbulent vertical velocity"
   ]
  },
  {
   "cell_type": "markdown",
   "metadata": {},
   "source": [
    "Let's apply fft to some real atmospheric measurements. We'll read in one of the files we downloaded at the beginning of the lab (you should be able to see these files on your local computer in this Lab9 directory)."
   ]
  },
  {
   "cell_type": "code",
   "execution_count": null,
   "metadata": {
    "ExecuteTime": {
     "end_time": "2022-03-03T21:19:06.371394Z",
     "start_time": "2022-03-03T21:19:06.363885Z"
    },
    "lines_to_next_cell": 2
   },
   "outputs": [],
   "source": [
    "#load data sampled at 20.8333 Hz\n",
    "\n",
    "td=np.load('miami_tower.npz') #load temp, uvel, vvel, wvel, minutes\n",
    "print('keys: ',td.keys())\n",
    "# Print the description saved in the file so we know what data are in the file\n",
    "print(td['description'])"
   ]
  },
  {
   "cell_type": "code",
   "execution_count": null,
   "metadata": {
    "ExecuteTime": {
     "end_time": "2022-03-03T21:20:16.106598Z",
     "start_time": "2022-03-03T21:20:15.516697Z"
    },
    "lines_to_next_cell": 2,
    "scrolled": false
   },
   "outputs": [],
   "source": [
    "# calculate the fft and plot the frequency-power spectrum\n",
    "sampleRate=20.833\n",
    "nyquistfreq=sampleRate/2.\n",
    "\n",
    "\n",
    "totsize=36000\n",
    "wvel=td['wvel'][0:totsize].flatten()\n",
    "temp=td['temp'][0:totsize].flatten()\n",
    "wvel = wvel - np.mean(wvel)\n",
    "temp= temp - np.mean(temp)\n",
    "flux=wvel*temp\n",
    "\n",
    "\n",
    "halfpoint=np.int(np.floor(totsize/2.))\n",
    "frequencies=np.arange(0,halfpoint)\n",
    "frequencies=frequencies/halfpoint\n",
    "frequencies=frequencies*nyquistfreq\n",
    "\n",
    "# raw spectrum -- no windowing or averaging\n",
    "#First confirm Parseval's theorem\n",
    "# (Numerical Recipes 12.1.10, p. 498)\n",
    "\n",
    "thefft=np.fft.fft(wvel)\n",
    "Power=np.real(thefft*np.conj(thefft))\n",
    "print('check Wiener-Khichine theorem for wvel')\n",
    "print('\\nraw fft sum, full time series: %10.4f\\n' % (np.sum(Power)/totsize**2.))\n",
    "print('velocity variance: %10.4f\\n' % (np.sum(wvel*wvel)/totsize))\n",
    "\n",
    "\n",
    "fig,theAx=plt.subplots(1,1,figsize=(8,8))\n",
    "frequencies[0]=np.NaN\n",
    "Power[0]=np.NaN\n",
    "Power_half=Power[:halfpoint:]\n",
    "theAx.loglog(frequencies,Power_half)\n",
    "theAx.set_title('raw wvel spectrum with $f^{-5/3}$')\n",
    "theAx.set(xlabel='frequency (HZ)',ylabel='Power (m^2/s^2)')\n",
    "#\n",
    "# pick one point the line should pass through (by eye)\n",
    "# note that y intercept will be at log10(freq)=0\n",
    "# or freq=1 Hz\n",
    "#\n",
    "leftspec=np.log10(Power[1]*1.e-3)\n",
    "logy=leftspec - 5./3.*np.log10(frequencies)\n",
    "yvals=10.**logy\n",
    "theAx.loglog(frequencies,yvals,'r-')\n",
    "thePoint=theAx.plot(1.,Power[1]*1.e-3,'g+')\n",
    "thePoint[0].set_markersize(15)\n",
    "thePoint[0].set_marker('h')\n",
    "thePoint[0].set_markerfacecolor('g')"
   ]
  },
  {
   "cell_type": "markdown",
   "metadata": {},
   "source": [
    "## power spectrum layout"
   ]
  },
  {
   "cell_type": "markdown",
   "metadata": {},
   "source": [
    "Here is what the entire power spectrum looks like, showing positive and negative frequencies"
   ]
  },
  {
   "cell_type": "code",
   "execution_count": null,
   "metadata": {
    "ExecuteTime": {
     "end_time": "2022-03-03T21:20:20.946232Z",
     "start_time": "2022-03-03T21:20:20.597672Z"
    },
    "scrolled": true
   },
   "outputs": [],
   "source": [
    "fig,theAx=plt.subplots(1,1,figsize=(8,8))\n",
    "out=theAx.semilogy(Power)"
   ]
  },
  {
   "cell_type": "markdown",
   "metadata": {},
   "source": [
    "and here is what fftshift does:"
   ]
  },
  {
   "cell_type": "code",
   "execution_count": null,
   "metadata": {
    "ExecuteTime": {
     "end_time": "2022-03-03T21:20:41.449621Z",
     "start_time": "2022-03-03T21:20:41.098947Z"
    }
   },
   "outputs": [],
   "source": [
    "shift_power=np.fft.fftshift(Power)\n",
    "fig,theAx=plt.subplots(1,1,figsize=(8,8))\n",
    "out=theAx.semilogy(shift_power)"
   ]
  },
  {
   "cell_type": "markdown",
   "metadata": {},
   "source": [
    "### Confirm that the fft at negative f is the complex conjugate of the fft at positive f"
   ]
  },
  {
   "cell_type": "code",
   "execution_count": null,
   "metadata": {
    "ExecuteTime": {
     "end_time": "2022-03-03T21:21:01.817604Z",
     "start_time": "2022-03-03T21:20:59.751476Z"
    }
   },
   "outputs": [],
   "source": [
    "test_fft=np.fft.fft(wvel)\n",
    "fig,theAx=plt.subplots(2,1,figsize=(8,10))\n",
    "theAx[0].semilogy(np.real(test_fft))\n",
    "theAx[1].semilogy(np.imag(test_fft))\n",
    "print(test_fft[100])\n",
    "print(test_fft[-100])"
   ]
  },
  {
   "cell_type": "markdown",
   "metadata": {},
   "source": [
    "## Windowing\n",
    "\n",
    "The FFT above is noisy, and there are several ways to smooth it.  Numerical Recipes, p. 550 has a good discussion of \"windowing\" which helps remove the spurious power caused by the fact that the timeseries has a sudden stop and start.\n",
    "Below we split the timeseries into 25 segements of 1440 points each, fft each segment then average the 25.  We convolve each segment with a Bartlett window."
   ]
  },
  {
   "cell_type": "code",
   "execution_count": null,
   "metadata": {
    "ExecuteTime": {
     "end_time": "2022-03-03T21:21:29.850813Z",
     "start_time": "2022-03-03T21:21:29.532796Z"
    }
   },
   "outputs": [],
   "source": [
    "print('\\n\\n\\nTry a windowed spectrum (Bartlett window)\\n')\n",
    "## windowing -- see p. Numerical recipes 550 for notation\n",
    "\n",
    "def calc_window(numvals=1440):\n",
    "    \"\"\"\n",
    "      Calculate a Bartlett window following\n",
    "      Numerical Recipes 13.4.13\n",
    "    \"\"\"\n",
    "\n",
    "    halfpoint=int(np.floor(numvals/2.))\n",
    "    facm=halfpoint\n",
    "    facp=1/facm\n",
    "\n",
    "    window=np.empty([numvals],np.float)\n",
    "    for j in np.arange(numvals):\n",
    "        window[j]=(1.-((j - facm)*facp)**2.)\n",
    "    return window\n",
    "\n",
    "#\n",
    "#  we need to normalize by the squared weights\n",
    "#  (see the fortran code on Numerical recipes p. 550)\n",
    "#\n",
    "numvals=1440\n",
    "window=calc_window(numvals=numvals)\n",
    "sumw=np.sum(window**2.)/numvals\n",
    "fig,theAx=plt.subplots(1,1,figsize=(8,8))\n",
    "theAx.plot(window)\n",
    "theAx.set_title('Bartlett window')\n",
    "print('sumw: %10.3f' % sumw)"
   ]
  },
  {
   "cell_type": "code",
   "execution_count": null,
   "metadata": {
    "ExecuteTime": {
     "end_time": "2022-03-03T21:21:31.330525Z",
     "start_time": "2022-03-03T21:21:31.325843Z"
    }
   },
   "outputs": [],
   "source": [
    "def do_fft(the_series,window,ensemble=25,title='title'):\n",
    "    numvals=len(window)\n",
    "    sumw=np.sum(window**2.)/numvals\n",
    "    subset=the_series.copy()\n",
    "    subset=subset[:len(window)*ensemble]\n",
    "    subset=np.reshape(subset,(ensemble,numvals))\n",
    "    winspec=np.zeros([numvals],np.float)\n",
    "\n",
    "    for therow in np.arange(ensemble):\n",
    "        thedat=subset[therow,:]\n",
    "        thefft =np.fft.fft(thedat*window)\n",
    "        Power=thefft*np.conj(thefft)\n",
    "        #print('\\nensemble member: %d' % therow)\n",
    "        #print('\\nwindowed fft sum (m^2/s^2): %10.4f\\n' % (np.sum(Power)/(sumw*numvals**2.),))\n",
    "        #print('velocity variance (m^2/s^2): %10.4f\\n\\n' % (np.sum(thedat*thedat)/numvals,))\n",
    "        winspec=winspec + Power\n",
    "\n",
    "    winspec=np.real(winspec/(numvals**2.*ensemble*sumw))\n",
    "    return winspec"
   ]
  },
  {
   "cell_type": "markdown",
   "metadata": {},
   "source": [
    "## Compare power spectra for wvel, theta, sensible heat flux"
   ]
  },
  {
   "cell_type": "markdown",
   "metadata": {},
   "source": [
    "### start with wvel"
   ]
  },
  {
   "cell_type": "code",
   "execution_count": null,
   "metadata": {
    "ExecuteTime": {
     "end_time": "2022-03-03T21:21:33.181739Z",
     "start_time": "2022-03-03T21:21:33.174399Z"
    }
   },
   "outputs": [],
   "source": [
    "winspec=do_fft(wvel,window)\n",
    "sampleRate=20.833\n",
    "nyquistfreq=sampleRate/2.\n",
    "halfpoint=int(len(winspec)/2.)\n",
    "averaged_freq=np.linspace(0,1.,halfpoint)*nyquistfreq\n",
    "winspec=winspec[0:halfpoint]"
   ]
  },
  {
   "cell_type": "code",
   "execution_count": null,
   "metadata": {
    "ExecuteTime": {
     "end_time": "2022-03-03T21:21:35.469984Z",
     "start_time": "2022-03-03T21:21:34.907400Z"
    },
    "lines_to_next_cell": 2
   },
   "outputs": [],
   "source": [
    "def do_plot(the_freq,the_spec,title=None,ylabel=None):\n",
    "    the_freq[0]=np.NaN\n",
    "    the_spec[0]=np.NaN\n",
    "    fig,theAx=plt.subplots(1,1,figsize=(8,6))\n",
    "    theAx.loglog(the_freq,the_spec,label='fft power')\n",
    "    if title:\n",
    "        theAx.set_title(title)\n",
    "    leftspec=np.log10(the_spec[int(np.floor(halfpoint/10.))])\n",
    "    logy=leftspec - 5./3.*np.log10(the_freq)\n",
    "    yvals=10.**logy\n",
    "    theAx.loglog(the_freq,yvals,'g-',label='$f^{-5/3}$')\n",
    "    theAx.set_xlabel('frequency (Hz)')\n",
    "    if ylabel:\n",
    "        out=theAx.set_ylabel(ylabel)\n",
    "    out=theAx.legend(loc='best')\n",
    "    return theAx\n",
    "\n",
    "labels=dict(title='wvel power spectrum',ylabel='$(m^2\\,s^{-2}\\,Hz^{-1})$')\n",
    "ax=do_plot(averaged_freq,winspec,**labels)"
   ]
  },
  {
   "cell_type": "code",
   "execution_count": null,
   "metadata": {
    "ExecuteTime": {
     "end_time": "2022-03-03T21:21:36.209773Z",
     "start_time": "2022-03-03T21:21:35.633088Z"
    }
   },
   "outputs": [],
   "source": [
    "winspec=do_fft(temp,window)\n",
    "winspec=winspec[0:halfpoint]\n",
    "labels=dict(title='Temperature power spectrum',ylabel='$K^{2}\\,Hz^{-1})$')\n",
    "ax=do_plot(averaged_freq,winspec,**labels)"
   ]
  },
  {
   "cell_type": "code",
   "execution_count": null,
   "metadata": {
    "ExecuteTime": {
     "end_time": "2022-03-03T21:21:37.174492Z",
     "start_time": "2022-03-03T21:21:36.451203Z"
    }
   },
   "outputs": [],
   "source": [
    "winspec=do_fft(flux,window)\n",
    "winspec=winspec[0:halfpoint]\n",
    "labels=dict(title='Heat flux power spectrum',ylabel='$K m s^{-1}\\,Hz^{-1})$')\n",
    "ax=do_plot(averaged_freq,winspec,**labels)"
   ]
  },
  {
   "cell_type": "markdown",
   "metadata": {},
   "source": [
    "## Filtering"
   ]
  },
  {
   "cell_type": "markdown",
   "metadata": {},
   "source": [
    "We can also filter our timeseries by removing frequencies we aren't interested in. Numerical Recipes discusses the approach on page 551.  For example, suppose we want to filter all frequencies higher than 0.5 Hz from the vertical velocity data."
   ]
  },
  {
   "cell_type": "code",
   "execution_count": null,
   "metadata": {
    "ExecuteTime": {
     "end_time": "2022-03-03T21:21:41.173979Z",
     "start_time": "2022-03-03T21:21:41.030629Z"
    }
   },
   "outputs": [],
   "source": [
    "wvel= wvel - np.mean(wvel)\n",
    "thefft=np.fft.fft(wvel)\n",
    "totsize=len(thefft)\n",
    "samprate=20.8333 #Hz\n",
    "the_time=np.arange(0,totsize,1/20.8333)\n",
    "freq_bin_width=samprate/(totsize*2)\n",
    "half_hz_index=int(np.floor(0.5/freq_bin_width))\n",
    "filter_func=np.zeros_like(thefft,dtype=np.float64)\n",
    "filter_func[0:half_hz_index]=1.\n",
    "filter_func[-half_hz_index:]=1.\n",
    "filtered_wvel=np.real(np.fft.ifft(filter_func*thefft))\n",
    "fig,ax=plt.subplots(1,1,figsize=(10,6))\n",
    "numpoints=500\n",
    "ax.plot(the_time[:numpoints],filtered_wvel[:numpoints],label='filtered')\n",
    "ax.plot(the_time[:numpoints],wvel[:numpoints],'g+',label='data')\n",
    "ax.set(xlabel='time (seconds)',ylabel='wvel (m/s)')\n",
    "out=ax.legend()"
   ]
  },
  {
   "cell_type": "markdown",
   "metadata": {
    "collapsed": true
   },
   "source": [
    "## 2D histogram of the optical depth $\\tau$\n"
   ]
  },
  {
   "cell_type": "markdown",
   "metadata": {},
   "source": [
    "Below I calculate the 2-d and averaged 1-d spectra for the optical depth, which gives the penetration depth of photons through a cloud, and is closely related to cloud thickness"
   ]
  },
  {
   "cell_type": "code",
   "execution_count": null,
   "metadata": {
    "ExecuteTime": {
     "end_time": "2022-03-03T21:32:33.540660Z",
     "start_time": "2022-03-03T21:32:33.536922Z"
    }
   },
   "outputs": [],
   "source": [
    "# this allows us to ignore (not print out) some warnings\n",
    "import warnings\n",
    "warnings.filterwarnings(\"ignore\",category=FutureWarning)"
   ]
  },
  {
   "cell_type": "code",
   "execution_count": null,
   "metadata": {
    "ExecuteTime": {
     "end_time": "2022-03-03T21:33:03.591148Z",
     "start_time": "2022-03-03T21:33:03.540959Z"
    }
   },
   "outputs": [],
   "source": [
    "import netCDF4\n",
    "from netCDF4 import Dataset\n",
    "filelist=['a17.nc']\n",
    "with Dataset(filelist[0]) as nc:\n",
    "    tau=nc.variables['tau'][...]"
   ]
  },
  {
   "cell_type": "markdown",
   "metadata": {},
   "source": [
    "## Character of the optical depth field\n",
    "\n",
    "The image below shows one of the marine boundary layer landsat scenes analyzed in \n",
    "[Lewis et al., 2004](http://onlinelibrary.wiley.com/doi/10.1029/2003JD003742/full)\n",
    "\n",
    "It is a 2048 x 2048 pixel image taken by Landsat 7, with the visible reflectivity converted to\n",
    "cloud optical depth.   The pixels are 25 m x 25 m, so the scene extends for about 50 km x 50 km"
   ]
  },
  {
   "cell_type": "code",
   "execution_count": null,
   "metadata": {
    "ExecuteTime": {
     "end_time": "2022-03-03T21:33:26.163275Z",
     "start_time": "2022-03-03T21:33:25.475800Z"
    }
   },
   "outputs": [],
   "source": [
    "%matplotlib inline\n",
    "from mpl_toolkits.axes_grid1 import make_axes_locatable\n",
    "plt.close('all')\n",
    "fig,ax=plt.subplots(1,2,figsize=(13,7))\n",
    "ax[0].set_title('landsat a17')\n",
    "im0=ax[0].imshow(tau)\n",
    "im1=ax[1].hist(tau.ravel())\n",
    "ax[1].set_title('histogram of tau values')\n",
    "divider = make_axes_locatable(ax[0])\n",
    "cax = divider.append_axes(\"bottom\", size=\"5%\", pad=0.35)\n",
    "out=fig.colorbar(im0,orientation='horizontal',cax=cax)"
   ]
  },
  {
   "cell_type": "markdown",
   "metadata": {},
   "source": [
    "## ubc_fft class"
   ]
  },
  {
   "cell_type": "markdown",
   "metadata": {},
   "source": [
    "In the next cell I define a class that calculates the 2-d fft for a square image\n",
    "\n",
    "in the method ```power_spectrum``` we calculate both the 2d fft and the power spectrum\n",
    "and save them as class attributes.  In the method ```annular_average``` I take the power spectrum,\n",
    "which is the two-dimensional field  $E(k_x, k_y)$ (in cartesian coordinates) or $E(k,\\theta)$ (in polar coordinates).\n",
    "In the method ```annular_avg``` I take the average\n",
    "\n",
    "$$\n",
    "\\overline{E}(k) = \\int_0^{2\\pi} E(k, \\theta) d\\theta\n",
    "$$\n",
    "\n",
    "and plot that average with the method ```graph_spectrum```"
   ]
  },
  {
   "cell_type": "code",
   "execution_count": null,
   "metadata": {
    "ExecuteTime": {
     "end_time": "2022-03-03T21:34:07.660224Z",
     "start_time": "2022-03-03T21:34:07.645124Z"
    }
   },
   "outputs": [],
   "source": [
    "from netCDF4 import Dataset\n",
    "import numpy as np\n",
    "import math\n",
    "from numpy import fft\n",
    "from matplotlib import pyplot as plt\n",
    "\n",
    "\n",
    "class ubc_fft:\n",
    "\n",
    "    def __init__(self, filename, var, scale):\n",
    "        \"\"\"\n",
    "           Input filename, var=variable name,\n",
    "           scale= the size of the pixel in km\n",
    "\n",
    "           Constructer opens the netcdf file, reads the data and\n",
    "           saves the twodimensional fft\n",
    "        \"\"\"\n",
    "        with Dataset(filename,'r') as fin:\n",
    "            data = fin.variables[var][...]\n",
    "        data = data - data.mean()\n",
    "        if data.shape[0] != data.shape[1]:\n",
    "            raise ValueError('expecting square matrix')\n",
    "        self.xdim = data.shape[0]     # size of each row of the array\n",
    "        self.midpoint = int(math.floor(self.xdim/2))\n",
    "        root,suffix = filename.split('.')\n",
    "        self.filename = root\n",
    "        self.var = var\n",
    "        self.scale = float(scale)\n",
    "        self.data = data\n",
    "        self.fft_data = fft.fft2(self.data)\n",
    "\n",
    "    def power_spectrum(self):\n",
    "        \"\"\"\n",
    "           calculate the power spectrum for the 2-dimensional field\n",
    "        \"\"\"\n",
    "        #\n",
    "        # fft_shift moves the zero frequency point to the  middle\n",
    "        # of the array\n",
    "        #\n",
    "        fft_shift = fft.fftshift(self.fft_data)\n",
    "        spectral_dens = fft_shift*np.conjugate(fft_shift)/(self.xdim*self.xdim)\n",
    "        spectral_dens = spectral_dens.real\n",
    "        #\n",
    "        # dimensional wavenumbers for 2dim spectrum  (need only the kx\n",
    "        # dimensional since image is square\n",
    "        #\n",
    "        k_vals = np.arange(0,(self.midpoint))+1\n",
    "        k_vals = (k_vals-self.midpoint)/(self.xdim*self.scale)\n",
    "        self.spectral_dens=spectral_dens\n",
    "        self.k_vals=k_vals\n",
    "\n",
    "    def annular_avg(self,avg_binwidth):\n",
    "        \"\"\"\n",
    "         integrate the 2-d power spectrum around a series of rings\n",
    "         of radius kradial and average into a set of 1-dimensional\n",
    "         radial bins\n",
    "        \"\"\"\n",
    "        #\n",
    "        #  define the k axis which is the radius in the 2-d polar version of E\n",
    "        #\n",
    "        numbins = int(round((math.sqrt(2)*self.xdim/avg_binwidth),0)+1)\n",
    "\n",
    "        avg_spec = np.zeros(numbins,np.float64)\n",
    "        bin_count = np.zeros(numbins,np.float64)\n",
    "\n",
    "        print(\"\\t- INTEGRATING... \")\n",
    "        for i in range(self.xdim):\n",
    "            if (i%100) == 0:\n",
    "                print(\"\\t\\trow: {} completed\".format(i))\n",
    "            for j in range(self.xdim):\n",
    "                kradial = math.sqrt(((i+1)-self.xdim/2)**2+((j+1)-self.xdim/2)**2)\n",
    "                bin_num = int(math.floor(kradial/avg_binwidth))\n",
    "                avg_spec[bin_num]=avg_spec[bin_num]+ kradial*self.spectral_dens[i,j]\n",
    "                bin_count[bin_num]+=1\n",
    "\n",
    "        for i in range(numbins):\n",
    "            if bin_count[i]>0:\n",
    "                avg_spec[i]=avg_spec[i]*avg_binwidth/bin_count[i]/(4*(math.pi**2))\n",
    "        self.avg_spec=avg_spec\n",
    "        #\n",
    "        # dimensional wavenumbers for 1-d average spectrum\n",
    "        #\n",
    "        self.k_bins=np.arange(numbins)+1\n",
    "        self.k_bins = self.k_bins[0:self.midpoint]\n",
    "        self.avg_spec = self.avg_spec[0:self.midpoint]\n",
    "\n",
    "\n",
    "\n",
    "    def graph_spectrum(self, kol_slope=-5./3., kol_offset=1., \\\n",
    "                      title=None):\n",
    "        \"\"\"\n",
    "           graph the annular average and compare it to Kolmogorov -5/3\n",
    "        \"\"\"\n",
    "        avg_spec=self.avg_spec\n",
    "        delta_k = 1./self.scale                # 1./km (1/0.025 for landsat 25 meter pixels)\n",
    "        nyquist = delta_k * 0.5\n",
    "        knum = self.k_bins * (nyquist/float(len(self.k_bins)))# k = w/(25m)\n",
    "        #\n",
    "        # draw the -5/3 line through a give spot\n",
    "        #\n",
    "        kol = kol_offset*(knum**kol_slope)\n",
    "        fig,ax=plt.subplots(1,1,figsize=(8,8))\n",
    "        ax.loglog(knum,avg_spec,'r-',label='power')\n",
    "        ax.loglog(knum,kol,'k-',label=\"$k^{-5/3}$\")\n",
    "        ax.set(title=title,xlabel='k (1/km)',ylabel='$E_k$')\n",
    "        ax.legend()\n",
    "        self.plotax=ax"
   ]
  },
  {
   "cell_type": "code",
   "execution_count": null,
   "metadata": {
    "ExecuteTime": {
     "end_time": "2022-03-03T21:34:15.853713Z",
     "start_time": "2022-03-03T21:34:15.510810Z"
    }
   },
   "outputs": [],
   "source": [
    "plt.close('all')\n",
    "plt.style.use('ggplot')\n",
    "output = ubc_fft('a17.nc','tau',0.025)\n",
    "output.power_spectrum()"
   ]
  },
  {
   "cell_type": "code",
   "execution_count": null,
   "metadata": {
    "ExecuteTime": {
     "end_time": "2022-03-03T21:34:29.176416Z",
     "start_time": "2022-03-03T21:34:28.420369Z"
    }
   },
   "outputs": [],
   "source": [
    "fig,ax=plt.subplots(1,1,figsize=(7,7))\n",
    "ax.set_title('landsat a17')\n",
    "im0=ax.imshow(np.log10(output.spectral_dens))\n",
    "ax.set_title('log10 of the 2-d power spectrum')\n",
    "divider = make_axes_locatable(ax)\n",
    "cax = divider.append_axes(\"bottom\", size=\"5%\", pad=0.35)\n",
    "out=fig.colorbar(im0,orientation='horizontal',cax=cax)"
   ]
  },
  {
   "cell_type": "code",
   "execution_count": null,
   "metadata": {
    "ExecuteTime": {
     "end_time": "2022-03-03T21:34:47.397968Z",
     "start_time": "2022-03-03T21:34:40.370991Z"
    }
   },
   "outputs": [],
   "source": [
    "avg_binwidth=5  #make the kradial bins 5 pixels wide\n",
    "output.annular_avg(avg_binwidth)"
   ]
  },
  {
   "cell_type": "code",
   "execution_count": null,
   "metadata": {
    "ExecuteTime": {
     "end_time": "2022-03-03T21:34:50.839648Z",
     "start_time": "2022-03-03T21:34:50.110205Z"
    }
   },
   "outputs": [],
   "source": [
    "output.graph_spectrum(kol_offset=2000.,title='Landsat {} power spectrum'.format(output.filename))"
   ]
  },
  {
   "cell_type": "markdown",
   "metadata": {},
   "source": [
    "## Problem -- lowpass filtering of a 2-d image\n",
    "For the image above, \n",
    "we know that the 25 meter pixels correspond to k=1/0.025 = 40 $km^{-1}$.  That means that the Nyquist\n",
    "wavenumber is k=20 $km^{-1}$.  Using that information, design a filter that removes all wavenumbers\n",
    "higher than 1 $km^{-1}$.   \n",
    "\n",
    "1) Use that filter to zero those values in the fft, then inverse transform and\n",
    "plot the low-pass filtered image.\n",
    "\n",
    "2) Take the 1-d fft of the image and repeat the plot of the power spectrum to show that there is no power in wavenumbers higher than 1 $km^{-1}$.\n",
    "\n",
    "(Hint -- I used the fftshift function to put the low wavenumber cells in the center of the fft, which made it simpler to zero the outer cells.  I then used ifftshift to reverse shift before inverse transforming to get the filtered\n",
    "image.)\n",
    "\n"
   ]
  },
  {
   "cell_type": "markdown",
   "metadata": {},
   "source": [
    "## An aside about ffts: Using the fft to compute correlation\n",
    "\n",
    "Below I use aircraft measurments of $\\theta$ and wvel taken at 25 Hz.  I compute the \n",
    "autocorrelation using numpy.correlate and numpy.fft and show they are identical, as we'd expect"
   ]
  },
  {
   "cell_type": "code",
   "execution_count": null,
   "metadata": {
    "ExecuteTime": {
     "end_time": "2022-03-03T21:36:15.510615Z",
     "start_time": "2022-03-03T21:36:14.995216Z"
    }
   },
   "outputs": [],
   "source": [
    "#http://stackoverflow.com/questions/643699/how-can-i-use-numpy-correlate-to-do-autocorrelation\n",
    "import numpy as np\n",
    "%matplotlib inline\n",
    "data = np.load('aircraft.npz')\n",
    "wvel=data['wvel'] - data['wvel'].mean()\n",
    "theta=data['theta'] - data['theta'].mean()\n",
    "autocorr = np.correlate(wvel,wvel,mode='full')\n",
    "auto_data = autocorr[wvel.size:]\n",
    "ticks=np.arange(0,wvel.size)\n",
    "ticks=ticks/25.\n",
    "fig,ax = plt.subplots(1,1,figsize=(10,8))\n",
    "ax.set(xlabel='lag (seconds)',title='autocorrelation of wvel using numpy.correlate')\n",
    "out=ax.plot(ticks[:300],auto_data[:300])"
   ]
  },
  {
   "cell_type": "code",
   "execution_count": null,
   "metadata": {
    "ExecuteTime": {
     "end_time": "2022-03-03T21:36:24.626642Z",
     "start_time": "2022-03-03T21:36:24.494830Z"
    }
   },
   "outputs": [],
   "source": [
    "import numpy.fft as fft\n",
    "the_fft = fft.fft(wvel)\n",
    "auto_fft = the_fft*np.conj(the_fft)\n",
    "auto_fft = np.real(fft.ifft(auto_fft))\n",
    "\n",
    "fig,ax = plt.subplots(1,1,figsize=(10,8))\n",
    "ax.plot(ticks[:300],auto_fft[:300])\n",
    "out=ax.set(xlabel='lag (seconds)',title='autocorrelation using fft')"
   ]
  },
  {
   "cell_type": "markdown",
   "metadata": {},
   "source": [
    "## An aside about ffts: Using ffts to find a wave envelope"
   ]
  },
  {
   "cell_type": "markdown",
   "metadata": {},
   "source": [
    "Say you have a wave in your data, but it is not across all of your domain, e.g:"
   ]
  },
  {
   "cell_type": "code",
   "execution_count": null,
   "metadata": {
    "ExecuteTime": {
     "end_time": "2022-03-08T03:05:21.654984Z",
     "start_time": "2022-03-08T03:05:21.323238Z"
    },
    "code_folding": [
     0
    ]
   },
   "outputs": [],
   "source": [
    "# Create a cosine wave modulated by a larger wavelength envelope wave\n",
    "\n",
    "# create a cosine wave that oscilates x times in 10 seconds\n",
    "# sampled at 10 Hz, so there are 10*10 = 100 measurements in 10 seconds\n",
    "#\n",
    "%matplotlib inline\n",
    "\n",
    "fig,axs = plt.subplots(2,2,figsize=(12,8))\n",
    "\n",
    "deltaT=0.1\n",
    "ticks = np.arange(0,10,deltaT)\n",
    "\n",
    "onehz=np.cos(2.0*np.pi*ticks)\n",
    "axs[0,0].plot(ticks,onehz)\n",
    "axs[0,0].set_title('wave one hz')\n",
    "\n",
    "# Define an evelope function that is zero between 0 and 2 second,\n",
    "# modulated by a sine wave between 2 and 8 and zero afterwards\n",
    "\n",
    "envelope = np.empty_like(onehz)\n",
    "envelope[0:20] = 0.0\n",
    "envelope[20:80] = np.sin((1.0/6.0)*np.pi*ticks[0:60])\n",
    "envelope[80:100] = 0.0\n",
    "\n",
    "axs[0,1].plot(ticks,envelope)\n",
    "axs[0,1].set_title('envelope')\n",
    "\n",
    "envelopewave = onehz * envelope\n",
    "\n",
    "axs[1,0].plot(ticks,envelopewave)\n",
    "axs[1,0].set_title('one hz with envelope')\n",
    "plt.show()"
   ]
  },
  {
   "cell_type": "markdown",
   "metadata": {},
   "source": [
    "We can do a standard FFT on this to see the power spectrum and then recover the original wave using the inverse FFT. However, we can also use FFTs in other ways to do wavelet analysis, e.g. to find the envelope function, using a method known as the Hilbert transform (see [Zimen et al. 2003](https://nextcloud.eoas.ubc.ca/s/E2ebfKNp2mF2kY5)). This method uses the following steps:\n",
    "1. Perform the fourier transform of the function.\n",
    "2. Apply the inverse fourier transform to only the positive wavenumber half of the Fourier spectrum.\n",
    "3. Calculate the magnitude of the result from step 2 (which will have both real and imaginary parts) and multiply by 2.0 to get the correct magnitude of the envelope function."
   ]
  },
  {
   "cell_type": "code",
   "execution_count": null,
   "metadata": {
    "ExecuteTime": {
     "end_time": "2022-03-08T03:07:51.709585Z",
     "start_time": "2022-03-08T03:07:51.558910Z"
    },
    "code_folding": []
   },
   "outputs": [],
   "source": [
    "# Calculate the envelope function\n",
    "# Step 1. FFT\n",
    "thefft=np.fft.fft(envelopewave)\n",
    "\n",
    "# Find the corresponding frequencies for each index of thefft\n",
    "# note, these may not be the exact frequencies, as that will depend on the sampling resolution\n",
    "# of your input data, but for this purpose we just want to know which ones are positive and\n",
    "# which are negative so don't need to get the constant correct\n",
    "freqs = np.fft.fftfreq(len(envelopewave))\n",
    "\n",
    "# Step 2. Hilbert transform: set all negative frequencies to 0:\n",
    "filt_fft = thefft.copy() # make a copy of the array that we will change the negative frequencies in\n",
    "filt_fft[freqs<0] = 0 # set all values for negative frequenices to 0\n",
    "\n",
    "# Inverse FFT on full field:\n",
    "recover_sig = np.fft.ifft(thefft)\n",
    "# inverse FFT on only the positive wavenumbers\n",
    "positive_k_ifft = np.fft.ifft(filt_fft)\n",
    "\n",
    "# Step 3. Calculate magnitude and multiply by 2:\n",
    "envelope_sig = 2.0 *np.abs(positive_k_ifft)\n",
    "\n",
    "# Plot the result\n",
    "fig,axs = plt.subplots(1,1,figsize=(12,8))\n",
    "\n",
    "deltaT=0.1\n",
    "ticks = np.arange(0,10,deltaT)\n",
    "\n",
    "axs.plot(ticks,envelopewave,linewidth=3,label='original signal')\n",
    "\n",
    "axs.plot(ticks,recover_sig,linestyle=':',color='k',linewidth=3,label ='signal via FFT')\n",
    "\n",
    "\n",
    "axs.plot(ticks,envelope_sig,linewidth=3,color='b',label='envelope from FFT')\n",
    "axs.set_title('Envelope from Hilbert transform')\n",
    "axs.legend(loc='best')\n",
    "plt.show()\n"
   ]
  },
  {
   "cell_type": "code",
   "execution_count": null,
   "metadata": {},
   "outputs": [],
   "source": []
  }
 ],
 "metadata": {
  "jupytext": {
   "encoding": "# -*- coding: utf-8 -*-",
   "formats": "ipynb,py:percent",
   "notebook_metadata_filter": "all,-language_info,-toc,-latex_envs"
  },
  "kernelspec": {
   "display_name": "Python 3 (ipykernel)",
   "language": "python",
   "name": "python3"
  },
  "language_info": {
   "codemirror_mode": {
    "name": "ipython",
    "version": 3
   },
   "file_extension": ".py",
   "mimetype": "text/x-python",
   "name": "python",
   "nbconvert_exporter": "python",
   "pygments_lexer": "ipython3",
   "version": "3.12.1"
  },
  "nbsphinx": {
   "execute": "never"
  },
  "toc": {
   "base_numbering": 1,
   "nav_menu": {},
   "number_sections": true,
   "sideBar": true,
   "skip_h1_title": false,
   "title_cell": "Table of Contents",
   "title_sidebar": "Contents",
   "toc_cell": false,
   "toc_position": {},
   "toc_section_display": true,
   "toc_window_display": true
  }
 },
 "nbformat": 4,
 "nbformat_minor": 2
}
