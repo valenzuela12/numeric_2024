{
 "cells": [
  {
   "cell_type": "code",
   "execution_count": 5,
   "id": "4ab17308-6955-422e-a775-642feb5960d6",
   "metadata": {
    "tags": []
   },
   "outputs": [],
   "source": [
    "import numpy as np"
   ]
  },
  {
   "cell_type": "code",
   "execution_count": 6,
   "id": "097529ef-f7a3-4891-a819-98697f074009",
   "metadata": {
    "tags": []
   },
   "outputs": [],
   "source": [
    "#Define function for the equation with the form of the matrix specified by aa:\n",
    "def equation(N1,N2):# indexes from where to start and where to end\n",
    "    N=np.arange(N1,N2)\n",
    "    A=np.zeros(shape=(len(N),len(N)))\n",
    "    k=0.05\n",
    "    l=3600\n",
    "    alpha=0.005\n",
    "    dx=20/len(N)\n",
    "    aa=np.array([1,(-2),1])\n",
    "    for i in range(N1-N1,N2-N1-2):\n",
    "        A[0,0]=1\n",
    "        A[-1,-1]=1       \n",
    "        A[i+1,i] = aa[0]*k\n",
    "        A[i+1,i+1] = aa[1]*(-(2*k)-(dx**2)*l)\n",
    "        A[i+1,i+2] = aa[2]*k\n",
    "    #\n",
    "    F=np.zeros(shape=(len(N),1))\n",
    "    for i in range(N1-N1,N2-N1):\n",
    "        F[2]=alpha*dx\n",
    "        F[0]=1\n",
    "        F[-1]=-1\n",
    "    return A,F"
   ]
  },
  {
   "cell_type": "code",
   "execution_count": 7,
   "id": "7a1c8b37-8ea3-44fc-89e2-0b0a53e580f4",
   "metadata": {
    "tags": []
   },
   "outputs": [],
   "source": [
    "matrix, solutions = equation(5,15)"
   ]
  },
  {
   "cell_type": "code",
   "execution_count": 8,
   "id": "58b11296-4f78-4fb3-a459-8ddf80ada8bd",
   "metadata": {
    "tags": []
   },
   "outputs": [
    {
     "name": "stdout",
     "output_type": "stream",
     "text": [
      "The condition number of the matrix is 28800.29396930774 and the solutions matrix is:\n",
      "[[ 1.00000000e+00]\n",
      " [-1.73609966e-06]\n",
      " [ 3.47222825e-07]\n",
      " [-6.02813218e-13]\n",
      " [ 1.04654346e-18]\n",
      " [-1.09013398e-23]\n",
      " [ 5.23267187e-18]\n",
      " [-3.01403993e-12]\n",
      " [ 1.73609905e-06]\n",
      " [-1.00000000e+00]]\n"
     ]
    }
   ],
   "source": [
    "SOL=np.linalg.solve(matrix,solutions)\n",
    "print(r'The condition number of the matrix is ' + str(np.linalg.cond(matrix)) + r' and the solutions matrix is:')\n",
    "print(SOL)"
   ]
  },
  {
   "cell_type": "code",
   "execution_count": null,
   "id": "4539f86c-4a6c-41c7-aab6-d35ade405114",
   "metadata": {},
   "outputs": [],
   "source": []
  },
  {
   "cell_type": "code",
   "execution_count": null,
   "id": "f53eb3a6-998e-47f6-a80b-ea8ea985a0af",
   "metadata": {},
   "outputs": [],
   "source": []
  }
 ],
 "metadata": {
  "kernelspec": {
   "display_name": "Python 3 (ipykernel)",
   "language": "python",
   "name": "python3"
  },
  "language_info": {
   "codemirror_mode": {
    "name": "ipython",
    "version": 3
   },
   "file_extension": ".py",
   "mimetype": "text/x-python",
   "name": "python",
   "nbconvert_exporter": "python",
   "pygments_lexer": "ipython3",
   "version": "3.11.4"
  }
 },
 "nbformat": 4,
 "nbformat_minor": 5
}
