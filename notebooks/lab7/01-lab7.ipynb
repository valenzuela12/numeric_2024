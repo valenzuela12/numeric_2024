{
 "cells": [
  {
   "cell_type": "markdown",
   "metadata": {},
   "source": [
    "# Laboratory 7: Solving partial differential equations using an explicit, finite difference method.\n",
    "\n",
    "Lin Yang & Susan Allen & Carmen Guo"
   ]
  },
  {
   "cell_type": "markdown",
   "metadata": {},
   "source": [
    "*This laboratory is long and is typically assigned in two halves.  See break after Problem 5 and before Full Equations*"
   ]
  },
  {
   "cell_type": "markdown",
   "metadata": {},
   "source": [
    "## List of Problems ##\n",
    "- [Problem 1](#Problem-One): Numerical solution on a staggered grid.\n",
    "- [Problem 2](#Problem-Two): Stability of the difference scheme\n",
    "- [Problem 3](#Problem-Three): Dispersion relation for grid 2\n",
    "- [Problem 4](#Problem-Four): Choosing most accurate grid\n",
    "- [Problem 5](#Problem-Five): Numerical solution for no y variation\n",
    "- [Problem 6](#Problem-Six): Stability on the 2-dimensional grids\n",
    "- [Problem 7](#Problem-Seven): Finite difference form of equations\n",
    "- [Problem 8](#Problem-Eight): Dispersion relation for D-grid\n",
    "- [Problem 9](#Problem-Nine): Accuracy of the approximation on various grids"
   ]
  },
  {
   "cell_type": "markdown",
   "metadata": {},
   "source": [
    "## Learning Objectives ##\n",
    "\n",
    "When you have completed reading and working through this lab you will be able to:\n",
    "\n",
    "-   find the dispersion relation for a set of differential equations\n",
    "    (the “real” dispersion relation).\n",
    "\n",
    "-   find the dispersion relation for a set of difference equations (the\n",
    "    numerical dispersion relation).\n",
    "\n",
    "-   describe a leap-frog scheme\n",
    "\n",
    "-   construct a predictor-corrector method\n",
    "\n",
    "-   use the given differential equations to determine unspecified\n",
    "    boundary conditions as necessary\n",
    "\n",
    "-   describe a staggered grid\n",
    "\n",
    "-   state one reason why staggered grids are used\n",
    "\n",
    "-   explain the physical principle behind the CFL condition\n",
    "\n",
    "-   find the CFL condition for a linear, explicit, numerical scheme\n",
    "\n",
    "-   state one criteria that should be considered when choosing a grid\n"
   ]
  },
  {
   "cell_type": "markdown",
   "metadata": {},
   "source": [
    "## Readings\n",
    "\n",
    "These are the suggested readings for this lab. For more details about\n",
    "the books and papers, click on the reference link.\n",
    "\n",
    "-   **Rotating Navier Stokes Equations**\n",
    "\n",
    "    -    [Pond and Pickard, 1983](#Ref:PondPickard), Chapters 3,4 and 6\n",
    "\n",
    "-   **Shallow Water Equations**\n",
    "\n",
    "    -    [Gill, 1982](#Ref:Gill), Section 5.6 and 7.2 (not 7.2.1 etc)\n",
    "\n",
    "-   **Poincaré Waves**\n",
    "\n",
    "    -    [Gill, 1982](#Ref:Gill), Section 7.3 to just after equation (7.3.8), section 8.2\n",
    "        and 8.3\n",
    "\n",
    "-   **Introduction to Numerical Solution of PDE’s**\n",
    "\n",
    "    -    [Press et al, 1992](#Ref:Pressetal), Section 17.0\n",
    "\n",
    "-   **Waves**\n",
    "\n",
    "    -    [Cushman-Roision, 1994](#Ref:Cushman-Roisin), Appendix A"
   ]
  },
  {
   "cell_type": "code",
   "execution_count": null,
   "metadata": {},
   "outputs": [],
   "source": [
    "import context\n",
    "from IPython.display import Image\n",
    "import IPython.display as display\n",
    "# import plotting package and numerical python package for use in examples later\n",
    "import matplotlib.pyplot as plt\n",
    "# make the plots happen inline\n",
    "%matplotlib inline\n",
    "# import the numpy array handling library\n",
    "import numpy as np\n",
    "# import the quiz script\n",
    "from numlabs.lab7 import quiz7 as quiz\n",
    "# import the pde solver for a simple 1-d tank of water with a drop of rain\n",
    "from numlabs.lab7 import rain\n",
    "# import the dispersion code plotter\n",
    "from numlabs.lab7 import accuracy2d\n",
    "# import the 2-dimensional drop solver\n",
    "from numlabs.lab7 import interactive1\n",
    "# import the 2-dimensional dispersion relation plotter\n",
    "from numlabs.lab7 import dispersion_2d"
   ]
  },
  {
   "cell_type": "markdown",
   "metadata": {},
   "source": [
    "## Physical Example, Poincaré Waves\n",
    "\n",
    "One of the obvious examples of a physical phenomena governed by a\n",
    "partial differential equation is waves. Consider a shallow layer of\n",
    "water and the waves on the surface of that layer. If the depth of the\n",
    "water is much smaller than the wavelength of the waves, the velocity of\n",
    "the water will be the same throughout the depth. So then we can describe\n",
    "the state of the water by three variables: $u(x,y,t)$, the east-west\n",
    "velocity of the water, $v(x,y,t)$, the north-south velocity of the water\n",
    "and $h(x,y,t)$, the height the surface of the water is deflected. As\n",
    "specified, each of these variables are functions of the horizontal\n",
    "position, $(x,y)$ and time $t$ but, under the assumption of shallow\n",
    "water, not a function of $z$.\n",
    "\n",
    "In oceanographic and atmospheric problems, the effect of the earth’s\n",
    "rotation is often important. We will first introduce the governing\n",
    "equations including the Coriolis force ([Full Equations](#Full-Equations)). However,\n",
    "most of the numerical concepts can be considered without all the\n",
    "complications in these equations. We will also consider two simplier\n",
    "sets; one where we assume there is no variation of the variables in the\n",
    "y-direction ([No variation in y](#No-variation-in-y)) and one where, in addition, we assume\n",
    "that the Coriolis force is negligible ([Simple Equations](#Simple-Equations)).\n",
    "\n",
    "The solution of the equations including the Coriolis force are Poincaré\n",
    "waves whereas without the Coriolis force, the resulting waves are called\n",
    "shallow water gravity waves.\n",
    "\n",
    "The remainder of this section will present the equations and discuss the\n",
    "dispersion relation for the two simplier sets of equations. If your wave\n",
    "theory is rusty, consider reading Appendix A in [Cushman-Roisin, 1994](#Ref:Cushman-Roisin)."
   ]
  },
  {
   "cell_type": "markdown",
   "metadata": {},
   "source": [
    "### Introduce Full Equations \n",
    "[full-equations]:(#Introduce-Full-Equations)\n",
    "\n",
    "The linear shallow water equations on an f-plane over a flat bottom are\n",
    "<div id='lab7:eq:swea'>\n",
    "(Full Equations, Eqn 1)\n",
    "$$\\frac{\\partial u}{\\partial t} - fv = -g\\frac{\\partial h}{\\partial x}$$\n",
    "</div><div id='lab7:eq:sweb'>\n",
    "(Full Equations, Eqn 2)\n",
    "$$\\frac{\\partial v}{\\partial t} + fu = -g\\frac{\\partial h}{\\partial y} $$\n",
    "</div><div id='lab7:eq:swec'>\n",
    "(Full Equations, Eqn 3)\n",
    "$$\\frac{\\partial h}{\\partial t} + H\\frac{\\partial u}{\\partial x} + H\\frac{\\partial v}{\\partial y} = 0$$ \n",
    "</div>\n",
    "where\n",
    "\n",
    "-   $\\vec{u} = (u,v)$ is the horizontal velocity,\n",
    "\n",
    "-   $f$ is the Coriolis frequency,\n",
    "\n",
    "-   $g$ is the acceleration due to gravity,\n",
    "\n",
    "-   $h$ is the surface elevation, and\n",
    "\n",
    "-   $H$ is the undisturbed depth of the fluid.\n",
    "\n",
    "We will return to these equations in section [Full Equations](#Full-Equations)."
   ]
  },
  {
   "cell_type": "markdown",
   "metadata": {},
   "source": [
    "### No variation in y\n",
    "[no-variation-in-y.unnumbered]: (#No-variation-in-y)\n",
    "\n",
    "To simplify the problem assume there is no variation in y. This\n",
    "simplification gives:\n",
    "<div id='lab7:sec:firsteq'>\n",
    "(No variation in y, first eqn)\n",
    "$$\\frac{\\partial u}{\\partial t} - fv = -g\\frac{\\partial h}{\\partial x}$$ \n",
    "</div><div id='lab7:sec:secondeq'>\n",
    "(No variation in y, second eqn)\n",
    "$$\\frac{\\partial v}{\\partial t} + fu = 0$$\n",
    "</div><div id='lab7:sec:thirdeq'>\n",
    "(No variation in y, third eqn)\n",
    "$$\\frac{\\partial h}{\\partial t} + H\\frac{\\partial u}{\\partial x} = 0$$\n",
    "</div>"
   ]
  },
  {
   "cell_type": "markdown",
   "metadata": {},
   "source": [
    "### Introduce Simple Equations\n",
    "[simple-equations]:(#Simple-Equations)\n",
    "\n",
    "If we consider waves in the absence of the earth’s rotation, $f=0$,\n",
    "which implies $v=0$ and we get\n",
    "<div id='lab7:sec:simple_eq1'>\n",
    "$$\\frac{\\partial u}{\\partial t} = -g\\frac{\\partial h}{\\partial x}$$\n",
    "</div><div id='lab7:sec:simple_eq2'>\n",
    "$$\\frac{\\partial h}{\\partial t} + H\\frac{\\partial u}{\\partial x} = 0$$\n",
    "</div>\n",
    "\n",
    "These simplified equations give shallow water gravity waves. For\n",
    "example, a solution is a simple sinusoidal wave:\n",
    "<div id='lab7:sec:hwave'>\n",
    "(wave solution- h)\n",
    "$$h = h_{0}\\cos{(kx - \\omega t)}$$\n",
    "</div><div id='lab7:sec:uwave'>\n",
    "(wave solution- u)\n",
    "$$u = \\frac{h_{0}\\omega}{kH}\\cos{(kx - \\omega t)}$$ \n",
    "</div>\n",
    "where $h_{0}$ is the amplitude, $k$ is the\n",
    "wavenumber and $\\omega$ is the frequency (See [Cushman-Roisin, 1994](#Ref:Cushman-Roisin) for a nice\n",
    "review of waves in Appendix A).\n",
    "\n",
    "Substitution of ([wave solution- h](#lab7:sec:hwave)) and ([wave solution- u](#lab7:sec:uwave)) back into\n",
    "the differential equations gives a relation between $\\omega$ and k.\n",
    "Confirm that \n",
    "<div id='lab7:eq:disp'>\n",
    "(Analytic Dispersion Relation)\n",
    "$$\\omega^2 = gHk^2,$$\n",
    "</div>\n",
    "which is the dispersion relation for these waves."
   ]
  },
  {
   "cell_type": "markdown",
   "metadata": {},
   "source": [
    "### No variation in y\n",
    "[no-variation-in-y-1.unnumbered]:(#No-variation-in-y)\n",
    "\n",
    "Now consider $f\\not = 0$.\n",
    "\n",
    "By assuming\n",
    "$$h= h_{0}e^{i(kx - \\omega t)}$$\n",
    "$$u= u_{0}e^{i(kx - \\omega t)}$$\n",
    "$$v= v_{0}e^{i(kx - \\omega t)}$$\n",
    "\n",
    "and substituting into the differential equations, eg, for [(No variation in y, first eqn)](#lab7:sec:firsteq)\n",
    "$$-iwu_{0}e^{i(kx - \\omega t)} - fv_{0}e^{i(kx - \\omega t)} + ikgh_{0}e^{i(kx - \\omega t)} = 0$$\n",
    "and cancelling the exponential terms gives 3 homogeneous equations for\n",
    "$u_{0}$, $v_{0}$ and $h_{0}$. If the determinant of the matrix derived\n",
    "from these three equations is non-zero, the only solution is\n",
    "$u_{0} = v_{0} = h_{0} = 0$, NO WAVE! Therefore the determinant must be\n",
    "zero."
   ]
  },
  {
   "cell_type": "markdown",
   "metadata": {},
   "source": [
    "### Quiz: Find the Dispersion Relation\n",
    "\n",
    "What is the dispersion relation for 1-dimensional Poincare waves?\n",
    "\n",
    "A) $\\omega^2 = f^2 + gH (k^2 + \\ell^2)$\n",
    "\n",
    "B) $\\omega^2 = gH k^2$\n",
    "\n",
    "C) $\\omega^2 = f^2 + gH k^2$\n",
    "\n",
    "D) $\\omega^2 = -f^2 + gH k^2$\n",
    "\n",
    "In the following, replace 'x' by 'A', 'B', 'C' or 'D' and run the cell."
   ]
  },
  {
   "cell_type": "code",
   "execution_count": null,
   "metadata": {},
   "outputs": [],
   "source": [
    "print (quiz.dispersion_quiz(answer = 'XXX'))"
   ]
  },
  {
   "cell_type": "markdown",
   "metadata": {},
   "source": [
    "## Numerical Solution\n",
    "\n",
    "### Simple Equations\n",
    "[simple-equations]:(#Simple-Equations)\n",
    "\n",
    "Consider first the simple equations with $f = 0$. In order to solve\n",
    "these equations numerically, we need to discretize in 2 dimensions, one\n",
    "in space and one in time. Consider first the most obvious choice, shown\n",
    "in Figure [Unstaggered Grid](#lab7:fig:nonstagger)."
   ]
  },
  {
   "cell_type": "code",
   "execution_count": null,
   "metadata": {},
   "outputs": [],
   "source": [
    "Image(filename='images/nonstagger.png',width='40%')"
   ]
  },
  {
   "cell_type": "markdown",
   "metadata": {},
   "source": [
    "<div id='lab7:fig:nonstagger'>\n",
    "<b>Figure Unstaggered Grid.</b>\n",
    "</div>\n",
    "\n",
    "We will use centred difference schemes in both $x$ and $t$. The\n",
    "equations become:\n",
    "<div id='lab7:eq:nonstaggerGrid1'>\n",
    "(Non-staggered, Eqn One)\n",
    "$$\\frac {u(t+dt, x)-u(t-dt, x)}{2 dt} + g \\frac {h(t, x+dx) - h(t, x-dx)}{2dx} = 0$$\n",
    "</div><div id='lab7:eq:nonstaggerGrid2'>\n",
    "(Non-staggered, Eqn Two)\n",
    "$$\\frac {h(t+dt, x)-h(t-dt, x)}{2 dt} + H \\frac {u(t, x+dx) - u(t, x-dx)}{2dx} = 0$$\n",
    "</div>\n",
    "We can rearrange these equations to\n",
    "give $u(t+dt, x)$ and $h(t+dt, x)$. For a small number of points, the\n",
    "resulting problem is simple enough to solve in a notebook.\n",
    "\n",
    "For a specific example, consider a dish, 40 cm long, of water 1 cm deep.\n",
    "Although the numerical code presented later allows you to vary the\n",
    "number of grid points, in the discussion here we will use only 5 spatial\n",
    "points, a distance of 10 cm apart. The lack of spatial resolution means\n",
    "the wave will have a triangular shape. At $t=0$ a large drop of water\n",
    "lands in the centre of the dish. So at $t=0$, all points have zero\n",
    "velocity and zero elevation except at $x=3dx$, where we have\n",
    "$$h(0, 3dx) = h_{0} = 0.01 cm$$\n",
    "\n",
    "A centred difference scheme in time, such as defined by equations\n",
    "([Non-staggered, Eqn One](#lab7:eq:nonstaggerGrid1)) and ([Non-staggered, Eqn Two](#lab7:eq:nonstaggerGrid2)), is\n",
    "usually refered to as a *Leap frog scheme*. The new values, $h(t+dt)$\n",
    "and $u(t+dt)$ are equal to values two time steps back $h(t-dt)$ and\n",
    "$u(t-dt)$ plus a correction based on values calculated one time step\n",
    "back. Hence the time scheme “leap-frogs” ahead. More on the consequences\n",
    "of this process can be found in section [Computational Mode](#Computational-Mode).\n",
    "\n",
    "As a leap-frog scheme requires two previous time steps, the given\n",
    "conditions at $t=0$ are not sufficient to solve\n",
    "([Non-staggered, Eqn One](#lab7:eq:nonstaggerGrid1)) and ([Non-staggered, Eqn Two](#lab7:eq:nonstaggerGrid2)). We\n",
    "need the solutions at two time steps in order to step forward."
   ]
  },
  {
   "cell_type": "markdown",
   "metadata": {},
   "source": [
    "### Predictor-Corrector to Start\n",
    "[lab7:sec:pred-cor]:(#Predictor-Corrector-to-Start)\n",
    "\n",
    "In section 4.2.2 of Lab 2, predictor-corrector methods were introduced.\n",
    "We will use a predictor-corrector based on the forward Euler scheme, to\n",
    "find the solution at the first time step, $t=dt$. Then the second order\n",
    "scheme ([Non-staggered, Eqn One](#lab7:eq:nonstaggerGrid1)), ([Non-staggered, Eqn Two](#lab7:eq:nonstaggerGrid2)) can be used.\n",
    "\n",
    "Using the forward Euler Scheme, the equations become\n",
    "<div id='lab7:eq:newnonstaggerGrid1'>\n",
    "$$\\frac {u(t+dt, x)-u(t, x)}{dt} + g \\frac {h(t, x+dx) - h(t, x-dx)}{2dx} = 0$$\n",
    "</div><div id='lab7:eq:newnonstaggerGrid2'>\n",
    "$$\\frac {h(t+dt, x)-h(t, x)}{dt} + H \\frac {u(t, x+dx) - u(t, x-dx)}{2dx} = 0$$\n",
    "</div>\n",
    "\n",
    "1.  Use this scheme to predict $u$ and $h$ at $t=dt$.\n",
    "\n",
    "2.  Average the solution at $t=0$ and that predicted for $t=dt$, to\n",
    "    estimate the solution at $t=\\frac{1}{2}dt$. You should confirm that\n",
    "    this procedure gives: $$u(\\frac{dt}{2}) = \\left\\{ \\begin{array}{ll}\n",
    "    0 & { x = 3dx}\\\\\n",
    "    \\left({-gh_{0}dt}\\right)/\\left({4dx}\\right) & { x = 2dx}\\\\\n",
    "    \\left({gh_{0}dt}\\right)/\\left({4dx}\\right) & { x = 4dx}\n",
    "    \\end{array}\n",
    "    \\right.$$\n",
    "\n",
    "    $$h(\\frac{dt}{2}) = \\left\\{ \\begin{array}{ll}\n",
    "    h_{0} & { x = 3dx}\\\\\n",
    "    0 & { x \\not= 3dx}\n",
    "    \\end{array}\n",
    "    \\right.$$\n",
    "\n",
    "3.  The corrector step uses the centred difference scheme in time (the\n",
    "    leap-frog scheme) with a time step of ${dt}/{2}$ rather than dt. You\n",
    "    should confirm that this procedure gives:\n",
    "    $$u(dt) = \\left\\{ \\begin{array}{ll}\n",
    "    0 & { x = 3dx}\\\\\n",
    "    \\left({-gh_{0}dt}\\right)/\\left({2dx}\\right) & { x = 2dx}\\\\\n",
    "    \\left({gh_{0}dt}\\right)/\\left({2dx}\\right) & { x = 4dx}\n",
    "    \\end{array}\n",
    "    \\right.$$\n",
    "\n",
    "    $$h(dt) = \\left\\{ \\begin{array}{ll}\n",
    "    0 & { x = 2dx, 4dx}\\\\\n",
    "    h_{0} - \\left({gHdt^2 h_{0}}\\right)/\\left({4dx^2}\\right) & { x = 3dx}\n",
    "    \\end{array}\n",
    "    \\right.$$\n",
    "\n",
    "Note that the values at $x=dx$ and $x=5dx$ have not been specified.\n",
    "These are boundary points and to determine these values we must consider\n",
    "the boundary conditions."
   ]
  },
  {
   "cell_type": "markdown",
   "metadata": {},
   "source": [
    "### Boundary Conditions\n",
    "\n",
    "If we are considering a dish of water, the boundary conditions at\n",
    "$x=dx, 5dx$ are those of a wall. There must be no flow through the wall.\n",
    "$$u(dx) = 0$$\n",
    "$$u(5dx) = 0$$\n",
    "But these two conditions are not\n",
    "sufficient; we also need $h$ at the walls. If $u=0$ at the wall for all\n",
    "time then $\\partial u/\\partial t=0$ at the wall, so $\\partial h/\\partial x=0$ at the wall. Using a\n",
    "one-sided difference scheme this gives\n",
    "$$\\frac {h(2dx) - h(dx)}{dx} = 0$$\n",
    "or\n",
    "$$h(dx) = h(2dx)$$\n",
    "and\n",
    "$$\\frac {h(4dx) - h(5dx)}{dx} = 0$$\n",
    "or\n",
    "$$h(5dx) = h(4dx)$$\n",
    "which gives the required boundary conditions on $h$ at the wall."
   ]
  },
  {
   "cell_type": "markdown",
   "metadata": {},
   "source": [
    "### Simple Equations on a Non-staggered Grid\n",
    "\n",
    "1.  Given the above equations and boundary conditions, we can find the\n",
    "    values of $u$ and $h$ at all 5 points when $t = 0$ and $t = dt$.\n",
    "\n",
    "2.  From ([Non-staggered, Eqn One](#lab7:eq:nonstaggerGrid1)) and ([Non-staggered, Eqn Two](#lab7:eq:nonstaggerGrid2)), we can find the values of $u$ and\n",
    "    $h$ for $t = 2dt$ using $u(0, x)$, $u(dt, x)$, $h(0, x)$, and\n",
    "    $h(dt, x)$.\n",
    "\n",
    "3.  Then we can find the values of $u$ and $h$ at $t = 3dt$ using\n",
    "    $u(dt, x)$, $u(2dt, x)$, $h(dt, x)$, and $h(2dt, x)$.\n",
    "\n",
    "We can use this approach recursively to determine the values of $u$ and\n",
    "$h$ at any time $t = n * dt$. The python code that solves this problem\n",
    "is provided in the file rain.py. It takes two arguments, the first is the\n",
    "number of time steps and the second is the number of horizontal grid\n",
    "points. \n",
    "\n",
    "The output is two coloured graphs.  The color represents time with black\n",
    "the earliest times and red later times.  The upper plot shows the water\n",
    "velocity (u) and the lower plot shows the water surface.  To start with\n",
    "the velocity is 0 (black line at zero across the whole domain) and the\n",
    "water surface is up at the mid point and zero at all other points (black\n",
    "line up at midpoint and zero elsewhere)\n",
    "\n",
    "Not much happens in 6 time-steps.  Do try longer and more grid points."
   ]
  },
  {
   "cell_type": "code",
   "execution_count": null,
   "metadata": {},
   "outputs": [],
   "source": [
    "rain.rain([6, 5])"
   ]
  },
  {
   "cell_type": "markdown",
   "metadata": {},
   "source": [
    "If you want to change something in the script (say the colormap I've chosen, viridis, doesn't work for you), you can edit rain.py in an editor or spyder.  To make it take effect here though, you have to reload rain.  See next cell for how to.  You will also need to do this if you do problem one or other tests changing rain.py but running in a notebook."
   ]
  },
  {
   "cell_type": "code",
   "execution_count": null,
   "metadata": {},
   "outputs": [],
   "source": [
    "import importlib\n",
    "importlib.reload(rain)"
   ]
  },
  {
   "cell_type": "markdown",
   "metadata": {},
   "source": [
    "### Staggered Grids\n",
    "[lab7:sec:staggered]:(#Staggered-Grids)\n",
    "\n",
    "After running the program with different numbers of spatial points, you\n",
    "will discover that the values of $u$ are always zero at the odd numbered\n",
    "points, and that the values of $h$ are always zero at the even numbered\n",
    "points. In other words, the values of $u$ and $h$ are zero in every\n",
    "other column starting from $u(t, dx)$ and $h(t, 2dx)$, respectively.\n",
    "\n",
    "A look at ([Non-staggered, Eqn One](#lab7:eq:nonstaggerGrid1)) and ([Non-staggered, Eqn Two](#lab7:eq:nonstaggerGrid2)) can help us understand why this is the\n",
    "case:\n",
    "\n",
    "$u(t + dt, x)$ is dependent on $h(t , x + dx)$ and $h(t , x - dx)$,\n",
    "\n",
    "but $h(t , x + dx)$ is in turn dependent on $u$ at $x + 2dx$ and at\n",
    "$x$,\n",
    "\n",
    "and $h(t , x - dx)$ is in turn dependent on $u$ at $x - 2dx$ and at\n",
    "$x$.\n",
    "\n",
    "Thus, if we just look at $u$ at a particular $x$, $u(x)$ will depend on\n",
    "$u(x + 2dx)$, $u(x - 2dx)$, $u(x + 4dx)$, $u(x - 4dx)$, $u(x + 6dx)$,\n",
    "$u(x - 6dx),$ ... but not on $u(x + dx)$ or $u(x - dx)$. Therefore, the\n",
    "problem is actually decoupled and consists of two independent problems:\n",
    "one problem for all the $u$’s at odd numbered points and all the $h$’s\n",
    "at even numbered points, and the other problem for all the $u$’s at even\n",
    "numbered points and all the $h$’s at odd numbered points, as shown in\n",
    "Figure [Unstaggered Dependency](#lab7:fig:dependency)."
   ]
  },
  {
   "cell_type": "code",
   "execution_count": null,
   "metadata": {},
   "outputs": [],
   "source": [
    "Image(filename='images/dependency.png',width='50%')"
   ]
  },
  {
   "cell_type": "markdown",
   "metadata": {},
   "source": [
    "<div id='lab7:fig:dependency'>\n",
    "<b>Figure Unstaggered Dependency</b>\n",
    "</div>\n",
    "\n",
    "In either problem, only the variable that is relevant to that problem\n",
    "will be considered at each point. So for one problem, if at point $x$ we\n",
    "consider the $u$ variable, at $x + dx$ and $x -dx$ we consider $h$. In\n",
    "the other problem, at the same point $x$, we consider the variable $h$.\n",
    "\n",
    "Now we can see why every second $u$ point and $h$ point are zero for\n",
    "*rain*. We start with all of\n",
    "$u(dx), h(2dx), u(3dx), h(4dx), u(5dx) = 0$, which means they remain at\n",
    "zero.\n",
    "\n",
    "Since the original problem can be decoupled, we can solve for $u$ and\n",
    "$h$ on each decoupled grid separately. But why solve two problems?\n",
    "Instead, we solve for $u$ and $h$ on a single staggered grid; whereas\n",
    "before we solved for $u$ and $h$ on the complete, non-staggered grid.\n",
    "Figure [Decoupling](#lab7:fig:decoupling) shows the decoupling of the grids."
   ]
  },
  {
   "cell_type": "code",
   "execution_count": null,
   "metadata": {
    "scrolled": false
   },
   "outputs": [],
   "source": [
    "Image(filename='images/decoupling.png',width='50%')"
   ]
  },
  {
   "cell_type": "markdown",
   "metadata": {},
   "source": [
    "<div id='lab7:fig:decoupling'>\n",
    "<b>Figure Decoupling</b>: The two staggered grids and the unstaggered grid. Note that the\n",
    "unstaggered grid has two variables at each grid/time point whereas the\n",
    "staggered grids only have one.\n",
    "</div>"
   ]
  },
  {
   "cell_type": "markdown",
   "metadata": {},
   "source": [
    "Now consider the solution of the same problem on a staggered grid. The\n",
    "set-up of the problem is slightly different this time; we are\n",
    "considering 4 spatial points in our discussion instead of 5, shown in\n",
    "Figure [Staggered Grid](#lab7:fig:stagger). We will also be using $h_{i}$ and $u_{i}$ to\n",
    "denote the spatial points instead of $x = dx * i$."
   ]
  },
  {
   "cell_type": "code",
   "execution_count": null,
   "metadata": {},
   "outputs": [],
   "source": [
    "Image(filename='images/stagger.png',width='50%')"
   ]
  },
  {
   "cell_type": "markdown",
   "metadata": {},
   "source": [
    "<div id='lab7:fig:stagger'>\n",
    "<b>Figure Staggered Grid</b>: The staggered grid for the drop in the pond problem.\n",
    "</div>\n",
    "\n",
    "The original equations, boundary and initial conditions are changed to\n",
    "reflect the staggered case. The equations are changed to the following:\n",
    "<div id='lab7:eq:staggerGrid1'>\n",
    "(Staggered, Eqn 1)\n",
    "$$\\frac {u_{i}(t+dt)-u_{i}(t-dt)}{2 dt} + g \\frac {h_{i + 1}(t) - h_{i}(t)}{dx} = 0$$\n",
    "</div><div id='lab7:eq:staggerGrid2'>\n",
    "(Staggered, Eqn 2)\n",
    "$$\\frac {h_{i}(t+dt)-h_{i}(t-dt)}{2 dt} + H \\frac {u_{i}(t) - u_{i - 1}(t)}{dx} = 0$$\n",
    "</div>\n",
    "\n",
    "The initial conditions are: At $t = 0$ and $t = dt$, all points have\n",
    "zero elevation except at $h_{3}$, where \n",
    "$$h_{3}(0) = h_{0}$$\n",
    "$$h_{3}(dt) = h_{3}(0) - h_{0} Hg \\frac{dt^2}{dx^2}$$ \n",
    "At $t = 0$ and\n",
    "$t = dt$, all points have zero velocity except at $u_{2}$ and $u_{3}$,\n",
    "where \n",
    "$$u_{2}(dt) = - h_{0} g \\frac{dt}{dx}$$\n",
    "$$u_{3}(dt) = - u_{2}(dt)$$ \n",
    "This time we assume there is a wall at\n",
    "$u_{1}$ and $u_{4}$, so we will ignore the value of $h_{1}$. The\n",
    "boundary conditions are: \n",
    "$$u_{1}(t) = 0$$ \n",
    "$$u_{4}(t) = 0$$\n",
    "\n",
    "### Problem One\n",
    "[lab7:prob:staggered]:(#Problem-One)\n",
    "\n",
    "Modify *rain.py* to solve this problem (Simple\n",
    "equations on a staggered grid). Submit your code and a final plot for\n",
    "one case.\n"
   ]
  },
  {
   "cell_type": "markdown",
   "metadata": {},
   "source": [
    "## Stability: the CFL condition\n",
    "[lab7:stability]:(#Stability:-the-CFL-condition)\n",
    "\n",
    "In the previous problem, $dt = 0.001$s is used to find $u$ and $h$. If\n",
    "you increase $dt$ by 100 times, and run *rain.py* on your staggered grid\n",
    "code again, you can see that the magnitude of $u$ has increased from\n",
    "around 0.04 to $10^8$! Try this by changing $dt = 0.001$ to\n",
    "$dt = 0.1$ in the code and compare the values of $u$ when run with\n",
    "different values of $dt$. This tells us that the scheme we have been\n",
    "using so far is unstable for large values of $dt$.\n",
    "\n",
    "To understand this instability, consider a spoked wagon wheel in an old\n",
    "western movie (or a car wheel with a pattern in a modern TV movie) such\n",
    "as that shown in Figure [Wheel](#lab7:fig:wheel-static)."
   ]
  },
  {
   "cell_type": "code",
   "execution_count": null,
   "metadata": {},
   "outputs": [],
   "source": [
    "Image(filename='images/wheel_static.png',width='35%')"
   ]
  },
  {
   "cell_type": "markdown",
   "metadata": {},
   "source": [
    "<div id='lab7:fig:wheel-static'>\n",
    "<b>Figure Wheel</b>: A spoked wagon wheel.\n",
    "</div>\n",
    "\n",
    "Sometimes the wheels appear to be going backwards. Both TV and\n",
    "movies come in frames and are shown at something like 30 frames a second.\n",
    "So a movie discretizes time. If the wheel moves just a little in the\n",
    "time step between frames, your eye connects the old position with the\n",
    "new position and the wheel moves forward $-$ a single frame is shown in\n",
    "Figure [Wheel Left](#lab7:fig:wheel-left)."
   ]
  },
  {
   "cell_type": "code",
   "execution_count": null,
   "metadata": {},
   "outputs": [],
   "source": [
    "Image(filename='images/wheel_left.png',width='35%')"
   ]
  },
  {
   "cell_type": "markdown",
   "metadata": {},
   "source": [
    "<div id='lab7:fig:wheel-left'>\n",
    "<b>Figure Wheel Left:</b> The wheel appears to rotate counter-clockwise if its speed is slow\n",
    "enough.\n",
    "</div>"
   ]
  },
  {
   "cell_type": "code",
   "execution_count": null,
   "metadata": {
    "scrolled": true
   },
   "outputs": [],
   "source": [
    "vid = display.YouTubeVideo(\"hgQ66frbBEs\", modestbranding=1, rel=0, width=500)\n",
    "display.display(vid)"
   ]
  },
  {
   "cell_type": "markdown",
   "metadata": {},
   "source": [
    "However, if the wheel is moving faster, your eye connects each spoke\n",
    "with the next spoke and the wheel seems to move backwards $-$ a single\n",
    "frame is depicted in Figure [Wheel Right](#lab7:fig:wheel-right)."
   ]
  },
  {
   "cell_type": "code",
   "execution_count": null,
   "metadata": {},
   "outputs": [],
   "source": [
    "Image(filename='images/wheel_right.png',width='35%')"
   ]
  },
  {
   "cell_type": "markdown",
   "metadata": {},
   "source": [
    "<div id='lab7:fig:wheel-right'>\n",
    "<b>Figure Wheel Right</b>: When the wheel spins quickly enough, it appears to rotate\n",
    "clockwise!\n",
    "</div>"
   ]
  },
  {
   "cell_type": "code",
   "execution_count": null,
   "metadata": {},
   "outputs": [],
   "source": [
    "vid = display.YouTubeVideo(\"w8iQIwX-ek8\", modestbranding=1, rel=0, width=500)\n",
    "display.display(vid)"
   ]
  },
  {
   "cell_type": "markdown",
   "metadata": {},
   "source": [
    "In a similar manner, the time discretization of any wave must be small\n",
    "enough that a given crest moves less than half a grid point in a time\n",
    "step. Consider the wave pictured in Figure [Wave](#lab7:fig:wave-static)."
   ]
  },
  {
   "cell_type": "code",
   "execution_count": null,
   "metadata": {},
   "outputs": [],
   "source": [
    "Image(filename='images/wave_static.png',width='65%')"
   ]
  },
  {
   "cell_type": "markdown",
   "metadata": {},
   "source": [
    "<div id='lab7:fig:wave-static'>\n",
    "<b>Figure Wave</b>: A single frame of the wave.\n",
    "</div>\n",
    "\n",
    "If the wave moves slowly, it seems to move in the correct direction\n",
    "(i.e. to the left), as shown in Figure [Wave Left](#lab7:fig:wave-left)."
   ]
  },
  {
   "cell_type": "code",
   "execution_count": null,
   "metadata": {},
   "outputs": [],
   "source": [
    "Image(filename='images/wave_left.png',width='65%')"
   ]
  },
  {
   "cell_type": "markdown",
   "metadata": {},
   "source": [
    "<div id='lab7:fig:wave-left'>\n",
    "<b>Figure Wave Left</b>: The wave moving to the left also appears to be moving to the left if\n",
    "it’s speed is slow enough.\n",
    "</div>"
   ]
  },
  {
   "cell_type": "code",
   "execution_count": null,
   "metadata": {},
   "outputs": [],
   "source": [
    "vid = display.YouTubeVideo(\"CVybMbfYRXM\", modestbranding=1, rel=0, width=500)\n",
    "display.display(vid)"
   ]
  },
  {
   "cell_type": "markdown",
   "metadata": {},
   "source": [
    "However if the wave moves quickly, it seems to move backward, as in\n",
    "Figure [Wave Right](#lab7:fig:wave-right)."
   ]
  },
  {
   "cell_type": "code",
   "execution_count": null,
   "metadata": {},
   "outputs": [],
   "source": [
    "Image(filename='images/wave_right.png',width='65%')"
   ]
  },
  {
   "cell_type": "markdown",
   "metadata": {},
   "source": [
    "<a name='lab7:fig:wave-right'></a>\n",
    "<b>Figure Wave Right</b>: If the wave moves too rapidly, then it appears to be moving in the\n",
    "opposite direction."
   ]
  },
  {
   "cell_type": "code",
   "execution_count": null,
   "metadata": {},
   "outputs": [],
   "source": [
    "vid = display.YouTubeVideo(\"al2VrnkYyD0\", modestbranding=1, rel=0, width=500)\n",
    "display.display(vid)"
   ]
  },
  {
   "cell_type": "markdown",
   "metadata": {},
   "source": [
    "In summary, an explicit numerical scheme is unstable if the time step is\n",
    "too large. Such a large time step does not resolve the process being\n",
    "modelled. Now we need to calculate, for our problem, the maximum value\n",
    "of the time step is for which the scheme remains stable. To do this\n",
    "calculation we will derive the dispersion relation of the waves\n",
    "*in* the numerical scheme. The maximum time step for\n",
    "stability will be the maximum time step for which all waves either\n",
    "maintain their magnitude or decay.\n",
    "\n",
    "Mathematically, consider the equations ([Staggered, Eqn 1](#lab7:eq:staggerGrid1)) and\n",
    "([Staggered, Eqn 2](#lab7:eq:staggerGrid2)). Let $x=md$ and $t=p\\, dt$ and consider a\n",
    "solution \n",
    "<div id='eq:udis'>\n",
    "(u-solution)\n",
    "$$\\begin{aligned}\n",
    "u_{mp} &=& {\\cal R}e \\{ {\\cal U} \\exp [i(kx - \\omega t)] \\}\\\\\n",
    "&=& {\\cal R}e \\{ {\\cal U} \\exp [i(kmd - \\omega p\\, dt)] \\} \\nonumber\\end{aligned}$$\n",
    "$$\\begin{aligned}\n",
    "h_{mp} &=& {\\cal R}e \\{ {\\cal H} \\exp [i(k[x - dx/2] - \\omega t)] \\}\\\\\n",
    "&=& {\\cal R}e \\{ {\\cal H} \\exp [i(k[m - 1/2]d - \\omega p\\, dt)] \\} \\nonumber\\end{aligned}$$\n",
    "where ${\\cal R}e$ means take the real part and ${\\cal U}$ and ${\\cal H}$\n",
    "are constants. Substitution into ([Staggered, Eqn 1](#lab7:eq:staggerGrid1)) and\n",
    "([Staggered, Eqn 2](#lab7:eq:staggerGrid2)) gives two algebraic equations in ${\\cal U}$\n",
    "and ${\\cal H}$ which can be written: \n",
    "$$\\left[\n",
    "\\begin{array}{cc} - \\sin(\\omega dt)/ dt & 2 g \\sin(kd/2)/d \\\\\n",
    "2 H \\sin(kd/2)/d &  -\\sin(\\omega \\, dt)/ dt \\\\\n",
    "\\end{array}\n",
    "\\right]\n",
    "\\left[\n",
    "\\begin{array}{c} {\\cal U}\\\\ {\\cal H}\\\\ \n",
    "\\end{array} \\right]\n",
    "= 0.$$ \n",
    "</div>\n",
    "where $\\exp(ikd)-\\exp(-ikd)$ has been written $2 i \\sin(kd)$ etc.\n",
    "In order for there to be a non-trivial solution, the determinant of the\n",
    "matrix must be zero. This determinant gives the dispersion relation\n",
    "<div id='lab7:eq:numerDisp'>\n",
    "(Numerical Dispersion Relation)\n",
    "$$ \\frac{\\sin^2(\\omega \\, dt)}{dt^2} = 4 gH \\frac {\\sin^2(kd/2)}{d^2}$$\n",
    "</div>\n",
    "Which can be compared to the ([Analytic Dispersion Relation](#lab7:eq:disp)), the “real” dispersion\n",
    "relation. In particular, if we decrease both the time step and the space\n",
    "step, $dt \\rightarrow 0$ and $d \\rightarrow 0$, \n",
    "([Numerical Dispersion Relation](#lab7:eq:numerDisp))\n",
    "approaches ([Analytic Dispersion Relation](#lab7:eq:disp)). The effect of just the discretization in\n",
    "space can be found by letting just $dt \\rightarrow 0$ which gives\n",
    "<div id='lab7:eq:numerDispSpace'>\n",
    "(Continuous Time, Discretized Space Dispersion Relation)\n",
    "$$\\omega^2 = 4 gH \\frac {\\sin^2(kd/2)}{d^2}$$\n",
    "</div>"
   ]
  },
  {
   "cell_type": "markdown",
   "metadata": {},
   "source": [
    "The “real” dispersion relation, ([Analytic Dispersion Relation](#lab7:eq:disp)), and the numerical\n",
    "dispersion relation with continuous time,\n",
    "([Continuous Time, Discretized Space Dispersion Relation](#lab7:eq:numerDispSpace)), both give $\\omega^2$ positive and\n",
    "therefore $\\omega$ real. However, this is not necessarily true for the\n",
    "numerical dispersion relation ([Numerical Dispersion Relation](#lab7:eq:numerDisp)). What does a\n",
    "complex $\\omega$ mean? Well, go back to ([u-solution](#eq:udis)). A complex\n",
    "$\\omega = a + ib$ gives $u \\propto \\exp(-iat)\\exp(bt)$. The first\n",
    "exponential is oscillatory (like a wave) but the second gives\n",
    "exponential growth if $b$ is positive or exponential decay if $b$ is\n",
    "negative. Obviously, for a stable solution we must have $b \\le 0$. So,\n",
    "using ([Numerical Dispersion Relation](#lab7:eq:numerDisp)) we must find $\\omega$ and determine if it\n",
    "is real.\n",
    "\n",
    "Now, because ([Numerical Dispersion Relation](#lab7:eq:numerDisp)) is a transcendental equation, how\n",
    "to determine $\\omega$ is not obvious. The following works:\n",
    "\n",
    "-   Re-expand $\\sin(\\omega\\,dt)$ as\n",
    "    $(\\exp(i \\omega\\,dt)-\\exp(-i\\omega\\,dt))/2i$.\n",
    "\n",
    "-   Write $\\exp(-i\\omega\\,dt)$ as $\\lambda$ and note that this implies\n",
    "    $\\exp(i\\omega\\, dt) = 1/\\lambda$. If $\\omega dt = a + ib$ then\n",
    "    $b =  ln |\\lambda|$. For stability the magnitude of $\\lambda$ must\n",
    "    be less than one.\n",
    "\n",
    "-   Write $4 gH \\sin^2(kd/2)/d^2$ as $q^2$, for brevity.\n",
    "\n",
    "-   Substitute in ([Numerical Dispersion Relation](#lab7:eq:numerDisp)) which gives:\n",
    "    $$-(\\lambda-1/\\lambda)^2 = 4 q^2 dt^2$$ \n",
    "    or\n",
    "    $$\\lambda^4 - 2 (1 - 2 q^2 dt^2) \\lambda^2 + 1 = 0$$ \n",
    "    or\n",
    "    <div id='lab7:eq:lambda'>\n",
    "    (Lambda Eqn)\n",
    "    $$\\lambda = \\pm \\left(1-2q^2 dt^2 \\pm 2 q dt \\left( q^2\n",
    "        dt^2 - 1 \\right)^{1/2} \\right)^{1/2}$$ \n",
    "    </div>\n",
    "\n",
    "A plot of the four roots for $\\lambda$ is shown below in\n",
    "Figure [Roots](#lab7:fig:allmag)."
   ]
  },
  {
   "cell_type": "code",
   "execution_count": null,
   "metadata": {},
   "outputs": [],
   "source": [
    "Image(filename='images/allmag.png',width='45%')"
   ]
  },
  {
   "cell_type": "markdown",
   "metadata": {},
   "source": [
    "<div id='lab7:fig:allmag'>\n",
    "<b>Figure Roots</b>: Magnitude of the four roots of $\\lambda$ as a function of $q dt$ (not\n",
    "$\\omega dt$).\n",
    "</div>\n",
    "\n",
    "The four roots correspond to the “real” waves travelling to the right\n",
    "and left, as well two *computational modes* (see\n",
    "Section [Computational Mode](#Computational-Mode) for more information). The plots for\n",
    "the four roots overlap, so it is most helpful to view [separate plots for each of the roots](#lab7:fig:sepmag). "
   ]
  },
  {
   "cell_type": "code",
   "execution_count": null,
   "metadata": {},
   "outputs": [],
   "source": [
    "Image(filename='images/multimag.png',width='60%')"
   ]
  },
  {
   "cell_type": "markdown",
   "metadata": {},
   "source": [
    "<div id='lab7:fig:sepmag'>\n",
    "<b>Figure Separate Roots</b>: Magnitude of the four roots of $\\lambda$ as a function of $q dt$ (not $\\omega dt$).\n",
    "</div>\n",
    "\n",
    "Now for stability\n",
    "$\\lambda$ must have a magnitude less than or equal to one. From\n",
    "Figure [Separate Roots](#lab7:fig:sepmag), it is easy to see that this is the same as\n",
    "requiring that $|q dt|$ be less than 1.0.\n",
    "\n",
    "Substituting for $q$\n",
    "$$1 > q^2 dt^2 =  \\frac {4gH}{d^2} \\sin^2(kd/2) dt^2$$ \n",
    "for all $k$."
   ]
  },
  {
   "cell_type": "markdown",
   "metadata": {},
   "source": [
    "The maximum wavenumber that can be resolved by a grid of size $d$ is\n",
    "$k = \\pi/d$. At this wavenumber, the sine takes its maximum value of 1.\n",
    "So the time step \n",
    "<div id='lab7:eq:dt'>\n",
    "$$dt^2 < \\frac { d^2}{4 g H}$$\n",
    "</div>\n",
    "\n",
    "For this case ($f = 0$) the ratio of the space step to the time step\n",
    "must be greater than the wave speed $\\sqrt\n",
    "{gH}$, or $$d / dt > 2  \\sqrt{gH}.$$ This stability condition is known\n",
    "as **the CFL condition** (named after Courant, Friedrich and Levy).\n",
    "\n",
    "On a historical note, the first attempts at weather prediction were\n",
    "organized by Richardson using a room full of human calculators. Each\n",
    "person was responsible for one grid point and passed their values to\n",
    "neighbouring grid points. The exercise failed dismally, and until the\n",
    "theory of CFL, the exact reason was unknown. The equations Richardson\n",
    "used included fast sound waves, so the CFL condition was\n",
    "$$d/dt > 2 \\times 300 {\\rm m/s}.$$ \n",
    "Richardson’s spatial step, $d$, was\n",
    "too small compared to $dt$ and the problem was unstable.\n",
    "\n",
    "### Problem Two \n",
    "[lab7:prob:stability]:(#Problem-Two)\n",
    "> a) Find the CFL condition (in seconds) for $dt$\n",
    "for the Python example in Problem One.\n",
    "\n",
    "<!--- [lab7:prob:staggered]--->\n",
    "\n",
    "Test your value. \n",
    "\n",
    "b) Find the CFL condition (in seconds) for $dt$ for the Python\n",
    "example in *rain.py*, ie., for the non-staggered grid. Test your value.\n"
   ]
  },
  {
   "cell_type": "markdown",
   "metadata": {},
   "source": [
    "## Accuracy\n",
    "[lab7:accuracy]:(#Accuracy)\n",
    "\n",
    "A strong method to determine the accuracy of a scheme is to compare the\n",
    "numerical solution to an analytic solution. The equations we are\n",
    "considering are wave equations and so we will compare the properties of\n",
    "the waves. Wave properties are determined by the dispersion relation and\n",
    "we will compare the *numerical dispersion relation* and the exact, continuous\n",
    "*analytic dispersion relation*. Both the time step and the space step\n",
    "(and as we’ll see below the grid) affect the accuracy. Here we will only\n",
    "consider the effect of the space step. So, consider the numerical\n",
    "dispersion relation assuming $dt \\rightarrow 0$ (reproduced here from\n",
    "([Continuous Time, Discretized Space Dispersion Relation](#lab7:eq:numerDispSpace)))\n",
    "$$\\omega^2 = 4 gH \\frac {\\sin^2(kd/2)}{d^2}$$ \n",
    "with the exact, continuous\n",
    "dispersion relation ([Analytic Dispersion Relation](#lab7:eq:disp)) $$\\omega^2 = gHk^2$$\n",
    "\n",
    "We can plot the two dispersion relations as functions of $kd$, The graph\n",
    "is shown in Figure [Simple Accuracy](#lab7:fig:simpleaccuracy)."
   ]
  },
  {
   "cell_type": "code",
   "execution_count": null,
   "metadata": {},
   "outputs": [],
   "source": [
    "Image(filename='images/simple_accuracy.png',width='50%')"
   ]
  },
  {
   "cell_type": "markdown",
   "metadata": {},
   "source": [
    "<div id='lab7:fig:simpleaccuracy'>\n",
    "<b>Figure Simple Accuracy</b>\n",
    "</div>\n",
    "\n",
    "We can see that the accuracy is good for long waves ($k$ small) but for\n",
    "short waves, near the limit of the grid resolutions, the discrete\n",
    "frequency is too small. As the phase speed is ${\\omega}/{k}$, the phase\n",
    "speed is also too small and most worrying, the group speed\n",
    "${\\partial \\omega}/\n",
    "{\\partial k}$ goes to zero!"
   ]
  },
  {
   "cell_type": "markdown",
   "metadata": {},
   "source": [
    "### Choosing a Grid\n",
    "\n",
    "#### No variation in y\n",
    "[no-variation-in-y-2.unnumbered]:(#No-variation-in-y)\n",
    "\n",
    "For the simple case above, there is little choice in grid. Let’s\n",
    "consider the more complicated case, $f \\not = 0$. Then $v \\not = 0$ and\n",
    "we have to choose where on the grid we wish to put $v$. There are two\n",
    "choices:"
   ]
  },
  {
   "cell_type": "code",
   "execution_count": null,
   "metadata": {},
   "outputs": [],
   "source": [
    "Image(filename='images/simple_grid1.png',width='50%')"
   ]
  },
  {
   "cell_type": "code",
   "execution_count": null,
   "metadata": {},
   "outputs": [],
   "source": [
    "Image(filename='images/simple_grid2.png',width='50%')"
   ]
  },
  {
   "cell_type": "markdown",
   "metadata": {},
   "source": [
    "<div id='lab7:fig:simplegrids'>\n",
    "<b>Figure Two Simple Grids</b>\n",
    "</div>\n",
    "\n",
    "For each of these, we can calculate the discrete dispersion relation\n",
    "discussed above.\n",
    "\n",
    "For grid 1\n",
    "$$\\omega ^2 = f^2 \\cos^2(\\frac{kd}{2}) + \\frac{4gH \\sin^2(\\frac{kd}{2})}{d^2}$$\n",
    "\n",
    "### Problem Three\n",
    "[lab7:prob:grid2]:(#Problem-Three)\n",
    "\n",
    "Show that for grid 2\n",
    "$$\\omega ^2 = f^2  + \\frac{4gH \\sin^2(\\frac{kd}{2})}{d^2}$$\n",
    "\n",
    "We can plot the two dispersion relations as a function of $k$ given the\n",
    "ratio of $d/R$, where $d$ is the grid size and $R$ is the Rossby radius\n",
    "which is given by $$R = \\frac {\\sqrt{gH}}{f}.$$"
   ]
  },
  {
   "cell_type": "code",
   "execution_count": null,
   "metadata": {},
   "outputs": [],
   "source": [
    "accuracy2d.main(0.5)"
   ]
  },
  {
   "cell_type": "markdown",
   "metadata": {},
   "source": [
    "### Problem Four\n",
    "\n",
    "[lab7:prob:accurate]:(#Problem-Four)\n",
    "\n",
    "Which grid gives the best accuracy for $d=R/2$?\n",
    "Explain in what ways it is more accurate.\n",
    "\n",
    "### Problem Five\n",
    "\n",
    "[lab7:prob:noy]:(#Problem-Five)\n",
    "\n",
    "Modify *rain.py* to solve equations\n",
    "([No variation in y, first eqn](#lab7:sec:firsteq)), ([No variation in y, second eqn](#lab7:sec:secondeq)) and ([No variation in y, third eqn](#lab7:sec:thirdeq)) on the most accurate\n",
    "grid."
   ]
  },
  {
   "cell_type": "markdown",
   "metadata": {},
   "source": [
    "# End of Lab 7a and Beginning of Lab 7b #"
   ]
  },
  {
   "cell_type": "markdown",
   "metadata": {},
   "source": [
    "## Full Equations\n",
    "[Full-Equations]:(#Full-Equations)\n",
    "\n",
    "In order to solve the full equations\n",
    "([Full Equations, Eqn 1](#lab7:eq:swea)), ([Full Equations, Eqn 2](#lab7:eq:sweb)) and ([Full Equations, Eqn 3](#lab7:eq:swec)) numerically, we need to\n",
    "discretize in 3 dimensions, two in space and one in time.\n",
    " [Mesinger and Arakawa, 1976](#Ref:MesingerArakawa) introduced [five different spatial discretizations](http://clouds.eos.ubc.ca/~phil/numeric/labs/lab7/lab7_files/images/allgrid.gif).\n",
    " \n",
    " \n",
    "Consider first the most obvious choice an\n",
    "unstaggered grid or Arakawa A grid, shown in Figure [Arakawa A Grid](#lab7:fig:gridA). We\n",
    "might expect, from the studies above, that an unstaggered grid may not\n",
    "be the best choice. The grid A is not two de-coupled grids because of\n",
    "weak coupling through the Coriolis force. However, we will see that this\n",
    "grid is not as accurate as some of the staggered grids (B, C, D and E)."
   ]
  },
  {
   "cell_type": "code",
   "execution_count": null,
   "metadata": {},
   "outputs": [],
   "source": [
    "Image(filename='images/grid1.png',width='50%')"
   ]
  },
  {
   "cell_type": "markdown",
   "metadata": {},
   "source": [
    "<div id='lab7:fig:gridA'>\n",
    "<b>Figure Arakawa A Grid.</b>\n",
    "</div>\n",
    "\n",
    "As the problem becomes more complicated, we need to simplify the\n",
    "notation; hence define a discretization operator:\n",
    "$$(\\delta_x \\alpha)_{(m,n)} \\equiv \\frac 1 {2d} ( \\alpha_{m+1,n} - \\alpha_{m-1,n} )$$ \n",
    "\n",
    "where $d$ is the grid spacing in both the $x$ and\n",
    "$y$ directions. Note that this discretization is the same centered\n",
    "difference we have used throughout this lab.\n",
    "\n",
    "The finite difference approximation to the full shallow water equations\n",
    "on the A grid becomes: \n",
    "$$\\frac{\\partial u}{\\partial t} = -g \\delta_x h + fv$$\n",
    "$$\\frac{\\partial v}{\\partial t} = -g \\delta_y h - fu$$ \n",
    "$$\\frac{\\partial h}{\\partial t} = -H (\\delta_x u + \\delta_y v)$$\n",
    "As before, consider a centre difference scheme (leap-frog method) for\n",
    "the time step as well, so that\n",
    "$$\\frac{\\partial u}{\\partial t}(t) = \\frac {u(t+1)-u(t-1)}{2 dt}$$ \n",
    "Putting this together with the spatial scheme we have:\n",
    "<a name=\"eq:numericalGridA\"></a>\n",
    "(Numerical Scheme: Grid A)\n",
    "$$\\frac {u(t+1)-u(t-1)}{2 dt} = -g \\delta_x h(t) + fv(t)$$\n",
    "$$\\frac{v(t+1)-v(t-1)}{2 dt} = -g \\delta_y h(t) - fu(t)$$\n",
    "$$\\frac{h(t+1)-h(t-1)}{2 dt} = -H (\\delta_x u(t) + \\delta_y v(t))$$ \n",
    "Each of these equations can be rearranged to give $u(t+1)$, $v(t+1)$ and\n",
    "$h(t+1)$, respectively. Then given the values of the three variables at\n",
    "every grid point at two times, ($t$ and $t-1$), these three equations\n",
    "allow you to calculate the updated values, the values of the variables\n",
    "at $t+1$. Once again, the following questions arise regarding the\n",
    "scheme:\n",
    "\n",
    "-   **Is it stable?**\n",
    "\n",
    "-   **Is it accurate?**"
   ]
  },
  {
   "cell_type": "markdown",
   "metadata": {},
   "source": [
    "### Stability\n",
    "\n",
    "To determine the stability of the scheme, we need to repeat the analysis\n",
    "of section [Stability](#Stability:-the-CFL-condition) for the 2 spatial dimensions used here. The\n",
    "first step is to assume a form of the solutions: \n",
    "<div id='eq:zdis'>\n",
    "$$\\begin{aligned}\n",
    "z_{mnp} &=& {\\cal R}e \\{ {\\cal Z} \\exp [i(kx + \\ell y - \\omega t)] \\}\\\\\n",
    "&=& {\\cal R}e \\{ {\\cal Z} \\exp [i(kmd + \\ell n d- \\omega p\\, dt)] \\} \\nonumber\\end{aligned}$$\n",
    "</div>\n",
    "where $z$ represents any of $u$, $v$ and $h$ and we have let $x=md$,\n",
    "$y=nd$ and $t=p\\,dt$. Substitution into ([Numerical Scheme: Grid A](#eq:numericalGridA)) gives three algebraic equation in\n",
    "${\\cal U}$, ${\\cal V}$ and ${\\cal H}$: $$\\left[\n",
    "\\begin{array}{ccc} - i \\sin(\\omega dt)/ dt & - f & i g \\sin(kd)/d \\\\\n",
    "f & - i \\sin(\\omega dt)/ dt & i g \\sin(\\ell d)/d \\\\\n",
    "i H \\sin(kd)/d &  i H \\sin(\\ell d)/d &  -i \\sin(\\omega \\, dt)/ dt \\\\\n",
    "\\end{array}\n",
    "\\right]\n",
    "\\left[\n",
    "\\begin{array}{c} {\\cal U}\\\\ {\\cal V} \\\\ {\\cal H}\\\\ \n",
    "\\end{array} \\right]\n",
    "= 0.$$\n",
    "\n",
    "Setting the determinate to zero gives the dispersion relation:\n",
    "<div id='lab7:eq:full:numDisp'>\n",
    "(Full Numerical Dispersion Relation)\n",
    "$$\n",
    "\\frac {\\sin^2(\\omega\\,dt)}{dt^2} = f^2 + \\frac{gH}{d^2} \\left( \\sin^2(kd) + \\sin^2(\\ell d) \\right)$$\n",
    "</div>\n",
    "Still following section [Stability](#Stability:-the-CFL-condition), let\n",
    "$\\lambda = \\exp (i \\omega\\, dt)$ and let\n",
    "$q^2 = f^2 + {gH}/{d^2} \\left( \\sin^2(kd) + \\sin^2(\\ell d) \\right)$,\n",
    "substitution into ([Full Numerical Dispersion Relation](#lab7:eq:full:numDisp)) gives\n",
    "$$-(\\lambda-1/\\lambda)^2 = 4 q^2 dt^2$$ or equation ([Lambda Eqn](#lab7:eq:lambda))\n",
    "again. For stability $\\lambda$ must be less than 1, so\n",
    "$$1 > q^2 dt^2 = {dt^2} \\left(f^2 + {gH}/{d^2} \\left( \\sin^2(kd) + \\sin^2(\\ell d) \\right)\n",
    "\\right)$$ The sines take their maximum values at $k=\\pi/(2d)$ and\n",
    "$\\ell=\\pi/(2d)$ giving $$dt^2 < \\frac{1}{f^2 + 2 gH/d^2}$$ This is the\n",
    "CFL condition for the full equations on the Arakawa A grid. Note that\n",
    "the most unstable mode moves at $45^o$ to the grid."
   ]
  },
  {
   "cell_type": "code",
   "execution_count": null,
   "metadata": {},
   "outputs": [],
   "source": [
    "Image(filename='images/fourgrids.png', width='80%')"
   ]
  },
  {
   "cell_type": "markdown",
   "metadata": {},
   "source": [
    "<a name=\"FigureFourGrids\"></a>\n",
    "<b>Figure Four More Grids.</b> Note that E is simply a rotation of grid B by $45^\\circ$.\n",
    "\n",
    "\n",
    "### Problem Six\n",
    "\n",
    "[lab7:prob:stability~2~d]:(#Problem-Six)\n",
    "\n",
    "Use the interactive example below to investigate stability of the various grids.  Calculate the stability for each grids A, B, and C.  Find the dt for stability (to one significant figure) given $f = 1 \\times 10^{-4}$s$^{-1}$, $g = 10$ m s$^{-2}$, $H = 4000$ m and $dx = 20$ km. Is it the same for all four grids? Why not? "
   ]
  },
  {
   "cell_type": "code",
   "execution_count": null,
   "metadata": {},
   "outputs": [],
   "source": [
    "# grid A is grid 1, grid B is grid 2 and and grid C is grid 3\n",
    "# ngrid is the number of grid points in x and y\n",
    "# dt is the time step in seconds\n",
    "# T is the time plotted is seconds to 4*3600 is 4 hours\n",
    "interactive1.interactive1(grid=3, ngrid=11, dt=150, T=4*3600)"
   ]
  },
  {
   "cell_type": "markdown",
   "metadata": {},
   "source": [
    "### Accuracy\n",
    "[accuracy]:(#Accuracy)\n",
    "\n",
    "To determine the accuracy of the spatial discretization, we will compare\n",
    "the *numerical dispersion relation* ([Full Numerical Dispersion Relation](#lab7:eq:full:numDisp)) for\n",
    "$dt \\rightarrow 0$ $$\\omega^2 = f^2 + gH \\frac {\\sin^2(kd)}{d^2} +\n",
    "gH \\frac {\\sin^2 (\\ell d)}{d^2}$$ with the exact, *continuous dispersion\n",
    "relation* \n",
    "<div id='lab7:eq:full_disp'>\n",
    "(Full Analytic Dispersion Relation)\n",
    "$$\n",
    "\\omega^2 = f^2 + gH(k^2+\\ell^2)$$\n",
    "</div>\n",
    "\n",
    "We can plot the two dispersion relations as functions of $k$ and $\\ell$,\n",
    "given the ratio of $d/R$, where $d$ is the grid size and $R$ is the\n",
    "Rossby radius defined in the previous section. For example, the exact\n",
    "$\\omega$ and its discrete approximation, using Grid A and $d/R = 1/2$,\n",
    "can be compared in Figure [Accuracy Comparison](#lab7:fig:accuracy-demo)."
   ]
  },
  {
   "cell_type": "code",
   "execution_count": null,
   "metadata": {},
   "outputs": [],
   "source": [
    "Image(filename='images/accuracy_demo.png',width='60%')"
   ]
  },
  {
   "cell_type": "markdown",
   "metadata": {},
   "source": [
    "<div id='lab7:fig:accuracy-demo'>\n",
    "<b>Figure Accuracy Comparison:</b> A comparison of the exact $\\omega$ and the discrete approximation\n",
    "using Grid A and with $d/R=1/2$.\n",
    "</div>\n",
    "\n",
    "It is easy to see that the Grid A approximation is not accurate enough.\n",
    "There are a number of other possibilities for grids, all of which\n",
    "*stagger* the unknowns; that is, different variables are placed at\n",
    "different spatial positions as discussed in\n",
    "section [Staggered Grids](#Staggered-Grids).\n",
    "\n",
    "Four other grids, which are known as [Mesinger and Arakawa](#Ref:MesingerArakawa) B, C, D and E\n",
    "grids as shown above [Figure Four More Grids](#FigureFourGrids). "
   ]
  },
  {
   "cell_type": "markdown",
   "metadata": {},
   "source": [
    "To work with these grids, we must introduce an averaging operator,\n",
    "defined in terms of *half-points* on the grid:\n",
    "$$\\overline{\\alpha}_{mn}^{x} = \\frac{\\alpha_{m+\\frac{1}{2},n} + \\alpha_{m-\\frac{1}{2},n}}{2}$$\n",
    "and modify the difference operator\n",
    "$$(\\delta_{x}\\alpha)_{mn} = \\frac{\\alpha_{m+\\frac{1}{2},n} -\n",
    "  \\alpha_{m-\\frac{1}{2},n}}{d}$$\n",
    "\n",
    "### Problem Seven\n",
    "\n",
    "[lab7:prob:finite~d~ifference~f~orm]:(#Problem-Seven)\n",
    "\n",
    "A.  For grid B, write down the finite difference form of the shallow\n",
    "    water equations.\n",
    "\n",
    "B.  For grid C, write down the finite difference form of the shallow\n",
    "    water equations.\n",
    "\n",
    "C.  For grid D, write down the finite difference form of the shallow\n",
    "    water equations.\n",
    "\n",
    "The dispersion relation for each grid can be found in a manner analgous\n",
    "to that for the A grid. For the B grid the dispersion relation is\n",
    "$$\\left( \\frac {\\omega}{f} \\right)^2\n",
    "= 1 + 4 \\left( \\frac {R}{d} \\right)^2 \\left( \\sin^2 \\frac {k d}{2}\\cos^2 \\frac{\\ell d}{2} + \\cos^2 \\frac {k d}{2}\\sin^2 \\frac{\\ell d}{2} \\right)$$\n",
    "and for the C grid it is $$\\left( \\frac {\\omega}{f} \\right)^2\n",
    "= \\cos^2 \\frac {k d}{2} \\cos^2 \\frac{\\ell d}{2}  + 4 \\left( \\frac {R}{d} \\right)^2 \\left( \\sin^2 \\frac {k d}{2} + \\sin^2 \\frac {\\ell d}{2} \\right)$$"
   ]
  },
  {
   "cell_type": "markdown",
   "metadata": {},
   "source": [
    "### Problem Eight\n",
    "[lab7:prob:disp~D~]:(#Problem-Eight)\n",
    "\n",
    "Find the dispersion relation for the D grid.\n",
    "\n",
    "In the interactive exercise below, you will enter the dispersion for\n",
    "each of the grids. Study each plot carefully for accuracy of phase and\n",
    "group speed."
   ]
  },
  {
   "cell_type": "code",
   "execution_count": null,
   "metadata": {},
   "outputs": [],
   "source": [
    "def disp_analytic(kd, ld, Rod=0.5):\n",
    "    Omegaof = 1 + Rod**2 * (kd**2 + ld**2)\n",
    "    return Omegaof\n",
    "# define disp_A, disp_B, disp_C here and run the cell"
   ]
  },
  {
   "cell_type": "code",
   "execution_count": null,
   "metadata": {},
   "outputs": [],
   "source": [
    "# replace the second disp_analytic with one of your numerical dispersion functions, e.g. disp_A\n",
    "dispersion_2d.dispersion_2d(disp_analytic, disp_analytic, Rod=0.5)"
   ]
  },
  {
   "cell_type": "markdown",
   "metadata": {},
   "source": [
    "### Problem Nine\n",
    "[lab7:prob:accuracy]:(#Problem-Nine)\n",
    "\n",
    "A.  For $R/d = 2$ which grid gives the most accurate solution?  As well as the closeness of fit of $\\omega/f$, also consider the group speed (gradient of the curve).  The group speed is the speed at which wave energy propagates. \n",
    "\n",
    "B.  For $R/d = 0.2$ which grid gives the most accurate solution?  As well as the closeness of fit of $\\omega/f$, also consider the group speed (gradient of the curve).  The group speed is the speed at which wave energy propagates. "
   ]
  },
  {
   "cell_type": "markdown",
   "metadata": {},
   "source": [
    "## Details\n",
    "\n",
    "### Starting the Simulation Full Equations \n",
    "\n",
    "[lab7start]:(#Starting-the-Simulation:-Full-Equations)\n",
    "\n",
    "The *leap-frog scheme* requires values of $u$, $v$ and $h$ at step 1 as\n",
    "well as at step 0. However, the initial conditions only provide starting\n",
    "values at step 0, so we must find some other way to obtain values at\n",
    "step 1. There are various methods of obtaining the second set of\n",
    "starting values, and the code used in this laboratory uses a\n",
    "*predictor/corrector method* to obtain values at step 1 from the values\n",
    "at step 0. For the simple equations this process was discussed in\n",
    "section [Predictor-Corrector to Start](#Predictor-Corrector-to-Start). For the full equations the procedure goes\n",
    "as follows:\n",
    "\n",
    "-   the solution at step $1$ is predicted using a *forward Euler step*:\n",
    "    $$\\begin{array}{l}\n",
    "      u(1) = u(0) + dt (f v(0)-g \\delta_x h(0))\\\\\n",
    "      v(1) = v(0) + dt (-f u(0)-g \\delta_y h(0))\\\\\n",
    "      h(1) = h(0) + dt (-H(\\delta_x u(0) + \\delta_y v(0))) \n",
    "    \\end{array}$$\n",
    "\n",
    "-   then, step $\\frac{1}{2}$ is estimated by averaging step $0$ and the\n",
    "    predicted step $1$: $$\\begin{array}{l}  \n",
    "      u(1/2) = 1/2 (u(0)+u(1)) \\\\\n",
    "      v(1/2) = 1/2 (v(0)+v(1)) \\\\\n",
    "      h(1/2) = 1/2 (h(0)+h(1)) \n",
    "    \\end{array}$$\n",
    "\n",
    "-   finally, the step $1$ approximation is corrected using leap frog\n",
    "    from $0$ to $1$ (here, we use only a half time-step\n",
    "    $\\frac{1}{2} dt$): $$\\begin{array}{l}\n",
    "      u(1) = u(0) + dt (f v(1/2)-g\\delta_x h(1/2)) \\\\\n",
    "      v(1) = v(0) + dt(-f u(1/2)-g\\delta_y h(1/2)) \\\\\n",
    "      h(1) = h(0) + dt(-H (\\delta_x u(1/2)+\\delta_y v(1/2))) \n",
    "    \\end{array}$$\n",
    "\n",
    "### Initialization\n",
    "\n",
    "\n",
    "The initial conditions used for the stability demo for the full\n",
    "equations are Poincare waves as described in the physical example in\n",
    "Section [Physical Example, Poincaré Waves](#Physical-Example,-Poincar%C3%A9-Waves).\n",
    "\n",
    "Assuming a surface height elevation $$h = \\cos (kx+\\ell y)$$ \n",
    "equations\n",
    "([Full Eqns, Eqn 1](#lab7:eq:swea),[Full Eqns, Eqn 2](#lab7:eq:sweb)) give \n",
    "$$\\begin{aligned}\n",
    "    u &=& \\frac {-1} {H(k^2+\\ell^2)} \\, \\left( k \\omega \\cos(kx+\\ell\n",
    "      y)+f \\ell \\sin(kx+\\ell y) \\right) \\nonumber \\\\\n",
    "    v &=& \\frac 1  {H(k^2+\\ell^2)} \\, \\left( -\\ell \\omega \\cos(kx+\\ell\n",
    "      y)+f k \\sin(kx+\\ell y)\\right) \\nonumber \\end{aligned}$$ \n",
    "where\n",
    "$\\ell$ and $k$ are selected by the user. It is assumed $g = 9.8$m/s$^2$,\n",
    "$H = 400$m and $f = 10^{-4}$/s. The value of the frequency $\\omega$ is\n",
    "given by the dispersion relation, ([Full Analytic Dispersion Relation](#lab7:eq:full_disp))."
   ]
  },
  {
   "cell_type": "markdown",
   "metadata": {},
   "source": [
    "### Boundary Conditions\n",
    "\n",
    "The boundary conditions used for the stability demo for the full\n",
    "equations are *“periodic”* in both x and y. Anything which propagates\n",
    "out the left hand side comes in the right hand side, *etc*. This\n",
    "condition forces a periodicity on the flow, the wavelengths of the\n",
    "simulated waves must be sized so that an integral number of waves fits\n",
    "in the domain.\n",
    "\n",
    "Specifically, for a $m \\times n$ grid, the boundary conditions for the\n",
    "variable $h$ along the right and left boundaries are \n",
    "$$\\begin{aligned}\n",
    "  h(i=1,j) &=& h(i=m-1,j)\\,\\,\\, {\\rm for}\\,\\,\\, j=2 \\,\\, {\\rm to} \\,\\,n-1\\\\ \\nonumber\n",
    "  h(i=m,j) &=& h(i=2,j) \\,\\,\\,  {\\rm for}\\,\\,\\, j=2 \\,\\, {\\rm to} \\,\\,n-1\n",
    " \\end{aligned}$$ and along the top and bottom boundaries\n",
    "$$\\begin{aligned}\n",
    "  h(i,j=1) &=& h(i,j=n-1)\\,\\,\\, {\\rm for} \\,\\,\\, i=2 \\,\\, {\\rm to} \\,\\,m-1\\\\ \\nonumber\n",
    "  h(i,j=n) &=& h(i,j=2)  \\,\\,\\, {\\rm for} \\,\\,\\, i=2 \\,\\, {\\rm to} \\,\\,m-1 .\n",
    " \\end{aligned}$$ The conditions for $u$ and $v$ are identical."
   ]
  },
  {
   "cell_type": "markdown",
   "metadata": {},
   "source": [
    "### Computational Mode \n",
    "[lab7computational_mode]:(#Computational-Mode)\n",
    "\n",
    "In section [Stability](#Stability) it was determined that there are four\n",
    "oscillatory modes. Consider letting $dt \\rightarrow 0$ in\n",
    "([Lambda Eqn](#lab7:eq:lambda)). Two of the roots give $+1$ and two roots give $-1$.\n",
    "\n",
    "Consider the variable $u$ at time $p \\, dt$ and one time step later at\n",
    "time $(p+1) \\, dt$.\n",
    "$$\\frac{u_{m(p+1)}}{u_{mp}} = \\frac {{\\cal R}e \\{ {\\cal U} \\exp [i(kmd - \\omega (p+1)\\, dt)] \\} } {{\\cal R}e \\{ {\\cal U} \\exp [i(kmd - \\omega p\\, dt)] \\} } = \\exp(i \\omega \\, dt) = \\lambda$$\n",
    "Thus, $\\lambda$ gives the ratio of the velocity at the next time step to\n",
    "its value at the current time step. Therefore, as the time step gets\n",
    "very small, physically we expect the system not to change much between\n",
    "steps. In the limit of zero time step, the value of $u$ or $h$ should\n",
    "not change between steps; that is $\\lambda$ should be $1$.\n",
    "\n",
    "A value of $\\lambda = -1$ implies $u$ changes sign between each step, no\n",
    "matter how small the step. This mode is not a physical mode of\n",
    "oscillation, but rather a *computational mode*, which is entirely\n",
    "non-physical. It arises from using a centre difference scheme in time\n",
    "and not staggering the grid in time. There are schemes that avoid\n",
    "introducing such spurious modes (by staggering in time), but we won’t\n",
    "discuss them here (for more information, see [Mesinger and Arakawa, 1976](#Ref:MesingerArakawa)\n",
    " [Ch. II]). However, the usual practice in geophysical fluid dynamics is\n",
    "to use the leap-frog scheme anyway (since it is second order in time)\n",
    "and find a way to keep the computational modes “small”, in some sense.\n",
    "\n",
    "For a reasonably small value of $dt$, the computational modes have\n",
    "$\\lambda \\approx -1$. Therefore, these modes can be eliminated almost\n",
    "completely by averaging two adjacent time steps. To understand why this\n",
    "is so, think of a computational mode $\\hat{u}_{mp}$ at time level $p$,\n",
    "which is added to its counterpart,\n",
    "$\\hat{u}_{m(p+1)} \\approx -\\hat{u}_{mp}$ at the next time step: *their\n",
    "sum is approximately zero!* For the code in this lab, it is adequate to\n",
    "average the solution in this fashion only every 101 time steps (though\n",
    "larger models may need to be averaged more often). After the averaging\n",
    "is performed, the code must be restarted; see [Section on Starting](#Starting-the-Simulation-Full-Equations)."
   ]
  },
  {
   "cell_type": "markdown",
   "metadata": {},
   "source": [
    "## Glossary \n",
    "\n",
    "**Poincare waves:** These are waves that obey the dispersion relation $\\omega ^2=f^2+k^2 c^2$, where $c$ is the wave speed, $k$ is the magnitude of the wavenumber vector, $f$ is the Coriolis frequency, and $\\omega$ is the wave frequency.\n",
    "\n",
    "**CFL condition:** named after Courant, Friedrichs and Levy, who first derived the relationship. This is a stability condition for finite difference schemes (for propagation problems) that corresponds physically to the idea that the continuous domain of dependence must contain the corresponding domain of dependence for the discrete problem.\n",
    "\n",
    "**dispersive wave:** Any wave whose speed varies with the wavenumber. As a consequence, waves of different wavelengths that start at the same location will move away at different speeds, and hence will spread out, or *disperse*.\n",
    "\n",
    "**dispersion relation:** For dispersive waves, this relation links the frequency (and hence also the phase speed) to the wavenumber, for a given wave. See also, *dispersive wave*.\n",
    "\n",
    "**dispersive wave:** Any wave whose speed varies with the wavenumber. As a consequence, waves of different wavelengths that start at the same location will move away at different speeds, and hence will spread out, or *disperse*.\n",
    "\n",
    "**dispersion relation:** For dispersive waves, this relation links the frequency (and hence also the phase speed) to the wavenumber, for a given wave. See also, *dispersive wave*.\n",
    "\n",
    "**staggered grid:** This refers to a problem with several unknown functions, where the discrete unknowns are not located at same grid points; rather, they are *staggered* from each other. For example, it is often the case that in addition to the grid points themselves, some uknowns will be placed at the center of grid cells, or at the center of the sides of the grid cells."
   ]
  },
  {
   "cell_type": "markdown",
   "metadata": {},
   "source": [
    "**leap-frog scheme:** This term is used to refer to time discretization schemes that use the centered difference formula to discretize the first time derivative in PDE problems. The resulting difference scheme relates the solution at the next time step to the solution *two* time steps previous. Hence, the even- and odd-numbered time steps are linked together, with the resulting computation performed in a *leap-frog* fashion.\n",
    "\n",
    "**periodic boundary conditions:** Spatial boundary conditions where the value of the solution at one end of the domain is required to be equal to the value on the other end (compare to dirichlet boundary values, where the the solution at both ends is fixed at a specific value or values). This enforces periodicity on the solution, and in terms of a fluid flow problem, these conditions can be thought of more intuitively as requiring that any flow out of the one boundary must return through the corresponding boundary on the other side.\n",
    "\n",
    "**computational mode:** When performing a modal analysis of a numerical scheme, this is a mode in the solution that does not correspond to any of the \"real\" (or physical) modes in the continuous problem. It is an artifact of the discretization process only, and can sometimes lead to spurious computational results (for example, with the leap-frog time stepping scheme)."
   ]
  },
  {
   "cell_type": "markdown",
   "metadata": {},
   "source": [
    "<a name=\"References\"></a>\n",
    "\n",
    "## References\n",
    "\n",
    "<a name=\"Ref:Cushman-Roisin\"></a>\n",
    "Cushman-Roisin, B., 1994: Introduction to Geophysical Fluid Dynamics, Prentice Hall.\n",
    "\n",
    "<a name=\"Ref:Gill\"></a>\n",
    "Gill, A.E., 1982: Atmosphere-Ocean Dynamics, Academic Press, Vol. 30 International Geophysics Series, New York. \n",
    "\n",
    "<a name=\"Ref:MesingerArakawa\"></a>\n",
    "Mesinger, F. and A. Arakawa, 1976: Numerical Methods Used in Atmospheric Models,GARP Publications Series No.~17, Global Atmospheric Research Programme.\n",
    "\n",
    "<a name=\"Ref:PondPickard\"></a>\n",
    "Pond, G.S. and G.L. Pickard, 1983: Introductory Dynamic Oceanography, Pergamon, Great Britain, 2nd Edition.\n",
    "\n",
    "<a name=\"Ref:Pressetal\"></a>\n",
    "Press, W.H., S.A. Teukolsky, W.T. Vetterling and B.P. Flannery, 1992: Numerical Recipes in FORTRAN: The Art of Scientific Computing, Cambridge University Press, Cambridge, 2n Edition.\n",
    "\n",
    "\n"
   ]
  },
  {
   "cell_type": "code",
   "execution_count": null,
   "metadata": {},
   "outputs": [],
   "source": []
  }
 ],
 "metadata": {
  "jupytext": {
   "cell_metadata_filter": "all",
   "encoding": "# -*- coding: utf-8 -*-",
   "formats": "ipynb,py:percent",
   "notebook_metadata_filter": "all,-language_info,-toc,-latex_envs"
  },
  "kernelspec": {
   "display_name": "Python 3 (ipykernel)",
   "language": "python",
   "name": "python3"
  },
  "language_info": {
   "codemirror_mode": {
    "name": "ipython",
    "version": 3
   },
   "file_extension": ".py",
   "mimetype": "text/x-python",
   "name": "python",
   "nbconvert_exporter": "python",
   "pygments_lexer": "ipython3",
   "version": "3.12.1"
  },
  "latex_envs": {
   "LaTeX_envs_menu_present": true,
   "autoclose": false,
   "autocomplete": true,
   "bibliofile": "biblio.bib",
   "cite_by": "apalike",
   "current_citInitial": 1,
   "eqLabelWithNumbers": true,
   "eqNumInitial": 1,
   "hotkeys": {
    "equation": "meta-9"
   },
   "labels_anchors": false,
   "latex_user_defs": false,
   "report_style_numbering": false,
   "user_envs_cfg": false
  },
  "nbsphinx": {
   "execute": "never"
  },
  "toc": {
   "base_numbering": 1,
   "nav_menu": {},
   "number_sections": true,
   "sideBar": true,
   "skip_h1_title": false,
   "title_cell": "Table of Contents",
   "title_sidebar": "Contents",
   "toc_cell": false,
   "toc_position": {
    "height": "calc(100% - 180px)",
    "left": "10px",
    "top": "150px",
    "width": "255.625px"
   },
   "toc_section_display": "block",
   "toc_window_display": true
  }
 },
 "nbformat": 4,
 "nbformat_minor": 2
}
