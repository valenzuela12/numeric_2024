{
 "cells": [
  {
   "cell_type": "markdown",
   "metadata": {},
   "source": [
    "Assignment Lab 7b"
   ]
  },
  {
   "cell_type": "markdown",
   "metadata": {},
   "source": [
    "Use the interactive1.py code in numlabs/lab7 for this question.\n",
    "\n",
    "\n",
    "If your experience with the Coriolis force is minimal, you can chose the\n",
    "“small” option. See the doc string for reasonable parameters.\n",
    "\n",
    "\n",
    "The code solves the high water level in the center (similar to rain.py)\n",
    "in two-dimensions with periodic boundary conditions on a flat bottom.\n",
    "The depth is set in the functions find_depth*. You will use the C-grid and edit the\n",
    "find_depth3 function as described below.\n",
    "\n",
    "\n",
    "(a) Choose an interesting but smooth topography (remembering that the domain is periodic in both space dimensions). Implement it in find_depth3 correctly given the grid-C staggering.\n",
    "\n",
    "\n",
    "(b) Run your new code. Discuss any other changes you make to the code. You may want to change what and when it plots.\n",
    "\n",
    "\n",
    "(c) Explain the differences that the bottom topography makes."
   ]
  },
  {
   "cell_type": "code",
   "execution_count": null,
   "metadata": {},
   "outputs": [],
   "source": []
  }
 ],
 "metadata": {
  "language_info": {
   "name": "python"
  }
 },
 "nbformat": 4,
 "nbformat_minor": 2
}
